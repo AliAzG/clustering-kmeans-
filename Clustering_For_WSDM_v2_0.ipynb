{
  "nbformat": 4,
  "nbformat_minor": 0,
  "metadata": {
    "colab": {
      "name": "DM_Project_WSDM_v2.0.ipynb",
      "version": "0.3.2",
      "provenance": [],
      "collapsed_sections": []
    },
    "kernelspec": {
      "name": "python3",
      "display_name": "Python 3"
    },
    "accelerator": "GPU"
  },
  "cells": [
    {
      "metadata": {
        "id": "4C0Q3XvkRaWB",
        "colab_type": "text"
      },
      "cell_type": "markdown",
      "source": [
        "# **علی امین زاده گوهری - ۹۶۴۴۰۱۰۳۷۴ - پروژه داده کاوی**"
      ]
    },
    {
      "metadata": {
        "id": "xJSQ0c97EevP",
        "colab_type": "code",
        "colab": {}
      },
      "cell_type": "code",
      "source": [
        ""
      ],
      "execution_count": 0,
      "outputs": []
    },
    {
      "metadata": {
        "id": "QxyVaplGEglP",
        "colab_type": "code",
        "colab": {}
      },
      "cell_type": "code",
      "source": [
        ""
      ],
      "execution_count": 0,
      "outputs": []
    },
    {
      "metadata": {
        "id": "JCZipUErEkzA",
        "colab_type": "code",
        "colab": {}
      },
      "cell_type": "code",
      "source": [
        ""
      ],
      "execution_count": 0,
      "outputs": []
    },
    {
      "metadata": {
        "id": "nFH0QMWWEvAD",
        "colab_type": "code",
        "colab": {}
      },
      "cell_type": "code",
      "source": [
        ""
      ],
      "execution_count": 0,
      "outputs": []
    },
    {
      "metadata": {
        "id": "odY0684cHhSY",
        "colab_type": "text"
      },
      "cell_type": "markdown",
      "source": [
        "# **ایمپورت کردن پیکجهای مورد نیاز**"
      ]
    },
    {
      "metadata": {
        "id": "kUZ4EvQqF4ZB",
        "colab_type": "code",
        "outputId": "6ac7116a-7e4f-4d1c-fd4f-306abdcb9321",
        "colab": {
          "base_uri": "https://localhost:8080/",
          "height": 109
        }
      },
      "cell_type": "code",
      "source": [
        "import pandas as pd\n",
        "import numpy as np\n",
        "from IPython import display\n",
        "from matplotlib import cm\n",
        "from matplotlib import gridspec\n",
        "from matplotlib import pyplot as plt\n",
        "import numpy as np\n",
        "import pandas as pd\n",
        "from sklearn import metrics\n",
        "import seaborn as sns \n",
        "import datetime as dt\n",
        "from sklearn.preprocessing import Imputer\n",
        "imputer  = Imputer(missing_values = 'NaN', strategy = 'mean', axis = 0)\n",
        "from sklearn.metrics import roc_curve, auc, roc_auc_score\n",
        "from sklearn.preprocessing import normalize\n",
        "from sklearn.metrics import pairwise_distances\n",
        "from scipy.sparse import csr_matrix\n",
        "import time\n",
        "import os\n",
        "import sys\n",
        "from matplotlib import style\n",
        "style.use(\"ggplot\")\n",
        "from sklearn.cluster import KMeans\n",
        "from sklearn.preprocessing import StandardScaler\n",
        "from sklearn.decomposition import PCA\n",
        "from sklearn.model_selection import train_test_split\n",
        "from sklearn.discriminant_analysis import LinearDiscriminantAnalysis as LDA\n",
        "from sklearn import cross_validation, grid_search, metrics, ensemble\n",
        "import lightgbm as lgb\n",
        "import xgboost as xgb\n",
        "from sklearn.neighbors import KNeighborsClassifier\n",
        "from sklearn.model_selection import cross_val_score\n",
        "from sklearn import cluster, datasets, mixture"
      ],
      "execution_count": 0,
      "outputs": [
        {
          "output_type": "stream",
          "text": [
            "/usr/local/lib/python3.6/dist-packages/sklearn/cross_validation.py:41: DeprecationWarning: This module was deprecated in version 0.18 in favor of the model_selection module into which all the refactored classes and functions are moved. Also note that the interface of the new CV iterators are different from that of this module. This module will be removed in 0.20.\n",
            "  \"This module will be removed in 0.20.\", DeprecationWarning)\n",
            "/usr/local/lib/python3.6/dist-packages/sklearn/grid_search.py:42: DeprecationWarning: This module was deprecated in version 0.18 in favor of the model_selection module into which all the refactored classes and functions are moved. This module will be removed in 0.20.\n",
            "  DeprecationWarning)\n"
          ],
          "name": "stderr"
        }
      ]
    },
    {
      "metadata": {
        "id": "JbvZsfbZHy-e",
        "colab_type": "text"
      },
      "cell_type": "markdown",
      "source": [
        "# **لود دیتاهای اولیه**"
      ]
    },
    {
      "metadata": {
        "id": "rFLDRiTtGIQF",
        "colab_type": "code",
        "colab": {}
      },
      "cell_type": "code",
      "source": [
        "data = pd.read_csv('/content/kaggle/train.csv', dtype={'msno' : 'category',\n",
        "                                                'source_system_tab' : 'category',\n",
        "                                                  'source_screen_name' : 'category',\n",
        "                                                  'source_type' : 'category',\n",
        "                                                  'target' : np.uint8,\n",
        "                                                  'song_id' : 'category'})\n",
        "\n",
        "\n",
        "songs = pd.read_csv('/content/kaggle/songs.csv', dtype={'genre_ids': 'category',\n",
        "                                                  'language' : 'category',\n",
        "                                                  'artist_name' : 'category',\n",
        "                                                  'composer' : 'category',\n",
        "                                                  'lyricist' : 'category',\n",
        "                                                  'song_id' : 'category'})\n",
        "\n",
        "\n",
        "\n",
        "members = pd.read_csv('/content/kaggle/members.csv', dtype={'city' : 'category',\n",
        "                                                      'bd' : np.uint8,\n",
        "                                                      'gender' : 'category',\n",
        "                                                      'registered_via' : 'category'},\n",
        "                     parse_dates=['registration_init_time','expiration_date'])\n",
        "\n",
        "\n",
        "\n",
        "song_extra_info = pd.read_csv('/content/kaggle/song_extra_info.csv')"
      ],
      "execution_count": 0,
      "outputs": []
    },
    {
      "metadata": {
        "id": "EgbBydnwIHE3",
        "colab_type": "text"
      },
      "cell_type": "markdown",
      "source": [
        "# **مرج کردن تمامی دیتاهای اولیه**"
      ]
    },
    {
      "metadata": {
        "id": "uSSzn7zNGM_i",
        "colab_type": "code",
        "colab": {}
      },
      "cell_type": "code",
      "source": [
        "data = data.merge(songs, how='left', on='song_id')\n",
        "data = data.merge(members, on='msno', how='left')\n",
        "data = data.merge(song_extra_info, how = 'left', on = 'song_id')"
      ],
      "execution_count": 0,
      "outputs": []
    },
    {
      "metadata": {
        "id": "C3xIiLKpIWNv",
        "colab_type": "text"
      },
      "cell_type": "markdown",
      "source": [
        "# **ساخت فیچرهای جدید مانند مدت زمان عضویت**"
      ]
    },
    {
      "metadata": {
        "id": "P-x7EzjKGT38",
        "colab_type": "code",
        "colab": {}
      },
      "cell_type": "code",
      "source": [
        "\n",
        "data['membership_days'] = data['expiration_date'] - data['registration_init_time']\n",
        "data['membership_days'] = data['membership_days'] / np.timedelta64(1, 'D')\n",
        "data['registration_year'] = data['registration_init_time'].dt.year\n",
        "data['registration_month'] = data['registration_init_time'].dt.month\n",
        "data['registration_date'] = data['registration_init_time'].dt.day\n",
        "data['expiration_year'] = data['expiration_date'].dt.year\n",
        "data['expiration_month'] = data['expiration_date'].dt.month\n",
        "data['expiration_date'] = data['expiration_date'].dt.day"
      ],
      "execution_count": 0,
      "outputs": []
    },
    {
      "metadata": {
        "id": "SOKn1GXaIjlM",
        "colab_type": "text"
      },
      "cell_type": "markdown",
      "source": [
        "# **تابع بدست آوردن سال ساخت آهنگ با استفاده از ستون isrc**"
      ]
    },
    {
      "metadata": {
        "id": "5qak4sg3GWsH",
        "colab_type": "code",
        "colab": {}
      },
      "cell_type": "code",
      "source": [
        "def isrc_to_year(isrc):\n",
        "    if type(isrc) == str:\n",
        "        if int(isrc[5:7]) > 17:\n",
        "            return 1900 + int(isrc[5:7])\n",
        "        else:\n",
        "            return 2000 + int(isrc[5:7])\n",
        "    else:\n",
        "        return np.nan"
      ],
      "execution_count": 0,
      "outputs": []
    },
    {
      "metadata": {
        "id": "t4PwVRgQGY3G",
        "colab_type": "code",
        "colab": {}
      },
      "cell_type": "code",
      "source": [
        "data['song_year'] = data['isrc'].apply(isrc_to_year)"
      ],
      "execution_count": 0,
      "outputs": []
    },
    {
      "metadata": {
        "id": "HOPBgBnTI__y",
        "colab_type": "text"
      },
      "cell_type": "markdown",
      "source": [
        "# **بدست آوردن تعداد پخش هر آهنگ با استفاده از آی دی موزیک**"
      ]
    },
    {
      "metadata": {
        "id": "2pphWKenGfzJ",
        "colab_type": "code",
        "colab": {}
      },
      "cell_type": "code",
      "source": [
        "_dict_count_song_played = {k: v for k, v in data['song_id'].value_counts().iteritems()}"
      ],
      "execution_count": 0,
      "outputs": []
    },
    {
      "metadata": {
        "id": "vRwRuL1yGic2",
        "colab_type": "code",
        "colab": {}
      },
      "cell_type": "code",
      "source": [
        "def count_song_played(x):\n",
        "    try:\n",
        "        return _dict_count_song_played[x]\n",
        "    except KeyError:\n",
        "            return 0"
      ],
      "execution_count": 0,
      "outputs": []
    },
    {
      "metadata": {
        "id": "f1khc0dUGkXG",
        "colab_type": "code",
        "colab": {}
      },
      "cell_type": "code",
      "source": [
        "data['times_played'] = data['song_id'].apply(count_song_played).astype(np.int64)"
      ],
      "execution_count": 0,
      "outputs": []
    },
    {
      "metadata": {
        "id": "Uzk2_-nlGuTO",
        "colab_type": "code",
        "colab": {}
      },
      "cell_type": "code",
      "source": [
        "#تابع شمارشگر ژانر برای هر آهنگ\n",
        "\n",
        "def genre_id_count(x):\n",
        "    if x == 'Unknown':\n",
        "        return 0\n",
        "    else:\n",
        "        return x.count('|') + 1"
      ],
      "execution_count": 0,
      "outputs": []
    },
    {
      "metadata": {
        "id": "TzOk1tueG1Q6",
        "colab_type": "code",
        "colab": {}
      },
      "cell_type": "code",
      "source": [
        "#تابع شمارشگر شاعران هر آهنگ\n",
        "\n",
        "def lyricist_count(x):\n",
        "    if x == 'Unknown':\n",
        "        return 0\n",
        "    else:\n",
        "        return sum(map(x.count, ['|', '/', '\\\\', ';'])) + 1\n",
        "    return sum(map(x.count, ['|', '/', '\\\\', ';']))"
      ],
      "execution_count": 0,
      "outputs": []
    },
    {
      "metadata": {
        "id": "E3qyLdrSG6kK",
        "colab_type": "code",
        "colab": {}
      },
      "cell_type": "code",
      "source": [
        "#تابع شمارشگر هر آهنگساز برای هر آهنگ\n",
        "\n",
        "def composer_count(x):\n",
        "    if x == 'Unknown':\n",
        "        return 0\n",
        "    else:\n",
        "        return sum(map(x.count, ['|', '/', '\\\\', ';'])) + 1"
      ],
      "execution_count": 0,
      "outputs": []
    },
    {
      "metadata": {
        "id": "nkRD22_m5Wv2",
        "colab_type": "code",
        "outputId": "e3fb98fa-8dc7-4aeb-ba05-94ec37dac1e0",
        "colab": {
          "base_uri": "https://localhost:8080/",
          "height": 491
        }
      },
      "cell_type": "code",
      "source": [
        "data.head()"
      ],
      "execution_count": 0,
      "outputs": [
        {
          "output_type": "execute_result",
          "data": {
            "text/html": [
              "<div>\n",
              "<style scoped>\n",
              "    .dataframe tbody tr th:only-of-type {\n",
              "        vertical-align: middle;\n",
              "    }\n",
              "\n",
              "    .dataframe tbody tr th {\n",
              "        vertical-align: top;\n",
              "    }\n",
              "\n",
              "    .dataframe thead th {\n",
              "        text-align: right;\n",
              "    }\n",
              "</style>\n",
              "<table border=\"1\" class=\"dataframe\">\n",
              "  <thead>\n",
              "    <tr style=\"text-align: right;\">\n",
              "      <th></th>\n",
              "      <th>msno</th>\n",
              "      <th>song_id</th>\n",
              "      <th>source_system_tab</th>\n",
              "      <th>source_screen_name</th>\n",
              "      <th>source_type</th>\n",
              "      <th>target</th>\n",
              "      <th>song_length</th>\n",
              "      <th>genre_ids</th>\n",
              "      <th>artist_name</th>\n",
              "      <th>composer</th>\n",
              "      <th>...</th>\n",
              "      <th>name</th>\n",
              "      <th>isrc</th>\n",
              "      <th>membership_days</th>\n",
              "      <th>registration_year</th>\n",
              "      <th>registration_month</th>\n",
              "      <th>registration_date</th>\n",
              "      <th>expiration_year</th>\n",
              "      <th>expiration_month</th>\n",
              "      <th>song_year</th>\n",
              "      <th>times_played</th>\n",
              "    </tr>\n",
              "  </thead>\n",
              "  <tbody>\n",
              "    <tr>\n",
              "      <th>0</th>\n",
              "      <td>FGtllVqz18RPiwJj/edr2gV78zirAiY/9SmYvia+kCg=</td>\n",
              "      <td>BBzumQNXUHKdEBOB7mAJuzok+IJA1c2Ryg/yzTF6tik=</td>\n",
              "      <td>explore</td>\n",
              "      <td>Explore</td>\n",
              "      <td>online-playlist</td>\n",
              "      <td>1</td>\n",
              "      <td>206471.0</td>\n",
              "      <td>359</td>\n",
              "      <td>Bastille</td>\n",
              "      <td>Dan Smith| Mark Crew</td>\n",
              "      <td>...</td>\n",
              "      <td>Good Grief</td>\n",
              "      <td>GBUM71602854</td>\n",
              "      <td>2103.0</td>\n",
              "      <td>2012</td>\n",
              "      <td>1</td>\n",
              "      <td>2</td>\n",
              "      <td>2017</td>\n",
              "      <td>10</td>\n",
              "      <td>2016.0</td>\n",
              "      <td>215</td>\n",
              "    </tr>\n",
              "    <tr>\n",
              "      <th>1</th>\n",
              "      <td>Xumu+NIjS6QYVxDS4/t3SawvJ7viT9hPKXmf0RtLNx8=</td>\n",
              "      <td>bhp/MpSNoqoxOIB+/l8WPqu6jldth4DIpCm3ayXnJqM=</td>\n",
              "      <td>my library</td>\n",
              "      <td>Local playlist more</td>\n",
              "      <td>local-playlist</td>\n",
              "      <td>1</td>\n",
              "      <td>284584.0</td>\n",
              "      <td>1259</td>\n",
              "      <td>Various Artists</td>\n",
              "      <td>NaN</td>\n",
              "      <td>...</td>\n",
              "      <td>Lords of Cardboard</td>\n",
              "      <td>US3C69910183</td>\n",
              "      <td>2301.0</td>\n",
              "      <td>2011</td>\n",
              "      <td>5</td>\n",
              "      <td>25</td>\n",
              "      <td>2017</td>\n",
              "      <td>9</td>\n",
              "      <td>1999.0</td>\n",
              "      <td>1</td>\n",
              "    </tr>\n",
              "    <tr>\n",
              "      <th>2</th>\n",
              "      <td>Xumu+NIjS6QYVxDS4/t3SawvJ7viT9hPKXmf0RtLNx8=</td>\n",
              "      <td>JNWfrrC7zNN7BdMpsISKa4Mw+xVJYNnxXh3/Epw7QgY=</td>\n",
              "      <td>my library</td>\n",
              "      <td>Local playlist more</td>\n",
              "      <td>local-playlist</td>\n",
              "      <td>1</td>\n",
              "      <td>225396.0</td>\n",
              "      <td>1259</td>\n",
              "      <td>Nas</td>\n",
              "      <td>N. Jones、W. Adams、J. Lordan、D. Ingle</td>\n",
              "      <td>...</td>\n",
              "      <td>Hip Hop Is Dead(Album Version (Edited))</td>\n",
              "      <td>USUM70618761</td>\n",
              "      <td>2301.0</td>\n",
              "      <td>2011</td>\n",
              "      <td>5</td>\n",
              "      <td>25</td>\n",
              "      <td>2017</td>\n",
              "      <td>9</td>\n",
              "      <td>2006.0</td>\n",
              "      <td>4</td>\n",
              "    </tr>\n",
              "    <tr>\n",
              "      <th>3</th>\n",
              "      <td>Xumu+NIjS6QYVxDS4/t3SawvJ7viT9hPKXmf0RtLNx8=</td>\n",
              "      <td>2A87tzfnJTSWqD7gIZHisolhe4DMdzkbd6LzO1KHjNs=</td>\n",
              "      <td>my library</td>\n",
              "      <td>Local playlist more</td>\n",
              "      <td>local-playlist</td>\n",
              "      <td>1</td>\n",
              "      <td>255512.0</td>\n",
              "      <td>1019</td>\n",
              "      <td>Soundway</td>\n",
              "      <td>Kwadwo Donkoh</td>\n",
              "      <td>...</td>\n",
              "      <td>Disco Africa</td>\n",
              "      <td>GBUQH1000063</td>\n",
              "      <td>2301.0</td>\n",
              "      <td>2011</td>\n",
              "      <td>5</td>\n",
              "      <td>25</td>\n",
              "      <td>2017</td>\n",
              "      <td>9</td>\n",
              "      <td>2010.0</td>\n",
              "      <td>1</td>\n",
              "    </tr>\n",
              "    <tr>\n",
              "      <th>4</th>\n",
              "      <td>FGtllVqz18RPiwJj/edr2gV78zirAiY/9SmYvia+kCg=</td>\n",
              "      <td>3qm6XTZ6MOCU11x8FIVbAGH5l5uMkT3/ZalWG1oo2Gc=</td>\n",
              "      <td>explore</td>\n",
              "      <td>Explore</td>\n",
              "      <td>online-playlist</td>\n",
              "      <td>1</td>\n",
              "      <td>187802.0</td>\n",
              "      <td>1011</td>\n",
              "      <td>Brett Young</td>\n",
              "      <td>Brett Young| Kelly Archer| Justin Ebach</td>\n",
              "      <td>...</td>\n",
              "      <td>Sleep Without You</td>\n",
              "      <td>QM3E21606003</td>\n",
              "      <td>2103.0</td>\n",
              "      <td>2012</td>\n",
              "      <td>1</td>\n",
              "      <td>2</td>\n",
              "      <td>2017</td>\n",
              "      <td>10</td>\n",
              "      <td>2016.0</td>\n",
              "      <td>412</td>\n",
              "    </tr>\n",
              "  </tbody>\n",
              "</table>\n",
              "<p>5 rows × 28 columns</p>\n",
              "</div>"
            ],
            "text/plain": [
              "                                           msno  \\\n",
              "0  FGtllVqz18RPiwJj/edr2gV78zirAiY/9SmYvia+kCg=   \n",
              "1  Xumu+NIjS6QYVxDS4/t3SawvJ7viT9hPKXmf0RtLNx8=   \n",
              "2  Xumu+NIjS6QYVxDS4/t3SawvJ7viT9hPKXmf0RtLNx8=   \n",
              "3  Xumu+NIjS6QYVxDS4/t3SawvJ7viT9hPKXmf0RtLNx8=   \n",
              "4  FGtllVqz18RPiwJj/edr2gV78zirAiY/9SmYvia+kCg=   \n",
              "\n",
              "                                        song_id source_system_tab  \\\n",
              "0  BBzumQNXUHKdEBOB7mAJuzok+IJA1c2Ryg/yzTF6tik=           explore   \n",
              "1  bhp/MpSNoqoxOIB+/l8WPqu6jldth4DIpCm3ayXnJqM=        my library   \n",
              "2  JNWfrrC7zNN7BdMpsISKa4Mw+xVJYNnxXh3/Epw7QgY=        my library   \n",
              "3  2A87tzfnJTSWqD7gIZHisolhe4DMdzkbd6LzO1KHjNs=        my library   \n",
              "4  3qm6XTZ6MOCU11x8FIVbAGH5l5uMkT3/ZalWG1oo2Gc=           explore   \n",
              "\n",
              "    source_screen_name      source_type  target  song_length genre_ids  \\\n",
              "0              Explore  online-playlist       1     206471.0       359   \n",
              "1  Local playlist more   local-playlist       1     284584.0      1259   \n",
              "2  Local playlist more   local-playlist       1     225396.0      1259   \n",
              "3  Local playlist more   local-playlist       1     255512.0      1019   \n",
              "4              Explore  online-playlist       1     187802.0      1011   \n",
              "\n",
              "       artist_name                                 composer     ...       \\\n",
              "0         Bastille                     Dan Smith| Mark Crew     ...        \n",
              "1  Various Artists                                      NaN     ...        \n",
              "2              Nas     N. Jones、W. Adams、J. Lordan、D. Ingle     ...        \n",
              "3         Soundway                            Kwadwo Donkoh     ...        \n",
              "4      Brett Young  Brett Young| Kelly Archer| Justin Ebach     ...        \n",
              "\n",
              "                                      name          isrc membership_days  \\\n",
              "0                               Good Grief  GBUM71602854          2103.0   \n",
              "1                       Lords of Cardboard  US3C69910183          2301.0   \n",
              "2  Hip Hop Is Dead(Album Version (Edited))  USUM70618761          2301.0   \n",
              "3                             Disco Africa  GBUQH1000063          2301.0   \n",
              "4                        Sleep Without You  QM3E21606003          2103.0   \n",
              "\n",
              "   registration_year registration_month registration_date expiration_year  \\\n",
              "0               2012                  1                 2            2017   \n",
              "1               2011                  5                25            2017   \n",
              "2               2011                  5                25            2017   \n",
              "3               2011                  5                25            2017   \n",
              "4               2012                  1                 2            2017   \n",
              "\n",
              "   expiration_month song_year times_played  \n",
              "0                10    2016.0          215  \n",
              "1                 9    1999.0            1  \n",
              "2                 9    2006.0            4  \n",
              "3                 9    2010.0            1  \n",
              "4                10    2016.0          412  \n",
              "\n",
              "[5 rows x 28 columns]"
            ]
          },
          "metadata": {
            "tags": []
          },
          "execution_count": 17
        }
      ]
    },
    {
      "metadata": {
        "id": "1liXcVhbJgqT",
        "colab_type": "text"
      },
      "cell_type": "markdown",
      "source": [
        "# **نمودار مقایسه تعداد تارگتهای ۰و ۱**"
      ]
    },
    {
      "metadata": {
        "id": "yRhZbvvfIKhk",
        "colab_type": "code",
        "outputId": "60e49ecc-8e11-415d-a381-5dcc6a145b39",
        "colab": {
          "base_uri": "https://localhost:8080/",
          "height": 573
        }
      },
      "cell_type": "code",
      "source": [
        "plt.figure(figsize=(12,8))\n",
        "sns.countplot(data['target'])"
      ],
      "execution_count": 0,
      "outputs": [
        {
          "output_type": "stream",
          "text": [
            "/usr/local/lib/python3.6/dist-packages/seaborn/categorical.py:1428: FutureWarning: remove_na is deprecated and is a private function. Do not use.\n",
            "  stat_data = remove_na(group_data)\n"
          ],
          "name": "stderr"
        },
        {
          "output_type": "execute_result",
          "data": {
            "text/plain": [
              "<matplotlib.axes._subplots.AxesSubplot at 0x7fd0526ef4a8>"
            ]
          },
          "metadata": {
            "tags": []
          },
          "execution_count": 146
        },
        {
          "output_type": "display_data",
          "data": {
            "image/png": "[encoded data removed]",
            "text/plain": [
              "<matplotlib.figure.Figure at 0x7fd053de66a0>"
            ]
          },
          "metadata": {
            "tags": []
          }
        }
      ]
    },
    {
      "metadata": {
        "id": "74ofl2YMJpGR",
        "colab_type": "text"
      },
      "cell_type": "markdown",
      "source": [
        "***نمودار مقایسه تعداد پخش موزیک بر اساس سورس تایپ***"
      ]
    },
    {
      "metadata": {
        "id": "Pacl-KI1IQKo",
        "colab_type": "code",
        "outputId": "57bfae1f-ac14-40f0-c508-7160d837204b",
        "colab": {
          "base_uri": "https://localhost:8080/",
          "height": 573
        }
      },
      "cell_type": "code",
      "source": [
        "plt.figure(figsize=(20,8))\n",
        "sns.countplot(data['source_type'], hue = data['target'])"
      ],
      "execution_count": 0,
      "outputs": [
        {
          "output_type": "stream",
          "text": [
            "/usr/local/lib/python3.6/dist-packages/seaborn/categorical.py:1468: FutureWarning: remove_na is deprecated and is a private function. Do not use.\n",
            "  stat_data = remove_na(group_data[hue_mask])\n"
          ],
          "name": "stderr"
        },
        {
          "output_type": "execute_result",
          "data": {
            "text/plain": [
              "<matplotlib.axes._subplots.AxesSubplot at 0x7fd0527939b0>"
            ]
          },
          "metadata": {
            "tags": []
          },
          "execution_count": 147
        },
        {
          "output_type": "display_data",
          "data": {
            "image/png": "[encoded data removed]",
            "text/plain": [
              "<matplotlib.figure.Figure at 0x7fd053de6358>"
            ]
          },
          "metadata": {
            "tags": []
          }
        }
      ]
    },
    {
      "metadata": {
        "id": "6JTJqcNuJyB8",
        "colab_type": "text"
      },
      "cell_type": "markdown",
      "source": [
        "# **نمودار تعداد پخشها برای زبان‌های مختلف**"
      ]
    },
    {
      "metadata": {
        "id": "DnwslVbpIYgf",
        "colab_type": "code",
        "outputId": "ac8d1c14-d1c8-42dd-9769-64ff182a5fba",
        "colab": {
          "base_uri": "https://localhost:8080/",
          "height": 573
        }
      },
      "cell_type": "code",
      "source": [
        "plt.figure(figsize=(20,8))\n",
        "sns.countplot(data['language'], hue = data['target'])"
      ],
      "execution_count": 0,
      "outputs": [
        {
          "output_type": "stream",
          "text": [
            "/usr/local/lib/python3.6/dist-packages/seaborn/categorical.py:1468: FutureWarning: remove_na is deprecated and is a private function. Do not use.\n",
            "  stat_data = remove_na(group_data[hue_mask])\n"
          ],
          "name": "stderr"
        },
        {
          "output_type": "execute_result",
          "data": {
            "text/plain": [
              "<matplotlib.axes._subplots.AxesSubplot at 0x7fd053f11978>"
            ]
          },
          "metadata": {
            "tags": []
          },
          "execution_count": 148
        },
        {
          "output_type": "display_data",
          "data": {
            "image/png": "[encoded data removed]",
            "text/plain": [
              "<matplotlib.figure.Figure at 0x7fd053eac048>"
            ]
          },
          "metadata": {
            "tags": []
          }
        }
      ]
    },
    {
      "metadata": {
        "id": "rTCfPoVQJ5Zr",
        "colab_type": "text"
      },
      "cell_type": "markdown",
      "source": [
        "# **نموارد تعداد آهنگ‌ها بر اساس سال ساخت**"
      ]
    },
    {
      "metadata": {
        "id": "FhpjV7_0IcBX",
        "colab_type": "code",
        "outputId": "fbe950fb-37e3-4486-f2b8-e9ea9519f8a5",
        "colab": {
          "base_uri": "https://localhost:8080/",
          "height": 573
        }
      },
      "cell_type": "code",
      "source": [
        "plt.figure(figsize=(100,8))\n",
        "sns.countplot(data['song_year'])"
      ],
      "execution_count": 0,
      "outputs": [
        {
          "output_type": "stream",
          "text": [
            "/usr/local/lib/python3.6/dist-packages/seaborn/categorical.py:1428: FutureWarning: remove_na is deprecated and is a private function. Do not use.\n",
            "  stat_data = remove_na(group_data)\n"
          ],
          "name": "stderr"
        },
        {
          "output_type": "execute_result",
          "data": {
            "text/plain": [
              "<matplotlib.axes._subplots.AxesSubplot at 0x7fd052758b00>"
            ]
          },
          "metadata": {
            "tags": []
          },
          "execution_count": 149
        },
        {
          "output_type": "display_data",
          "data": {
            "image/png": "[encoded data removed]",
            "text/plain": [
              "<matplotlib.figure.Figure at 0x7fd053d26320>"
            ]
          },
          "metadata": {
            "tags": []
          }
        }
      ]
    },
    {
      "metadata": {
        "id": "IOeSeT6lKF7_",
        "colab_type": "text"
      },
      "cell_type": "markdown",
      "source": [
        "# **نمودار تعداد کاربران بر اساس جنسیت**"
      ]
    },
    {
      "metadata": {
        "id": "S0bNMDZJIgJ0",
        "colab_type": "code",
        "outputId": "e462f6c8-2173-4f28-cb1a-0b68a518de5a",
        "colab": {
          "base_uri": "https://localhost:8080/",
          "height": 573
        }
      },
      "cell_type": "code",
      "source": [
        "plt.figure(figsize=(15,8))\n",
        "sns.countplot(data['gender'],  hue = data['target'])"
      ],
      "execution_count": 0,
      "outputs": [
        {
          "output_type": "stream",
          "text": [
            "/usr/local/lib/python3.6/dist-packages/seaborn/categorical.py:1468: FutureWarning: remove_na is deprecated and is a private function. Do not use.\n",
            "  stat_data = remove_na(group_data[hue_mask])\n"
          ],
          "name": "stderr"
        },
        {
          "output_type": "execute_result",
          "data": {
            "text/plain": [
              "<matplotlib.axes._subplots.AxesSubplot at 0x7fd052c1e2e8>"
            ]
          },
          "metadata": {
            "tags": []
          },
          "execution_count": 150
        },
        {
          "output_type": "display_data",
          "data": {
            "image/png": "[encoded data removed]",
            "text/plain": [
              "<matplotlib.figure.Figure at 0x7fd053fe4208>"
            ]
          },
          "metadata": {
            "tags": []
          }
        }
      ]
    },
    {
      "metadata": {
        "id": "enJc-O4hKOC4",
        "colab_type": "text"
      },
      "cell_type": "markdown",
      "source": [
        "# **جداسازی داده‌ها به دو بخش ترین و تست**"
      ]
    },
    {
      "metadata": {
        "id": "ec6BFDHtKcaT",
        "colab_type": "code",
        "colab": {}
      },
      "cell_type": "code",
      "source": [
        "X_train, X_test, y_train, y_test = train_test_split(data.drop('target', axis=1), data.target, test_size=0.25, random_state=42)"
      ],
      "execution_count": 0,
      "outputs": []
    },
    {
      "metadata": {
        "id": "NfvzAVF-Nu5F",
        "colab_type": "code",
        "colab": {}
      },
      "cell_type": "code",
      "source": [
        "# جداسازی داده‌هایی که تارگت آنها یک است از داده ترین\n",
        "\n",
        "only_ones_data = X_train[y_train == 1]"
      ],
      "execution_count": 0,
      "outputs": []
    },
    {
      "metadata": {
        "id": "meGDrPK6PsHF",
        "colab_type": "code",
        "outputId": "154a1ed5-c013-4ff4-9c73-95b32694c877",
        "colab": {
          "base_uri": "https://localhost:8080/",
          "height": 35
        }
      },
      "cell_type": "code",
      "source": [
        "len(only_ones_data)"
      ],
      "execution_count": 0,
      "outputs": [
        {
          "output_type": "execute_result",
          "data": {
            "text/plain": [
              "2785348"
            ]
          },
          "metadata": {
            "tags": []
          },
          "execution_count": 22
        }
      ]
    },
    {
      "metadata": {
        "id": "rqdvtuhARHur",
        "colab_type": "code",
        "outputId": "9530939c-c4a4-4be8-ece9-eb562ec7bb64",
        "colab": {
          "base_uri": "https://localhost:8080/",
          "height": 35
        }
      },
      "cell_type": "code",
      "source": [
        "# تعداد ژانرهای واحد\n",
        "\n",
        "only_ones_data.genre_ids.nunique()"
      ],
      "execution_count": 0,
      "outputs": [
        {
          "output_type": "execute_result",
          "data": {
            "text/plain": [
              "449"
            ]
          },
          "metadata": {
            "tags": []
          },
          "execution_count": 20
        }
      ]
    },
    {
      "metadata": {
        "id": "_nrtLh3PAGhA",
        "colab_type": "code",
        "outputId": "bec90a2c-4254-495b-fbc1-d8d9ab07a998",
        "colab": {
          "base_uri": "https://localhost:8080/",
          "height": 35
        }
      },
      "cell_type": "code",
      "source": [
        "len(X_train)"
      ],
      "execution_count": 0,
      "outputs": [
        {
          "output_type": "execute_result",
          "data": {
            "text/plain": [
              "5533063"
            ]
          },
          "metadata": {
            "tags": []
          },
          "execution_count": 235
        }
      ]
    },
    {
      "metadata": {
        "id": "roQfKIhaKpSq",
        "colab_type": "text"
      },
      "cell_type": "markdown",
      "source": [
        "# **بدست آوردن مقدار پخش بر اساس ژانر توسط هر کاربر**"
      ]
    },
    {
      "metadata": {
        "id": "1xtkcuT7RL6a",
        "colab_type": "code",
        "outputId": "7a7a184b-4c19-482f-da90-26f68aee3505",
        "colab": {
          "base_uri": "https://localhost:8080/",
          "height": 390
        }
      },
      "cell_type": "code",
      "source": [
        "counts = only_ones_data.groupby('msno')\\\n",
        "    .genre_ids.value_counts()\\\n",
        "    .to_frame()\\\n",
        "    .rename(columns={'genre_ids':'n_g_id'})\n",
        "counts.head(10)"
      ],
      "execution_count": 0,
      "outputs": [
        {
          "output_type": "execute_result",
          "data": {
            "text/html": [
              "<div>\n",
              "<style scoped>\n",
              "    .dataframe tbody tr th:only-of-type {\n",
              "        vertical-align: middle;\n",
              "    }\n",
              "\n",
              "    .dataframe tbody tr th {\n",
              "        vertical-align: top;\n",
              "    }\n",
              "\n",
              "    .dataframe thead th {\n",
              "        text-align: right;\n",
              "    }\n",
              "</style>\n",
              "<table border=\"1\" class=\"dataframe\">\n",
              "  <thead>\n",
              "    <tr style=\"text-align: right;\">\n",
              "      <th></th>\n",
              "      <th></th>\n",
              "      <th>n_g_id</th>\n",
              "    </tr>\n",
              "    <tr>\n",
              "      <th>msno</th>\n",
              "      <th>genre_ids</th>\n",
              "      <th></th>\n",
              "    </tr>\n",
              "  </thead>\n",
              "  <tbody>\n",
              "    <tr>\n",
              "      <th rowspan=\"10\" valign=\"top\">++5wYjoMgQHoRuD3GbbvmphZbBBwymzv5Q4l8sywtuU=</th>\n",
              "      <th>465</th>\n",
              "      <td>112</td>\n",
              "    </tr>\n",
              "    <tr>\n",
              "      <th>458</th>\n",
              "      <td>25</td>\n",
              "    </tr>\n",
              "    <tr>\n",
              "      <th>1259</th>\n",
              "      <td>20</td>\n",
              "    </tr>\n",
              "    <tr>\n",
              "      <th>359</th>\n",
              "      <td>19</td>\n",
              "    </tr>\n",
              "    <tr>\n",
              "      <th>474</th>\n",
              "      <td>9</td>\n",
              "    </tr>\n",
              "    <tr>\n",
              "      <th>1609</th>\n",
              "      <td>8</td>\n",
              "    </tr>\n",
              "    <tr>\n",
              "      <th>451</th>\n",
              "      <td>5</td>\n",
              "    </tr>\n",
              "    <tr>\n",
              "      <th>1616|1609</th>\n",
              "      <td>4</td>\n",
              "    </tr>\n",
              "    <tr>\n",
              "      <th>139</th>\n",
              "      <td>3</td>\n",
              "    </tr>\n",
              "    <tr>\n",
              "      <th>2022</th>\n",
              "      <td>3</td>\n",
              "    </tr>\n",
              "  </tbody>\n",
              "</table>\n",
              "</div>"
            ],
            "text/plain": [
              "                                                        n_g_id\n",
              "msno                                         genre_ids        \n",
              "++5wYjoMgQHoRuD3GbbvmphZbBBwymzv5Q4l8sywtuU= 465           112\n",
              "                                             458            25\n",
              "                                             1259           20\n",
              "                                             359            19\n",
              "                                             474             9\n",
              "                                             1609            8\n",
              "                                             451             5\n",
              "                                             1616|1609       4\n",
              "                                             139             3\n",
              "                                             2022            3"
            ]
          },
          "metadata": {
            "tags": []
          },
          "execution_count": 18
        }
      ]
    },
    {
      "metadata": {
        "id": "BnljrRWpReM2",
        "colab_type": "code",
        "colab": {}
      },
      "cell_type": "code",
      "source": [
        "counts_copy = counts.copy()\n",
        "counts_copy.reset_index(inplace=True)"
      ],
      "execution_count": 0,
      "outputs": []
    },
    {
      "metadata": {
        "id": "r-YHPgXaK0X0",
        "colab_type": "text"
      },
      "cell_type": "markdown",
      "source": [
        "# **ساخت یک دیتا فریم که ستون‌های آن تعداد پخش هر ژانر توسط هر کاربر را نشان می‌دهد**"
      ]
    },
    {
      "metadata": {
        "id": "89tGfVPqR1rh",
        "colab_type": "code",
        "outputId": "53cf6d5f-9e63-41d5-f20a-63f5318ef6eb",
        "colab": {
          "base_uri": "https://localhost:8080/",
          "height": 253
        }
      },
      "cell_type": "code",
      "source": [
        "counts_copy = counts_copy.groupby(['msno', 'genre_ids']).mean().squeeze().unstack().add_suffix('_count')\n",
        "counts_copy.reset_index(inplace=True)\n",
        "counts_copy.fillna(0, inplace=True)\n",
        "counts_copy.head()"
      ],
      "execution_count": 0,
      "outputs": [
        {
          "output_type": "execute_result",
          "data": {
            "text/html": [
              "<div>\n",
              "<style scoped>\n",
              "    .dataframe tbody tr th:only-of-type {\n",
              "        vertical-align: middle;\n",
              "    }\n",
              "\n",
              "    .dataframe tbody tr th {\n",
              "        vertical-align: top;\n",
              "    }\n",
              "\n",
              "    .dataframe thead th {\n",
              "        text-align: right;\n",
              "    }\n",
              "</style>\n",
              "<table border=\"1\" class=\"dataframe\">\n",
              "  <thead>\n",
              "    <tr style=\"text-align: right;\">\n",
              "      <th>genre_ids</th>\n",
              "      <th>msno</th>\n",
              "      <th>1000_count</th>\n",
              "      <th>1007_count</th>\n",
              "      <th>1011_count</th>\n",
              "      <th>1011|691_count</th>\n",
              "      <th>1019_count</th>\n",
              "      <th>1033_count</th>\n",
              "      <th>1040_count</th>\n",
              "      <th>1040|1155_count</th>\n",
              "      <th>1047_count</th>\n",
              "      <th>...</th>\n",
              "      <th>958|2022_count</th>\n",
              "      <th>958|2122_count</th>\n",
              "      <th>958|691_count</th>\n",
              "      <th>958|786_count</th>\n",
              "      <th>958|947_count</th>\n",
              "      <th>965_count</th>\n",
              "      <th>972_count</th>\n",
              "      <th>979_count</th>\n",
              "      <th>986_count</th>\n",
              "      <th>993|751_count</th>\n",
              "    </tr>\n",
              "  </thead>\n",
              "  <tbody>\n",
              "    <tr>\n",
              "      <th>0</th>\n",
              "      <td>++5wYjoMgQHoRuD3GbbvmphZbBBwymzv5Q4l8sywtuU=</td>\n",
              "      <td>0.0</td>\n",
              "      <td>0.0</td>\n",
              "      <td>0.0</td>\n",
              "      <td>0.0</td>\n",
              "      <td>0.0</td>\n",
              "      <td>0.0</td>\n",
              "      <td>0.0</td>\n",
              "      <td>0.0</td>\n",
              "      <td>0.0</td>\n",
              "      <td>...</td>\n",
              "      <td>0.0</td>\n",
              "      <td>0.0</td>\n",
              "      <td>0.0</td>\n",
              "      <td>0.0</td>\n",
              "      <td>0.0</td>\n",
              "      <td>0.0</td>\n",
              "      <td>0.0</td>\n",
              "      <td>0.0</td>\n",
              "      <td>0.0</td>\n",
              "      <td>0.0</td>\n",
              "    </tr>\n",
              "    <tr>\n",
              "      <th>1</th>\n",
              "      <td>++AH7m/EQ4iKe6wSlfO/xXAJx50p+fCeTyF90GoE9Pg=</td>\n",
              "      <td>0.0</td>\n",
              "      <td>0.0</td>\n",
              "      <td>3.0</td>\n",
              "      <td>0.0</td>\n",
              "      <td>0.0</td>\n",
              "      <td>0.0</td>\n",
              "      <td>0.0</td>\n",
              "      <td>0.0</td>\n",
              "      <td>0.0</td>\n",
              "      <td>...</td>\n",
              "      <td>0.0</td>\n",
              "      <td>0.0</td>\n",
              "      <td>0.0</td>\n",
              "      <td>0.0</td>\n",
              "      <td>0.0</td>\n",
              "      <td>0.0</td>\n",
              "      <td>0.0</td>\n",
              "      <td>0.0</td>\n",
              "      <td>0.0</td>\n",
              "      <td>0.0</td>\n",
              "    </tr>\n",
              "    <tr>\n",
              "      <th>2</th>\n",
              "      <td>++e+jsxuQ8UEnmW40od9Rq3rW7+wAum4wooXyZTKJpk=</td>\n",
              "      <td>0.0</td>\n",
              "      <td>0.0</td>\n",
              "      <td>0.0</td>\n",
              "      <td>0.0</td>\n",
              "      <td>0.0</td>\n",
              "      <td>0.0</td>\n",
              "      <td>0.0</td>\n",
              "      <td>0.0</td>\n",
              "      <td>0.0</td>\n",
              "      <td>...</td>\n",
              "      <td>0.0</td>\n",
              "      <td>0.0</td>\n",
              "      <td>0.0</td>\n",
              "      <td>0.0</td>\n",
              "      <td>0.0</td>\n",
              "      <td>0.0</td>\n",
              "      <td>0.0</td>\n",
              "      <td>0.0</td>\n",
              "      <td>0.0</td>\n",
              "      <td>0.0</td>\n",
              "    </tr>\n",
              "    <tr>\n",
              "      <th>3</th>\n",
              "      <td>++xWL5Pbi2CpG4uUugigQahauM0J/sBIRloTNPBybIU=</td>\n",
              "      <td>0.0</td>\n",
              "      <td>0.0</td>\n",
              "      <td>0.0</td>\n",
              "      <td>0.0</td>\n",
              "      <td>0.0</td>\n",
              "      <td>0.0</td>\n",
              "      <td>0.0</td>\n",
              "      <td>0.0</td>\n",
              "      <td>0.0</td>\n",
              "      <td>...</td>\n",
              "      <td>0.0</td>\n",
              "      <td>0.0</td>\n",
              "      <td>0.0</td>\n",
              "      <td>0.0</td>\n",
              "      <td>0.0</td>\n",
              "      <td>0.0</td>\n",
              "      <td>0.0</td>\n",
              "      <td>0.0</td>\n",
              "      <td>0.0</td>\n",
              "      <td>0.0</td>\n",
              "    </tr>\n",
              "    <tr>\n",
              "      <th>4</th>\n",
              "      <td>+/SKX44s4ryWQzYzuV7ZKMXqIKQMN1cPz3M8CJ8CFKU=</td>\n",
              "      <td>0.0</td>\n",
              "      <td>0.0</td>\n",
              "      <td>1.0</td>\n",
              "      <td>0.0</td>\n",
              "      <td>0.0</td>\n",
              "      <td>0.0</td>\n",
              "      <td>0.0</td>\n",
              "      <td>0.0</td>\n",
              "      <td>0.0</td>\n",
              "      <td>...</td>\n",
              "      <td>0.0</td>\n",
              "      <td>0.0</td>\n",
              "      <td>0.0</td>\n",
              "      <td>0.0</td>\n",
              "      <td>0.0</td>\n",
              "      <td>0.0</td>\n",
              "      <td>0.0</td>\n",
              "      <td>0.0</td>\n",
              "      <td>0.0</td>\n",
              "      <td>0.0</td>\n",
              "    </tr>\n",
              "  </tbody>\n",
              "</table>\n",
              "<p>5 rows × 450 columns</p>\n",
              "</div>"
            ],
            "text/plain": [
              "genre_ids                                          msno  1000_count  \\\n",
              "0          ++5wYjoMgQHoRuD3GbbvmphZbBBwymzv5Q4l8sywtuU=         0.0   \n",
              "1          ++AH7m/EQ4iKe6wSlfO/xXAJx50p+fCeTyF90GoE9Pg=         0.0   \n",
              "2          ++e+jsxuQ8UEnmW40od9Rq3rW7+wAum4wooXyZTKJpk=         0.0   \n",
              "3          ++xWL5Pbi2CpG4uUugigQahauM0J/sBIRloTNPBybIU=         0.0   \n",
              "4          +/SKX44s4ryWQzYzuV7ZKMXqIKQMN1cPz3M8CJ8CFKU=         0.0   \n",
              "\n",
              "genre_ids  1007_count  1011_count  1011|691_count  1019_count  1033_count  \\\n",
              "0                 0.0         0.0             0.0         0.0         0.0   \n",
              "1                 0.0         3.0             0.0         0.0         0.0   \n",
              "2                 0.0         0.0             0.0         0.0         0.0   \n",
              "3                 0.0         0.0             0.0         0.0         0.0   \n",
              "4                 0.0         1.0             0.0         0.0         0.0   \n",
              "\n",
              "genre_ids  1040_count  1040|1155_count  1047_count      ...        \\\n",
              "0                 0.0              0.0         0.0      ...         \n",
              "1                 0.0              0.0         0.0      ...         \n",
              "2                 0.0              0.0         0.0      ...         \n",
              "3                 0.0              0.0         0.0      ...         \n",
              "4                 0.0              0.0         0.0      ...         \n",
              "\n",
              "genre_ids  958|2022_count  958|2122_count  958|691_count  958|786_count  \\\n",
              "0                     0.0             0.0            0.0            0.0   \n",
              "1                     0.0             0.0            0.0            0.0   \n",
              "2                     0.0             0.0            0.0            0.0   \n",
              "3                     0.0             0.0            0.0            0.0   \n",
              "4                     0.0             0.0            0.0            0.0   \n",
              "\n",
              "genre_ids  958|947_count  965_count  972_count  979_count  986_count  \\\n",
              "0                    0.0        0.0        0.0        0.0        0.0   \n",
              "1                    0.0        0.0        0.0        0.0        0.0   \n",
              "2                    0.0        0.0        0.0        0.0        0.0   \n",
              "3                    0.0        0.0        0.0        0.0        0.0   \n",
              "4                    0.0        0.0        0.0        0.0        0.0   \n",
              "\n",
              "genre_ids  993|751_count  \n",
              "0                    0.0  \n",
              "1                    0.0  \n",
              "2                    0.0  \n",
              "3                    0.0  \n",
              "4                    0.0  \n",
              "\n",
              "[5 rows x 450 columns]"
            ]
          },
          "metadata": {
            "tags": []
          },
          "execution_count": 20
        }
      ]
    },
    {
      "metadata": {
        "id": "09SFeXmlLCuP",
        "colab_type": "text"
      },
      "cell_type": "markdown",
      "source": [
        "# **بدست آوردن تعداد کل پخش‌ها برای هر کاربر**"
      ]
    },
    {
      "metadata": {
        "id": "vRlgJrj9SHon",
        "colab_type": "code",
        "outputId": "d464f71d-f040-45a2-fffb-25260b6f042f",
        "colab": {
          "base_uri": "https://localhost:8080/",
          "height": 235
        }
      },
      "cell_type": "code",
      "source": [
        "genre_sum = counts.groupby(level=0)\\\n",
        "    .sum()\\\n",
        "    .rename(columns={'n_g_id': 'n_d'})\n",
        "genre_sum.head()"
      ],
      "execution_count": 0,
      "outputs": [
        {
          "output_type": "execute_result",
          "data": {
            "text/html": [
              "<div>\n",
              "<style scoped>\n",
              "    .dataframe tbody tr th:only-of-type {\n",
              "        vertical-align: middle;\n",
              "    }\n",
              "\n",
              "    .dataframe tbody tr th {\n",
              "        vertical-align: top;\n",
              "    }\n",
              "\n",
              "    .dataframe thead th {\n",
              "        text-align: right;\n",
              "    }\n",
              "</style>\n",
              "<table border=\"1\" class=\"dataframe\">\n",
              "  <thead>\n",
              "    <tr style=\"text-align: right;\">\n",
              "      <th></th>\n",
              "      <th>n_d</th>\n",
              "    </tr>\n",
              "    <tr>\n",
              "      <th>msno</th>\n",
              "      <th></th>\n",
              "    </tr>\n",
              "  </thead>\n",
              "  <tbody>\n",
              "    <tr>\n",
              "      <th>++5wYjoMgQHoRuD3GbbvmphZbBBwymzv5Q4l8sywtuU=</th>\n",
              "      <td>212</td>\n",
              "    </tr>\n",
              "    <tr>\n",
              "      <th>++AH7m/EQ4iKe6wSlfO/xXAJx50p+fCeTyF90GoE9Pg=</th>\n",
              "      <td>100</td>\n",
              "    </tr>\n",
              "    <tr>\n",
              "      <th>++e+jsxuQ8UEnmW40od9Rq3rW7+wAum4wooXyZTKJpk=</th>\n",
              "      <td>54</td>\n",
              "    </tr>\n",
              "    <tr>\n",
              "      <th>++xWL5Pbi2CpG4uUugigQahauM0J/sBIRloTNPBybIU=</th>\n",
              "      <td>1</td>\n",
              "    </tr>\n",
              "    <tr>\n",
              "      <th>+/SKX44s4ryWQzYzuV7ZKMXqIKQMN1cPz3M8CJ8CFKU=</th>\n",
              "      <td>66</td>\n",
              "    </tr>\n",
              "  </tbody>\n",
              "</table>\n",
              "</div>"
            ],
            "text/plain": [
              "                                              n_d\n",
              "msno                                             \n",
              "++5wYjoMgQHoRuD3GbbvmphZbBBwymzv5Q4l8sywtuU=  212\n",
              "++AH7m/EQ4iKe6wSlfO/xXAJx50p+fCeTyF90GoE9Pg=  100\n",
              "++e+jsxuQ8UEnmW40od9Rq3rW7+wAum4wooXyZTKJpk=   54\n",
              "++xWL5Pbi2CpG4uUugigQahauM0J/sBIRloTNPBybIU=    1\n",
              "+/SKX44s4ryWQzYzuV7ZKMXqIKQMN1cPz3M8CJ8CFKU=   66"
            ]
          },
          "metadata": {
            "tags": []
          },
          "execution_count": 21
        }
      ]
    },
    {
      "metadata": {
        "id": "DeNWhJdlLIx6",
        "colab_type": "text"
      },
      "cell_type": "markdown",
      "source": [
        "# **بدست آوردن مقدار tf**"
      ]
    },
    {
      "metadata": {
        "id": "a6-Rw_NMSNYa",
        "colab_type": "code",
        "outputId": "99bd0df5-03f3-4b8c-89f0-2ec3c192c933",
        "colab": {
          "base_uri": "https://localhost:8080/",
          "height": 235
        }
      },
      "cell_type": "code",
      "source": [
        "tf = counts.join(genre_sum)\n",
        "tf['tf'] = tf.n_g_id/tf.n_d\n",
        "tf.head()"
      ],
      "execution_count": 0,
      "outputs": [
        {
          "output_type": "execute_result",
          "data": {
            "text/html": [
              "<div>\n",
              "<style scoped>\n",
              "    .dataframe tbody tr th:only-of-type {\n",
              "        vertical-align: middle;\n",
              "    }\n",
              "\n",
              "    .dataframe tbody tr th {\n",
              "        vertical-align: top;\n",
              "    }\n",
              "\n",
              "    .dataframe thead th {\n",
              "        text-align: right;\n",
              "    }\n",
              "</style>\n",
              "<table border=\"1\" class=\"dataframe\">\n",
              "  <thead>\n",
              "    <tr style=\"text-align: right;\">\n",
              "      <th></th>\n",
              "      <th></th>\n",
              "      <th>n_g_id</th>\n",
              "      <th>n_d</th>\n",
              "      <th>tf</th>\n",
              "    </tr>\n",
              "    <tr>\n",
              "      <th>msno</th>\n",
              "      <th>genre_ids</th>\n",
              "      <th></th>\n",
              "      <th></th>\n",
              "      <th></th>\n",
              "    </tr>\n",
              "  </thead>\n",
              "  <tbody>\n",
              "    <tr>\n",
              "      <th rowspan=\"5\" valign=\"top\">++5wYjoMgQHoRuD3GbbvmphZbBBwymzv5Q4l8sywtuU=</th>\n",
              "      <th>465</th>\n",
              "      <td>112</td>\n",
              "      <td>212</td>\n",
              "      <td>0.528302</td>\n",
              "    </tr>\n",
              "    <tr>\n",
              "      <th>458</th>\n",
              "      <td>25</td>\n",
              "      <td>212</td>\n",
              "      <td>0.117925</td>\n",
              "    </tr>\n",
              "    <tr>\n",
              "      <th>1259</th>\n",
              "      <td>20</td>\n",
              "      <td>212</td>\n",
              "      <td>0.094340</td>\n",
              "    </tr>\n",
              "    <tr>\n",
              "      <th>359</th>\n",
              "      <td>19</td>\n",
              "      <td>212</td>\n",
              "      <td>0.089623</td>\n",
              "    </tr>\n",
              "    <tr>\n",
              "      <th>474</th>\n",
              "      <td>9</td>\n",
              "      <td>212</td>\n",
              "      <td>0.042453</td>\n",
              "    </tr>\n",
              "  </tbody>\n",
              "</table>\n",
              "</div>"
            ],
            "text/plain": [
              "                                                        n_g_id  n_d        tf\n",
              "msno                                         genre_ids                       \n",
              "++5wYjoMgQHoRuD3GbbvmphZbBBwymzv5Q4l8sywtuU= 465           112  212  0.528302\n",
              "                                             458            25  212  0.117925\n",
              "                                             1259           20  212  0.094340\n",
              "                                             359            19  212  0.089623\n",
              "                                             474             9  212  0.042453"
            ]
          },
          "metadata": {
            "tags": []
          },
          "execution_count": 22
        }
      ]
    },
    {
      "metadata": {
        "id": "63Wkb4ghSTHs",
        "colab_type": "code",
        "outputId": "32ebcec0-6e90-4307-afcc-d71aea3672e2",
        "colab": {
          "base_uri": "https://localhost:8080/",
          "height": 35
        }
      },
      "cell_type": "code",
      "source": [
        "# تعداد یوزرهای واحد\n",
        "\n",
        "count_msno = only_ones_data.msno.nunique()\n",
        "count_msno"
      ],
      "execution_count": 0,
      "outputs": [
        {
          "output_type": "execute_result",
          "data": {
            "text/plain": [
              "26706"
            ]
          },
          "metadata": {
            "tags": []
          },
          "execution_count": 23
        }
      ]
    },
    {
      "metadata": {
        "id": "7pa7ZYKVLX1Q",
        "colab_type": "text"
      },
      "cell_type": "markdown",
      "source": [
        "# **بدست آوردن idf**"
      ]
    },
    {
      "metadata": {
        "id": "OgZX1M-2S-Fz",
        "colab_type": "code",
        "outputId": "d271c019-6866-4332-e5d6-41ed0b727c90",
        "colab": {
          "base_uri": "https://localhost:8080/",
          "height": 235
        }
      },
      "cell_type": "code",
      "source": [
        "idf = only_ones_data.groupby('genre_ids')\\\n",
        "    .msno\\\n",
        "    .nunique()\\\n",
        "    .to_frame()\\\n",
        "    .rename(columns={'msno':'u_i_d'})\\\n",
        "    .sort_values('u_i_d', ascending=False)\n",
        "idf.head()"
      ],
      "execution_count": 0,
      "outputs": [
        {
          "output_type": "execute_result",
          "data": {
            "text/html": [
              "<div>\n",
              "<style scoped>\n",
              "    .dataframe tbody tr th:only-of-type {\n",
              "        vertical-align: middle;\n",
              "    }\n",
              "\n",
              "    .dataframe tbody tr th {\n",
              "        vertical-align: top;\n",
              "    }\n",
              "\n",
              "    .dataframe thead th {\n",
              "        text-align: right;\n",
              "    }\n",
              "</style>\n",
              "<table border=\"1\" class=\"dataframe\">\n",
              "  <thead>\n",
              "    <tr style=\"text-align: right;\">\n",
              "      <th></th>\n",
              "      <th>u_i_d</th>\n",
              "    </tr>\n",
              "    <tr>\n",
              "      <th>genre_ids</th>\n",
              "      <th></th>\n",
              "    </tr>\n",
              "  </thead>\n",
              "  <tbody>\n",
              "    <tr>\n",
              "      <th>465</th>\n",
              "      <td>24632</td>\n",
              "    </tr>\n",
              "    <tr>\n",
              "      <th>458</th>\n",
              "      <td>22234</td>\n",
              "    </tr>\n",
              "    <tr>\n",
              "      <th>921</th>\n",
              "      <td>16503</td>\n",
              "    </tr>\n",
              "    <tr>\n",
              "      <th>1609</th>\n",
              "      <td>12772</td>\n",
              "    </tr>\n",
              "    <tr>\n",
              "      <th>451</th>\n",
              "      <td>10998</td>\n",
              "    </tr>\n",
              "  </tbody>\n",
              "</table>\n",
              "</div>"
            ],
            "text/plain": [
              "           u_i_d\n",
              "genre_ids       \n",
              "465        24632\n",
              "458        22234\n",
              "921        16503\n",
              "1609       12772\n",
              "451        10998"
            ]
          },
          "metadata": {
            "tags": []
          },
          "execution_count": 24
        }
      ]
    },
    {
      "metadata": {
        "id": "oek2QBb1TPcS",
        "colab_type": "code",
        "outputId": "bdf1e200-4c6c-4d4f-f028-425d54a20e6f",
        "colab": {
          "base_uri": "https://localhost:8080/",
          "height": 271
        }
      },
      "cell_type": "code",
      "source": [
        "idf['idf'] = np.log(count_msno/idf.u_i_d.values)\n",
        "idf.head()"
      ],
      "execution_count": 0,
      "outputs": [
        {
          "output_type": "stream",
          "text": [
            "/usr/local/lib/python3.6/dist-packages/ipykernel_launcher.py:1: RuntimeWarning: divide by zero encountered in true_divide\n",
            "  \"\"\"Entry point for launching an IPython kernel.\n"
          ],
          "name": "stderr"
        },
        {
          "output_type": "execute_result",
          "data": {
            "text/html": [
              "<div>\n",
              "<style scoped>\n",
              "    .dataframe tbody tr th:only-of-type {\n",
              "        vertical-align: middle;\n",
              "    }\n",
              "\n",
              "    .dataframe tbody tr th {\n",
              "        vertical-align: top;\n",
              "    }\n",
              "\n",
              "    .dataframe thead th {\n",
              "        text-align: right;\n",
              "    }\n",
              "</style>\n",
              "<table border=\"1\" class=\"dataframe\">\n",
              "  <thead>\n",
              "    <tr style=\"text-align: right;\">\n",
              "      <th></th>\n",
              "      <th>u_i_d</th>\n",
              "      <th>idf</th>\n",
              "    </tr>\n",
              "    <tr>\n",
              "      <th>genre_ids</th>\n",
              "      <th></th>\n",
              "      <th></th>\n",
              "    </tr>\n",
              "  </thead>\n",
              "  <tbody>\n",
              "    <tr>\n",
              "      <th>465</th>\n",
              "      <td>24632</td>\n",
              "      <td>0.080842</td>\n",
              "    </tr>\n",
              "    <tr>\n",
              "      <th>458</th>\n",
              "      <td>22234</td>\n",
              "      <td>0.183266</td>\n",
              "    </tr>\n",
              "    <tr>\n",
              "      <th>921</th>\n",
              "      <td>16503</td>\n",
              "      <td>0.481346</td>\n",
              "    </tr>\n",
              "    <tr>\n",
              "      <th>1609</th>\n",
              "      <td>12772</td>\n",
              "      <td>0.737633</td>\n",
              "    </tr>\n",
              "    <tr>\n",
              "      <th>451</th>\n",
              "      <td>10998</td>\n",
              "      <td>0.887175</td>\n",
              "    </tr>\n",
              "  </tbody>\n",
              "</table>\n",
              "</div>"
            ],
            "text/plain": [
              "           u_i_d       idf\n",
              "genre_ids                 \n",
              "465        24632  0.080842\n",
              "458        22234  0.183266\n",
              "921        16503  0.481346\n",
              "1609       12772  0.737633\n",
              "451        10998  0.887175"
            ]
          },
          "metadata": {
            "tags": []
          },
          "execution_count": 25
        }
      ]
    },
    {
      "metadata": {
        "id": "8dkiQzsvWhXU",
        "colab_type": "code",
        "outputId": "eedda5fe-546d-4a8b-b21f-986965f4eea8",
        "colab": {
          "base_uri": "https://localhost:8080/",
          "height": 235
        }
      },
      "cell_type": "code",
      "source": [
        "tf_idf = tf.join(idf)\n",
        "tf_idf.head()"
      ],
      "execution_count": 0,
      "outputs": [
        {
          "output_type": "execute_result",
          "data": {
            "text/html": [
              "<div>\n",
              "<style scoped>\n",
              "    .dataframe tbody tr th:only-of-type {\n",
              "        vertical-align: middle;\n",
              "    }\n",
              "\n",
              "    .dataframe tbody tr th {\n",
              "        vertical-align: top;\n",
              "    }\n",
              "\n",
              "    .dataframe thead th {\n",
              "        text-align: right;\n",
              "    }\n",
              "</style>\n",
              "<table border=\"1\" class=\"dataframe\">\n",
              "  <thead>\n",
              "    <tr style=\"text-align: right;\">\n",
              "      <th></th>\n",
              "      <th></th>\n",
              "      <th>n_g_id</th>\n",
              "      <th>n_d</th>\n",
              "      <th>tf</th>\n",
              "      <th>u_i_d</th>\n",
              "      <th>idf</th>\n",
              "    </tr>\n",
              "    <tr>\n",
              "      <th>msno</th>\n",
              "      <th>genre_ids</th>\n",
              "      <th></th>\n",
              "      <th></th>\n",
              "      <th></th>\n",
              "      <th></th>\n",
              "      <th></th>\n",
              "    </tr>\n",
              "  </thead>\n",
              "  <tbody>\n",
              "    <tr>\n",
              "      <th rowspan=\"5\" valign=\"top\">++5wYjoMgQHoRuD3GbbvmphZbBBwymzv5Q4l8sywtuU=</th>\n",
              "      <th>465</th>\n",
              "      <td>112</td>\n",
              "      <td>212</td>\n",
              "      <td>0.528302</td>\n",
              "      <td>24632</td>\n",
              "      <td>0.080842</td>\n",
              "    </tr>\n",
              "    <tr>\n",
              "      <th>458</th>\n",
              "      <td>25</td>\n",
              "      <td>212</td>\n",
              "      <td>0.117925</td>\n",
              "      <td>22234</td>\n",
              "      <td>0.183266</td>\n",
              "    </tr>\n",
              "    <tr>\n",
              "      <th>1259</th>\n",
              "      <td>20</td>\n",
              "      <td>212</td>\n",
              "      <td>0.094340</td>\n",
              "      <td>10716</td>\n",
              "      <td>0.913150</td>\n",
              "    </tr>\n",
              "    <tr>\n",
              "      <th>359</th>\n",
              "      <td>19</td>\n",
              "      <td>212</td>\n",
              "      <td>0.089623</td>\n",
              "      <td>8364</td>\n",
              "      <td>1.160951</td>\n",
              "    </tr>\n",
              "    <tr>\n",
              "      <th>474</th>\n",
              "      <td>9</td>\n",
              "      <td>212</td>\n",
              "      <td>0.042453</td>\n",
              "      <td>72</td>\n",
              "      <td>5.915977</td>\n",
              "    </tr>\n",
              "  </tbody>\n",
              "</table>\n",
              "</div>"
            ],
            "text/plain": [
              "                                                        n_g_id  n_d        tf  \\\n",
              "msno                                         genre_ids                          \n",
              "++5wYjoMgQHoRuD3GbbvmphZbBBwymzv5Q4l8sywtuU= 465           112  212  0.528302   \n",
              "                                             458            25  212  0.117925   \n",
              "                                             1259           20  212  0.094340   \n",
              "                                             359            19  212  0.089623   \n",
              "                                             474             9  212  0.042453   \n",
              "\n",
              "                                                        u_i_d       idf  \n",
              "msno                                         genre_ids                   \n",
              "++5wYjoMgQHoRuD3GbbvmphZbBBwymzv5Q4l8sywtuU= 465        24632  0.080842  \n",
              "                                             458        22234  0.183266  \n",
              "                                             1259       10716  0.913150  \n",
              "                                             359         8364  1.160951  \n",
              "                                             474           72  5.915977  "
            ]
          },
          "metadata": {
            "tags": []
          },
          "execution_count": 26
        }
      ]
    },
    {
      "metadata": {
        "id": "3OE14RReLq0d",
        "colab_type": "text"
      },
      "cell_type": "markdown",
      "source": [
        "# **محاسبه tf-idf**"
      ]
    },
    {
      "metadata": {
        "id": "SkyVq-YPWm-F",
        "colab_type": "code",
        "outputId": "8597cc6f-69f2-4f10-e604-1b9c37fce1ac",
        "colab": {
          "base_uri": "https://localhost:8080/",
          "height": 235
        }
      },
      "cell_type": "code",
      "source": [
        "tf_idf['tf_idf'] = tf_idf.tf * tf_idf.idf\n",
        "tf_idf.head()"
      ],
      "execution_count": 0,
      "outputs": [
        {
          "output_type": "execute_result",
          "data": {
            "text/html": [
              "<div>\n",
              "<style scoped>\n",
              "    .dataframe tbody tr th:only-of-type {\n",
              "        vertical-align: middle;\n",
              "    }\n",
              "\n",
              "    .dataframe tbody tr th {\n",
              "        vertical-align: top;\n",
              "    }\n",
              "\n",
              "    .dataframe thead th {\n",
              "        text-align: right;\n",
              "    }\n",
              "</style>\n",
              "<table border=\"1\" class=\"dataframe\">\n",
              "  <thead>\n",
              "    <tr style=\"text-align: right;\">\n",
              "      <th></th>\n",
              "      <th></th>\n",
              "      <th>n_g_id</th>\n",
              "      <th>n_d</th>\n",
              "      <th>tf</th>\n",
              "      <th>u_i_d</th>\n",
              "      <th>idf</th>\n",
              "      <th>tf_idf</th>\n",
              "    </tr>\n",
              "    <tr>\n",
              "      <th>msno</th>\n",
              "      <th>genre_ids</th>\n",
              "      <th></th>\n",
              "      <th></th>\n",
              "      <th></th>\n",
              "      <th></th>\n",
              "      <th></th>\n",
              "      <th></th>\n",
              "    </tr>\n",
              "  </thead>\n",
              "  <tbody>\n",
              "    <tr>\n",
              "      <th rowspan=\"5\" valign=\"top\">++5wYjoMgQHoRuD3GbbvmphZbBBwymzv5Q4l8sywtuU=</th>\n",
              "      <th>465</th>\n",
              "      <td>112</td>\n",
              "      <td>212</td>\n",
              "      <td>0.528302</td>\n",
              "      <td>24632</td>\n",
              "      <td>0.080842</td>\n",
              "      <td>0.042709</td>\n",
              "    </tr>\n",
              "    <tr>\n",
              "      <th>458</th>\n",
              "      <td>25</td>\n",
              "      <td>212</td>\n",
              "      <td>0.117925</td>\n",
              "      <td>22234</td>\n",
              "      <td>0.183266</td>\n",
              "      <td>0.021612</td>\n",
              "    </tr>\n",
              "    <tr>\n",
              "      <th>1259</th>\n",
              "      <td>20</td>\n",
              "      <td>212</td>\n",
              "      <td>0.094340</td>\n",
              "      <td>10716</td>\n",
              "      <td>0.913150</td>\n",
              "      <td>0.086146</td>\n",
              "    </tr>\n",
              "    <tr>\n",
              "      <th>359</th>\n",
              "      <td>19</td>\n",
              "      <td>212</td>\n",
              "      <td>0.089623</td>\n",
              "      <td>8364</td>\n",
              "      <td>1.160951</td>\n",
              "      <td>0.104048</td>\n",
              "    </tr>\n",
              "    <tr>\n",
              "      <th>474</th>\n",
              "      <td>9</td>\n",
              "      <td>212</td>\n",
              "      <td>0.042453</td>\n",
              "      <td>72</td>\n",
              "      <td>5.915977</td>\n",
              "      <td>0.251150</td>\n",
              "    </tr>\n",
              "  </tbody>\n",
              "</table>\n",
              "</div>"
            ],
            "text/plain": [
              "                                                        n_g_id  n_d        tf  \\\n",
              "msno                                         genre_ids                          \n",
              "++5wYjoMgQHoRuD3GbbvmphZbBBwymzv5Q4l8sywtuU= 465           112  212  0.528302   \n",
              "                                             458            25  212  0.117925   \n",
              "                                             1259           20  212  0.094340   \n",
              "                                             359            19  212  0.089623   \n",
              "                                             474             9  212  0.042453   \n",
              "\n",
              "                                                        u_i_d       idf  \\\n",
              "msno                                         genre_ids                    \n",
              "++5wYjoMgQHoRuD3GbbvmphZbBBwymzv5Q4l8sywtuU= 465        24632  0.080842   \n",
              "                                             458        22234  0.183266   \n",
              "                                             1259       10716  0.913150   \n",
              "                                             359         8364  1.160951   \n",
              "                                             474           72  5.915977   \n",
              "\n",
              "                                                          tf_idf  \n",
              "msno                                         genre_ids            \n",
              "++5wYjoMgQHoRuD3GbbvmphZbBBwymzv5Q4l8sywtuU= 465        0.042709  \n",
              "                                             458        0.021612  \n",
              "                                             1259       0.086146  \n",
              "                                             359        0.104048  \n",
              "                                             474        0.251150  "
            ]
          },
          "metadata": {
            "tags": []
          },
          "execution_count": 27
        }
      ]
    },
    {
      "metadata": {
        "id": "s71F9sksWsIr",
        "colab_type": "code",
        "outputId": "e4fe057f-8030-4acc-8695-77ad1f1e2ac4",
        "colab": {
          "base_uri": "https://localhost:8080/",
          "height": 235
        }
      },
      "cell_type": "code",
      "source": [
        "tf_idf.drop('n_g_id', axis=1, inplace=True)\n",
        "tf_idf.drop('n_d', axis=1, inplace=True)\n",
        "tf_idf.drop('tf', axis=1, inplace=True)\n",
        "tf_idf.drop('u_i_d', axis=1, inplace=True)\n",
        "tf_idf.drop('idf', axis=1, inplace=True)\n",
        "tf_idf.head()"
      ],
      "execution_count": 0,
      "outputs": [
        {
          "output_type": "execute_result",
          "data": {
            "text/html": [
              "<div>\n",
              "<style scoped>\n",
              "    .dataframe tbody tr th:only-of-type {\n",
              "        vertical-align: middle;\n",
              "    }\n",
              "\n",
              "    .dataframe tbody tr th {\n",
              "        vertical-align: top;\n",
              "    }\n",
              "\n",
              "    .dataframe thead th {\n",
              "        text-align: right;\n",
              "    }\n",
              "</style>\n",
              "<table border=\"1\" class=\"dataframe\">\n",
              "  <thead>\n",
              "    <tr style=\"text-align: right;\">\n",
              "      <th></th>\n",
              "      <th></th>\n",
              "      <th>tf_idf</th>\n",
              "    </tr>\n",
              "    <tr>\n",
              "      <th>msno</th>\n",
              "      <th>genre_ids</th>\n",
              "      <th></th>\n",
              "    </tr>\n",
              "  </thead>\n",
              "  <tbody>\n",
              "    <tr>\n",
              "      <th rowspan=\"5\" valign=\"top\">++5wYjoMgQHoRuD3GbbvmphZbBBwymzv5Q4l8sywtuU=</th>\n",
              "      <th>465</th>\n",
              "      <td>0.042709</td>\n",
              "    </tr>\n",
              "    <tr>\n",
              "      <th>458</th>\n",
              "      <td>0.021612</td>\n",
              "    </tr>\n",
              "    <tr>\n",
              "      <th>1259</th>\n",
              "      <td>0.086146</td>\n",
              "    </tr>\n",
              "    <tr>\n",
              "      <th>359</th>\n",
              "      <td>0.104048</td>\n",
              "    </tr>\n",
              "    <tr>\n",
              "      <th>474</th>\n",
              "      <td>0.251150</td>\n",
              "    </tr>\n",
              "  </tbody>\n",
              "</table>\n",
              "</div>"
            ],
            "text/plain": [
              "                                                          tf_idf\n",
              "msno                                         genre_ids          \n",
              "++5wYjoMgQHoRuD3GbbvmphZbBBwymzv5Q4l8sywtuU= 465        0.042709\n",
              "                                             458        0.021612\n",
              "                                             1259       0.086146\n",
              "                                             359        0.104048\n",
              "                                             474        0.251150"
            ]
          },
          "metadata": {
            "tags": []
          },
          "execution_count": 28
        }
      ]
    },
    {
      "metadata": {
        "id": "fhXpdsCkL0M5",
        "colab_type": "text"
      },
      "cell_type": "markdown",
      "source": [
        "# **ساخت یک دیتافریم که ستون‌های آن مقدار تی‌اف‌آی‌دی‌اف هر ژانر برای هر کاربر را نشان می‌دهد**"
      ]
    },
    {
      "metadata": {
        "id": "j3zUndkLW09d",
        "colab_type": "code",
        "outputId": "9cac5b3c-6f24-4918-bf99-84f2536ff5dd",
        "colab": {
          "base_uri": "https://localhost:8080/",
          "height": 253
        }
      },
      "cell_type": "code",
      "source": [
        "genre_tfidf = tf_idf.copy()\n",
        "genre_tfidf = genre_tfidf.groupby(['msno', 'genre_ids']).mean().squeeze().unstack().add_suffix('_tf_idf')\n",
        "genre_tfidf.reset_index(inplace=True)\n",
        "genre_tfidf.fillna(0, inplace=True)\n",
        "genre_tfidf.head()"
      ],
      "execution_count": 0,
      "outputs": [
        {
          "output_type": "execute_result",
          "data": {
            "text/html": [
              "<div>\n",
              "<style scoped>\n",
              "    .dataframe tbody tr th:only-of-type {\n",
              "        vertical-align: middle;\n",
              "    }\n",
              "\n",
              "    .dataframe tbody tr th {\n",
              "        vertical-align: top;\n",
              "    }\n",
              "\n",
              "    .dataframe thead th {\n",
              "        text-align: right;\n",
              "    }\n",
              "</style>\n",
              "<table border=\"1\" class=\"dataframe\">\n",
              "  <thead>\n",
              "    <tr style=\"text-align: right;\">\n",
              "      <th>genre_ids</th>\n",
              "      <th>msno</th>\n",
              "      <th>1000_tf_idf</th>\n",
              "      <th>1007_tf_idf</th>\n",
              "      <th>1011_tf_idf</th>\n",
              "      <th>1011|691_tf_idf</th>\n",
              "      <th>1019_tf_idf</th>\n",
              "      <th>1033_tf_idf</th>\n",
              "      <th>1040_tf_idf</th>\n",
              "      <th>1040|1155_tf_idf</th>\n",
              "      <th>1047_tf_idf</th>\n",
              "      <th>...</th>\n",
              "      <th>958|2022_tf_idf</th>\n",
              "      <th>958|2122_tf_idf</th>\n",
              "      <th>958|691_tf_idf</th>\n",
              "      <th>958|786_tf_idf</th>\n",
              "      <th>958|947_tf_idf</th>\n",
              "      <th>965_tf_idf</th>\n",
              "      <th>972_tf_idf</th>\n",
              "      <th>979_tf_idf</th>\n",
              "      <th>986_tf_idf</th>\n",
              "      <th>993|751_tf_idf</th>\n",
              "    </tr>\n",
              "  </thead>\n",
              "  <tbody>\n",
              "    <tr>\n",
              "      <th>0</th>\n",
              "      <td>++5wYjoMgQHoRuD3GbbvmphZbBBwymzv5Q4l8sywtuU=</td>\n",
              "      <td>0.0</td>\n",
              "      <td>0.0</td>\n",
              "      <td>0.000000</td>\n",
              "      <td>0.0</td>\n",
              "      <td>0.0</td>\n",
              "      <td>0.0</td>\n",
              "      <td>0.0</td>\n",
              "      <td>0.0</td>\n",
              "      <td>0.0</td>\n",
              "      <td>...</td>\n",
              "      <td>0.0</td>\n",
              "      <td>0.0</td>\n",
              "      <td>0.0</td>\n",
              "      <td>0.0</td>\n",
              "      <td>0.0</td>\n",
              "      <td>0.0</td>\n",
              "      <td>0.0</td>\n",
              "      <td>0.0</td>\n",
              "      <td>0.0</td>\n",
              "      <td>0.0</td>\n",
              "    </tr>\n",
              "    <tr>\n",
              "      <th>1</th>\n",
              "      <td>++AH7m/EQ4iKe6wSlfO/xXAJx50p+fCeTyF90GoE9Pg=</td>\n",
              "      <td>0.0</td>\n",
              "      <td>0.0</td>\n",
              "      <td>0.053929</td>\n",
              "      <td>0.0</td>\n",
              "      <td>0.0</td>\n",
              "      <td>0.0</td>\n",
              "      <td>0.0</td>\n",
              "      <td>0.0</td>\n",
              "      <td>0.0</td>\n",
              "      <td>...</td>\n",
              "      <td>0.0</td>\n",
              "      <td>0.0</td>\n",
              "      <td>0.0</td>\n",
              "      <td>0.0</td>\n",
              "      <td>0.0</td>\n",
              "      <td>0.0</td>\n",
              "      <td>0.0</td>\n",
              "      <td>0.0</td>\n",
              "      <td>0.0</td>\n",
              "      <td>0.0</td>\n",
              "    </tr>\n",
              "    <tr>\n",
              "      <th>2</th>\n",
              "      <td>++e+jsxuQ8UEnmW40od9Rq3rW7+wAum4wooXyZTKJpk=</td>\n",
              "      <td>0.0</td>\n",
              "      <td>0.0</td>\n",
              "      <td>0.000000</td>\n",
              "      <td>0.0</td>\n",
              "      <td>0.0</td>\n",
              "      <td>0.0</td>\n",
              "      <td>0.0</td>\n",
              "      <td>0.0</td>\n",
              "      <td>0.0</td>\n",
              "      <td>...</td>\n",
              "      <td>0.0</td>\n",
              "      <td>0.0</td>\n",
              "      <td>0.0</td>\n",
              "      <td>0.0</td>\n",
              "      <td>0.0</td>\n",
              "      <td>0.0</td>\n",
              "      <td>0.0</td>\n",
              "      <td>0.0</td>\n",
              "      <td>0.0</td>\n",
              "      <td>0.0</td>\n",
              "    </tr>\n",
              "    <tr>\n",
              "      <th>3</th>\n",
              "      <td>++xWL5Pbi2CpG4uUugigQahauM0J/sBIRloTNPBybIU=</td>\n",
              "      <td>0.0</td>\n",
              "      <td>0.0</td>\n",
              "      <td>0.000000</td>\n",
              "      <td>0.0</td>\n",
              "      <td>0.0</td>\n",
              "      <td>0.0</td>\n",
              "      <td>0.0</td>\n",
              "      <td>0.0</td>\n",
              "      <td>0.0</td>\n",
              "      <td>...</td>\n",
              "      <td>0.0</td>\n",
              "      <td>0.0</td>\n",
              "      <td>0.0</td>\n",
              "      <td>0.0</td>\n",
              "      <td>0.0</td>\n",
              "      <td>0.0</td>\n",
              "      <td>0.0</td>\n",
              "      <td>0.0</td>\n",
              "      <td>0.0</td>\n",
              "      <td>0.0</td>\n",
              "    </tr>\n",
              "    <tr>\n",
              "      <th>4</th>\n",
              "      <td>+/SKX44s4ryWQzYzuV7ZKMXqIKQMN1cPz3M8CJ8CFKU=</td>\n",
              "      <td>0.0</td>\n",
              "      <td>0.0</td>\n",
              "      <td>0.027237</td>\n",
              "      <td>0.0</td>\n",
              "      <td>0.0</td>\n",
              "      <td>0.0</td>\n",
              "      <td>0.0</td>\n",
              "      <td>0.0</td>\n",
              "      <td>0.0</td>\n",
              "      <td>...</td>\n",
              "      <td>0.0</td>\n",
              "      <td>0.0</td>\n",
              "      <td>0.0</td>\n",
              "      <td>0.0</td>\n",
              "      <td>0.0</td>\n",
              "      <td>0.0</td>\n",
              "      <td>0.0</td>\n",
              "      <td>0.0</td>\n",
              "      <td>0.0</td>\n",
              "      <td>0.0</td>\n",
              "    </tr>\n",
              "  </tbody>\n",
              "</table>\n",
              "<p>5 rows × 450 columns</p>\n",
              "</div>"
            ],
            "text/plain": [
              "genre_ids                                          msno  1000_tf_idf  \\\n",
              "0          ++5wYjoMgQHoRuD3GbbvmphZbBBwymzv5Q4l8sywtuU=          0.0   \n",
              "1          ++AH7m/EQ4iKe6wSlfO/xXAJx50p+fCeTyF90GoE9Pg=          0.0   \n",
              "2          ++e+jsxuQ8UEnmW40od9Rq3rW7+wAum4wooXyZTKJpk=          0.0   \n",
              "3          ++xWL5Pbi2CpG4uUugigQahauM0J/sBIRloTNPBybIU=          0.0   \n",
              "4          +/SKX44s4ryWQzYzuV7ZKMXqIKQMN1cPz3M8CJ8CFKU=          0.0   \n",
              "\n",
              "genre_ids  1007_tf_idf  1011_tf_idf  1011|691_tf_idf  1019_tf_idf  \\\n",
              "0                  0.0     0.000000              0.0          0.0   \n",
              "1                  0.0     0.053929              0.0          0.0   \n",
              "2                  0.0     0.000000              0.0          0.0   \n",
              "3                  0.0     0.000000              0.0          0.0   \n",
              "4                  0.0     0.027237              0.0          0.0   \n",
              "\n",
              "genre_ids  1033_tf_idf  1040_tf_idf  1040|1155_tf_idf  1047_tf_idf  \\\n",
              "0                  0.0          0.0               0.0          0.0   \n",
              "1                  0.0          0.0               0.0          0.0   \n",
              "2                  0.0          0.0               0.0          0.0   \n",
              "3                  0.0          0.0               0.0          0.0   \n",
              "4                  0.0          0.0               0.0          0.0   \n",
              "\n",
              "genre_ids       ...        958|2022_tf_idf  958|2122_tf_idf  958|691_tf_idf  \\\n",
              "0               ...                    0.0              0.0             0.0   \n",
              "1               ...                    0.0              0.0             0.0   \n",
              "2               ...                    0.0              0.0             0.0   \n",
              "3               ...                    0.0              0.0             0.0   \n",
              "4               ...                    0.0              0.0             0.0   \n",
              "\n",
              "genre_ids  958|786_tf_idf  958|947_tf_idf  965_tf_idf  972_tf_idf  979_tf_idf  \\\n",
              "0                     0.0             0.0         0.0         0.0         0.0   \n",
              "1                     0.0             0.0         0.0         0.0         0.0   \n",
              "2                     0.0             0.0         0.0         0.0         0.0   \n",
              "3                     0.0             0.0         0.0         0.0         0.0   \n",
              "4                     0.0             0.0         0.0         0.0         0.0   \n",
              "\n",
              "genre_ids  986_tf_idf  993|751_tf_idf  \n",
              "0                 0.0             0.0  \n",
              "1                 0.0             0.0  \n",
              "2                 0.0             0.0  \n",
              "3                 0.0             0.0  \n",
              "4                 0.0             0.0  \n",
              "\n",
              "[5 rows x 450 columns]"
            ]
          },
          "metadata": {
            "tags": []
          },
          "execution_count": 29
        }
      ]
    },
    {
      "metadata": {
        "id": "Uzavd46DXFPU",
        "colab_type": "code",
        "outputId": "faa62903-696e-45bc-ab5c-e0c5e41b7791",
        "colab": {
          "base_uri": "https://localhost:8080/",
          "height": 233
        }
      },
      "cell_type": "code",
      "source": [
        "genre_tfidf.columns = np.arange(len(genre_tfidf.columns))\n",
        "genre_tfidf.head()"
      ],
      "execution_count": 0,
      "outputs": [
        {
          "output_type": "execute_result",
          "data": {
            "text/html": [
              "<div>\n",
              "<style scoped>\n",
              "    .dataframe tbody tr th:only-of-type {\n",
              "        vertical-align: middle;\n",
              "    }\n",
              "\n",
              "    .dataframe tbody tr th {\n",
              "        vertical-align: top;\n",
              "    }\n",
              "\n",
              "    .dataframe thead th {\n",
              "        text-align: right;\n",
              "    }\n",
              "</style>\n",
              "<table border=\"1\" class=\"dataframe\">\n",
              "  <thead>\n",
              "    <tr style=\"text-align: right;\">\n",
              "      <th></th>\n",
              "      <th>0</th>\n",
              "      <th>1</th>\n",
              "      <th>2</th>\n",
              "      <th>3</th>\n",
              "      <th>4</th>\n",
              "      <th>5</th>\n",
              "      <th>6</th>\n",
              "      <th>7</th>\n",
              "      <th>8</th>\n",
              "      <th>9</th>\n",
              "      <th>...</th>\n",
              "      <th>440</th>\n",
              "      <th>441</th>\n",
              "      <th>442</th>\n",
              "      <th>443</th>\n",
              "      <th>444</th>\n",
              "      <th>445</th>\n",
              "      <th>446</th>\n",
              "      <th>447</th>\n",
              "      <th>448</th>\n",
              "      <th>449</th>\n",
              "    </tr>\n",
              "  </thead>\n",
              "  <tbody>\n",
              "    <tr>\n",
              "      <th>0</th>\n",
              "      <td>++5wYjoMgQHoRuD3GbbvmphZbBBwymzv5Q4l8sywtuU=</td>\n",
              "      <td>0.0</td>\n",
              "      <td>0.0</td>\n",
              "      <td>0.000000</td>\n",
              "      <td>0.0</td>\n",
              "      <td>0.0</td>\n",
              "      <td>0.0</td>\n",
              "      <td>0.0</td>\n",
              "      <td>0.0</td>\n",
              "      <td>0.0</td>\n",
              "      <td>...</td>\n",
              "      <td>0.0</td>\n",
              "      <td>0.0</td>\n",
              "      <td>0.0</td>\n",
              "      <td>0.0</td>\n",
              "      <td>0.0</td>\n",
              "      <td>0.0</td>\n",
              "      <td>0.0</td>\n",
              "      <td>0.0</td>\n",
              "      <td>0.0</td>\n",
              "      <td>0.0</td>\n",
              "    </tr>\n",
              "    <tr>\n",
              "      <th>1</th>\n",
              "      <td>++AH7m/EQ4iKe6wSlfO/xXAJx50p+fCeTyF90GoE9Pg=</td>\n",
              "      <td>0.0</td>\n",
              "      <td>0.0</td>\n",
              "      <td>0.053929</td>\n",
              "      <td>0.0</td>\n",
              "      <td>0.0</td>\n",
              "      <td>0.0</td>\n",
              "      <td>0.0</td>\n",
              "      <td>0.0</td>\n",
              "      <td>0.0</td>\n",
              "      <td>...</td>\n",
              "      <td>0.0</td>\n",
              "      <td>0.0</td>\n",
              "      <td>0.0</td>\n",
              "      <td>0.0</td>\n",
              "      <td>0.0</td>\n",
              "      <td>0.0</td>\n",
              "      <td>0.0</td>\n",
              "      <td>0.0</td>\n",
              "      <td>0.0</td>\n",
              "      <td>0.0</td>\n",
              "    </tr>\n",
              "    <tr>\n",
              "      <th>2</th>\n",
              "      <td>++e+jsxuQ8UEnmW40od9Rq3rW7+wAum4wooXyZTKJpk=</td>\n",
              "      <td>0.0</td>\n",
              "      <td>0.0</td>\n",
              "      <td>0.000000</td>\n",
              "      <td>0.0</td>\n",
              "      <td>0.0</td>\n",
              "      <td>0.0</td>\n",
              "      <td>0.0</td>\n",
              "      <td>0.0</td>\n",
              "      <td>0.0</td>\n",
              "      <td>...</td>\n",
              "      <td>0.0</td>\n",
              "      <td>0.0</td>\n",
              "      <td>0.0</td>\n",
              "      <td>0.0</td>\n",
              "      <td>0.0</td>\n",
              "      <td>0.0</td>\n",
              "      <td>0.0</td>\n",
              "      <td>0.0</td>\n",
              "      <td>0.0</td>\n",
              "      <td>0.0</td>\n",
              "    </tr>\n",
              "    <tr>\n",
              "      <th>3</th>\n",
              "      <td>++xWL5Pbi2CpG4uUugigQahauM0J/sBIRloTNPBybIU=</td>\n",
              "      <td>0.0</td>\n",
              "      <td>0.0</td>\n",
              "      <td>0.000000</td>\n",
              "      <td>0.0</td>\n",
              "      <td>0.0</td>\n",
              "      <td>0.0</td>\n",
              "      <td>0.0</td>\n",
              "      <td>0.0</td>\n",
              "      <td>0.0</td>\n",
              "      <td>...</td>\n",
              "      <td>0.0</td>\n",
              "      <td>0.0</td>\n",
              "      <td>0.0</td>\n",
              "      <td>0.0</td>\n",
              "      <td>0.0</td>\n",
              "      <td>0.0</td>\n",
              "      <td>0.0</td>\n",
              "      <td>0.0</td>\n",
              "      <td>0.0</td>\n",
              "      <td>0.0</td>\n",
              "    </tr>\n",
              "    <tr>\n",
              "      <th>4</th>\n",
              "      <td>+/SKX44s4ryWQzYzuV7ZKMXqIKQMN1cPz3M8CJ8CFKU=</td>\n",
              "      <td>0.0</td>\n",
              "      <td>0.0</td>\n",
              "      <td>0.027237</td>\n",
              "      <td>0.0</td>\n",
              "      <td>0.0</td>\n",
              "      <td>0.0</td>\n",
              "      <td>0.0</td>\n",
              "      <td>0.0</td>\n",
              "      <td>0.0</td>\n",
              "      <td>...</td>\n",
              "      <td>0.0</td>\n",
              "      <td>0.0</td>\n",
              "      <td>0.0</td>\n",
              "      <td>0.0</td>\n",
              "      <td>0.0</td>\n",
              "      <td>0.0</td>\n",
              "      <td>0.0</td>\n",
              "      <td>0.0</td>\n",
              "      <td>0.0</td>\n",
              "      <td>0.0</td>\n",
              "    </tr>\n",
              "  </tbody>\n",
              "</table>\n",
              "<p>5 rows × 450 columns</p>\n",
              "</div>"
            ],
            "text/plain": [
              "                                            0    1    2         3    4    5    \\\n",
              "0  ++5wYjoMgQHoRuD3GbbvmphZbBBwymzv5Q4l8sywtuU=  0.0  0.0  0.000000  0.0  0.0   \n",
              "1  ++AH7m/EQ4iKe6wSlfO/xXAJx50p+fCeTyF90GoE9Pg=  0.0  0.0  0.053929  0.0  0.0   \n",
              "2  ++e+jsxuQ8UEnmW40od9Rq3rW7+wAum4wooXyZTKJpk=  0.0  0.0  0.000000  0.0  0.0   \n",
              "3  ++xWL5Pbi2CpG4uUugigQahauM0J/sBIRloTNPBybIU=  0.0  0.0  0.000000  0.0  0.0   \n",
              "4  +/SKX44s4ryWQzYzuV7ZKMXqIKQMN1cPz3M8CJ8CFKU=  0.0  0.0  0.027237  0.0  0.0   \n",
              "\n",
              "   6    7    8    9   ...   440  441  442  443  444  445  446  447  448  449  \n",
              "0  0.0  0.0  0.0  0.0 ...   0.0  0.0  0.0  0.0  0.0  0.0  0.0  0.0  0.0  0.0  \n",
              "1  0.0  0.0  0.0  0.0 ...   0.0  0.0  0.0  0.0  0.0  0.0  0.0  0.0  0.0  0.0  \n",
              "2  0.0  0.0  0.0  0.0 ...   0.0  0.0  0.0  0.0  0.0  0.0  0.0  0.0  0.0  0.0  \n",
              "3  0.0  0.0  0.0  0.0 ...   0.0  0.0  0.0  0.0  0.0  0.0  0.0  0.0  0.0  0.0  \n",
              "4  0.0  0.0  0.0  0.0 ...   0.0  0.0  0.0  0.0  0.0  0.0  0.0  0.0  0.0  0.0  \n",
              "\n",
              "[5 rows x 450 columns]"
            ]
          },
          "metadata": {
            "tags": []
          },
          "execution_count": 30
        }
      ]
    },
    {
      "metadata": {
        "id": "oDTu2b5eMJaS",
        "colab_type": "text"
      },
      "cell_type": "markdown",
      "source": [
        "# **تبدیل دیتافریم به sparse matrix**"
      ]
    },
    {
      "metadata": {
        "id": "dMtUBIJ4XQSw",
        "colab_type": "code",
        "outputId": "d2c7b4bf-99f0-415a-c9b0-a92b2a04717c",
        "colab": {
          "base_uri": "https://localhost:8080/",
          "height": 233
        }
      },
      "cell_type": "code",
      "source": [
        "matrix = genre_tfidf.drop(0, axis=1)\n",
        "matrix.head()"
      ],
      "execution_count": 0,
      "outputs": [
        {
          "output_type": "execute_result",
          "data": {
            "text/html": [
              "<div>\n",
              "<style scoped>\n",
              "    .dataframe tbody tr th:only-of-type {\n",
              "        vertical-align: middle;\n",
              "    }\n",
              "\n",
              "    .dataframe tbody tr th {\n",
              "        vertical-align: top;\n",
              "    }\n",
              "\n",
              "    .dataframe thead th {\n",
              "        text-align: right;\n",
              "    }\n",
              "</style>\n",
              "<table border=\"1\" class=\"dataframe\">\n",
              "  <thead>\n",
              "    <tr style=\"text-align: right;\">\n",
              "      <th></th>\n",
              "      <th>1</th>\n",
              "      <th>2</th>\n",
              "      <th>3</th>\n",
              "      <th>4</th>\n",
              "      <th>5</th>\n",
              "      <th>6</th>\n",
              "      <th>7</th>\n",
              "      <th>8</th>\n",
              "      <th>9</th>\n",
              "      <th>10</th>\n",
              "      <th>...</th>\n",
              "      <th>440</th>\n",
              "      <th>441</th>\n",
              "      <th>442</th>\n",
              "      <th>443</th>\n",
              "      <th>444</th>\n",
              "      <th>445</th>\n",
              "      <th>446</th>\n",
              "      <th>447</th>\n",
              "      <th>448</th>\n",
              "      <th>449</th>\n",
              "    </tr>\n",
              "  </thead>\n",
              "  <tbody>\n",
              "    <tr>\n",
              "      <th>0</th>\n",
              "      <td>0.0</td>\n",
              "      <td>0.0</td>\n",
              "      <td>0.000000</td>\n",
              "      <td>0.0</td>\n",
              "      <td>0.0</td>\n",
              "      <td>0.0</td>\n",
              "      <td>0.0</td>\n",
              "      <td>0.0</td>\n",
              "      <td>0.0</td>\n",
              "      <td>0.0</td>\n",
              "      <td>...</td>\n",
              "      <td>0.0</td>\n",
              "      <td>0.0</td>\n",
              "      <td>0.0</td>\n",
              "      <td>0.0</td>\n",
              "      <td>0.0</td>\n",
              "      <td>0.0</td>\n",
              "      <td>0.0</td>\n",
              "      <td>0.0</td>\n",
              "      <td>0.0</td>\n",
              "      <td>0.0</td>\n",
              "    </tr>\n",
              "    <tr>\n",
              "      <th>1</th>\n",
              "      <td>0.0</td>\n",
              "      <td>0.0</td>\n",
              "      <td>0.053929</td>\n",
              "      <td>0.0</td>\n",
              "      <td>0.0</td>\n",
              "      <td>0.0</td>\n",
              "      <td>0.0</td>\n",
              "      <td>0.0</td>\n",
              "      <td>0.0</td>\n",
              "      <td>0.0</td>\n",
              "      <td>...</td>\n",
              "      <td>0.0</td>\n",
              "      <td>0.0</td>\n",
              "      <td>0.0</td>\n",
              "      <td>0.0</td>\n",
              "      <td>0.0</td>\n",
              "      <td>0.0</td>\n",
              "      <td>0.0</td>\n",
              "      <td>0.0</td>\n",
              "      <td>0.0</td>\n",
              "      <td>0.0</td>\n",
              "    </tr>\n",
              "    <tr>\n",
              "      <th>2</th>\n",
              "      <td>0.0</td>\n",
              "      <td>0.0</td>\n",
              "      <td>0.000000</td>\n",
              "      <td>0.0</td>\n",
              "      <td>0.0</td>\n",
              "      <td>0.0</td>\n",
              "      <td>0.0</td>\n",
              "      <td>0.0</td>\n",
              "      <td>0.0</td>\n",
              "      <td>0.0</td>\n",
              "      <td>...</td>\n",
              "      <td>0.0</td>\n",
              "      <td>0.0</td>\n",
              "      <td>0.0</td>\n",
              "      <td>0.0</td>\n",
              "      <td>0.0</td>\n",
              "      <td>0.0</td>\n",
              "      <td>0.0</td>\n",
              "      <td>0.0</td>\n",
              "      <td>0.0</td>\n",
              "      <td>0.0</td>\n",
              "    </tr>\n",
              "    <tr>\n",
              "      <th>3</th>\n",
              "      <td>0.0</td>\n",
              "      <td>0.0</td>\n",
              "      <td>0.000000</td>\n",
              "      <td>0.0</td>\n",
              "      <td>0.0</td>\n",
              "      <td>0.0</td>\n",
              "      <td>0.0</td>\n",
              "      <td>0.0</td>\n",
              "      <td>0.0</td>\n",
              "      <td>0.0</td>\n",
              "      <td>...</td>\n",
              "      <td>0.0</td>\n",
              "      <td>0.0</td>\n",
              "      <td>0.0</td>\n",
              "      <td>0.0</td>\n",
              "      <td>0.0</td>\n",
              "      <td>0.0</td>\n",
              "      <td>0.0</td>\n",
              "      <td>0.0</td>\n",
              "      <td>0.0</td>\n",
              "      <td>0.0</td>\n",
              "    </tr>\n",
              "    <tr>\n",
              "      <th>4</th>\n",
              "      <td>0.0</td>\n",
              "      <td>0.0</td>\n",
              "      <td>0.027237</td>\n",
              "      <td>0.0</td>\n",
              "      <td>0.0</td>\n",
              "      <td>0.0</td>\n",
              "      <td>0.0</td>\n",
              "      <td>0.0</td>\n",
              "      <td>0.0</td>\n",
              "      <td>0.0</td>\n",
              "      <td>...</td>\n",
              "      <td>0.0</td>\n",
              "      <td>0.0</td>\n",
              "      <td>0.0</td>\n",
              "      <td>0.0</td>\n",
              "      <td>0.0</td>\n",
              "      <td>0.0</td>\n",
              "      <td>0.0</td>\n",
              "      <td>0.0</td>\n",
              "      <td>0.0</td>\n",
              "      <td>0.0</td>\n",
              "    </tr>\n",
              "  </tbody>\n",
              "</table>\n",
              "<p>5 rows × 449 columns</p>\n",
              "</div>"
            ],
            "text/plain": [
              "   1    2         3    4    5    6    7    8    9    10  ...   440  441  442  \\\n",
              "0  0.0  0.0  0.000000  0.0  0.0  0.0  0.0  0.0  0.0  0.0 ...   0.0  0.0  0.0   \n",
              "1  0.0  0.0  0.053929  0.0  0.0  0.0  0.0  0.0  0.0  0.0 ...   0.0  0.0  0.0   \n",
              "2  0.0  0.0  0.000000  0.0  0.0  0.0  0.0  0.0  0.0  0.0 ...   0.0  0.0  0.0   \n",
              "3  0.0  0.0  0.000000  0.0  0.0  0.0  0.0  0.0  0.0  0.0 ...   0.0  0.0  0.0   \n",
              "4  0.0  0.0  0.027237  0.0  0.0  0.0  0.0  0.0  0.0  0.0 ...   0.0  0.0  0.0   \n",
              "\n",
              "   443  444  445  446  447  448  449  \n",
              "0  0.0  0.0  0.0  0.0  0.0  0.0  0.0  \n",
              "1  0.0  0.0  0.0  0.0  0.0  0.0  0.0  \n",
              "2  0.0  0.0  0.0  0.0  0.0  0.0  0.0  \n",
              "3  0.0  0.0  0.0  0.0  0.0  0.0  0.0  \n",
              "4  0.0  0.0  0.0  0.0  0.0  0.0  0.0  \n",
              "\n",
              "[5 rows x 449 columns]"
            ]
          },
          "metadata": {
            "tags": []
          },
          "execution_count": 31
        }
      ]
    },
    {
      "metadata": {
        "id": "rwV05YnSXiFN",
        "colab_type": "code",
        "outputId": "14da8e65-7afc-41d3-ee15-0381dc383697",
        "colab": {
          "base_uri": "https://localhost:8080/",
          "height": 53
        }
      },
      "cell_type": "code",
      "source": [
        "csr_matrix_data  = csr_matrix(matrix.values)\n",
        "csr_matrix_data = normalize(csr_matrix_data)\n",
        "csr_matrix_data"
      ],
      "execution_count": 0,
      "outputs": [
        {
          "output_type": "execute_result",
          "data": {
            "text/plain": [
              "<26671x449 sparse matrix of type '<class 'numpy.float64'>'\n",
              "\twith 233712 stored elements in Compressed Sparse Row format>"
            ]
          },
          "metadata": {
            "tags": []
          },
          "execution_count": 32
        }
      ]
    },
    {
      "metadata": {
        "id": "Xdk0pAd4MP2P",
        "colab_type": "text"
      },
      "cell_type": "markdown",
      "source": [
        "# ** تابع‌های مربوط به کلاستر بندی**"
      ]
    },
    {
      "metadata": {
        "id": "XAoboAzeXuYg",
        "colab_type": "code",
        "colab": {}
      },
      "cell_type": "code",
      "source": [
        "def get_initial_centroids(data, k, seed=None):\n",
        "    '''Randomly choose k data points as initial centroids'''\n",
        "    if seed is not None: # useful for obtaining consistent results\n",
        "        np.random.seed(seed)\n",
        "    n = data.shape[0] # number of data points\n",
        "        \n",
        "    # Pick K indices from range [0, N).\n",
        "    rand_indices = np.random.randint(0, n, k)\n",
        "    \n",
        "    # Keep centroids as dense format, as many entries will be nonzero due to averaging.\n",
        "    # As long as at least one document in a cluster contains a word,\n",
        "    # it will carry a nonzero weight in the TF-IDF vector of the centroid.\n",
        "    centroids = data[rand_indices,:].toarray()\n",
        "    \n",
        "    return centroids"
      ],
      "execution_count": 0,
      "outputs": []
    },
    {
      "metadata": {
        "id": "enMBLlRpXxSl",
        "colab_type": "code",
        "colab": {}
      },
      "cell_type": "code",
      "source": [
        "def assign_clusters(data, centroids):\n",
        "    \n",
        "    # Compute distances between each data point and the set of centroids:\n",
        "    # Fill in the blank (RHS only)\n",
        "    distances_from_centroids = pairwise_distances(data, centroids, metric='euclidean')\n",
        "    \n",
        "    # Compute cluster assignments for each data point:\n",
        "    # Fill in the blank (RHS only)\n",
        "    cluster_assignment = np.argmin(distances_from_centroids, axis=1)\n",
        "    \n",
        "    return cluster_assignment"
      ],
      "execution_count": 0,
      "outputs": []
    },
    {
      "metadata": {
        "id": "9y9zSUNOXz5k",
        "colab_type": "code",
        "colab": {}
      },
      "cell_type": "code",
      "source": [
        "def revise_centroids(data, k, cluster_assignment):\n",
        "    new_centroids = []\n",
        "    for i in range(k):\n",
        "        # Select all data points that belong to cluster i. Fill in the blank (RHS only)\n",
        "        member_data_points = data[cluster_assignment==i]\n",
        "        # Compute the mean of the data points. Fill in the blank (RHS only)\n",
        "        centroid = member_data_points.mean(axis=0)\n",
        "        \n",
        "        # Convert numpy.matrix type to numpy.ndarray type\n",
        "        centroid = centroid.A1\n",
        "        new_centroids.append(centroid)\n",
        "    new_centroids = np.array(new_centroids)\n",
        "    \n",
        "    return new_centroids"
      ],
      "execution_count": 0,
      "outputs": []
    },
    {
      "metadata": {
        "id": "jovuqOkCX4sk",
        "colab_type": "code",
        "colab": {}
      },
      "cell_type": "code",
      "source": [
        "def compute_heterogeneity(data, k, centroids, cluster_assignment):\n",
        "    \n",
        "    heterogeneity = 0.0\n",
        "    for i in range(k):\n",
        "        \n",
        "        # Select all data points that belong to cluster i. Fill in the blank (RHS only)\n",
        "        member_data_points = data[cluster_assignment==i, :]\n",
        "        \n",
        "        if member_data_points.shape[0] > 0: # check if i-th cluster is non-empty\n",
        "            # Compute distances from centroid to data points (RHS only)\n",
        "            distances = pairwise_distances(member_data_points, [centroids[i]], metric='euclidean')\n",
        "            squared_distances = distances**2\n",
        "            heterogeneity += np.sum(squared_distances)\n",
        "        \n",
        "    return heterogeneity"
      ],
      "execution_count": 0,
      "outputs": []
    },
    {
      "metadata": {
        "id": "cy1KG5NaX693",
        "colab_type": "code",
        "colab": {}
      },
      "cell_type": "code",
      "source": [
        "def kmeans(data, k, initial_centroids, maxiter, record_heterogeneity=None, verbose=False):\n",
        "    '''This function runs k-means on given data and initial set of centroids.\n",
        "       maxiter: maximum number of iterations to run.\n",
        "       record_heterogeneity: (optional) a list, to store the history of heterogeneity as function of iterations\n",
        "                             if None, do not store the history.\n",
        "       verbose: if True, print how many data points changed their cluster labels in each iteration'''\n",
        "    centroids = initial_centroids[:]\n",
        "    prev_cluster_assignment = None\n",
        "    \n",
        "    for itr in range(maxiter):        \n",
        "        if verbose:\n",
        "            print(itr)\n",
        "        \n",
        "        # 1. Make cluster assignments using nearest centroids\n",
        "        # YOUR CODE HERE\n",
        "        cluster_assignment = assign_clusters(data, centroids)\n",
        "            \n",
        "        # 2. Compute a new centroid for each of the k clusters, averaging all data points assigned to that cluster.\n",
        "        # YOUR CODE HERE\n",
        "        centroids = revise_centroids(data, k, cluster_assignment)\n",
        "            \n",
        "        # Check for convergence: if none of the assignments changed, stop\n",
        "        if prev_cluster_assignment is not None and \\\n",
        "          (prev_cluster_assignment==cluster_assignment).all():\n",
        "            break\n",
        "        \n",
        "        # Print number of new assignments \n",
        "        if prev_cluster_assignment is not None:\n",
        "            num_changed = np.sum(prev_cluster_assignment!=cluster_assignment)\n",
        "            if verbose:\n",
        "                print('    {0:5d} elements changed their cluster assignment.'.format(num_changed))   \n",
        "        \n",
        "        # Record heterogeneity convergence metric\n",
        "        if record_heterogeneity is not None:\n",
        "            # YOUR CODE HERE\n",
        "            score = compute_heterogeneity(data, k, centroids, cluster_assignment)\n",
        "            record_heterogeneity.append(score)\n",
        "        \n",
        "        prev_cluster_assignment = cluster_assignment[:]\n",
        "        \n",
        "    return centroids, cluster_assignment"
      ],
      "execution_count": 0,
      "outputs": []
    },
    {
      "metadata": {
        "id": "Txujmhc7X9Np",
        "colab_type": "code",
        "colab": {}
      },
      "cell_type": "code",
      "source": [
        "def plot_heterogeneity(heterogeneity, k):\n",
        "    plt.figure(figsize=(7,4))\n",
        "    plt.plot(heterogeneity, linewidth=4)\n",
        "    plt.xlabel('# Iterations')\n",
        "    plt.ylabel('Heterogeneity')\n",
        "    plt.title('Heterogeneity of clustering over time, K={0:d}'.format(k))\n",
        "    plt.rcParams.update({'font.size': 16})\n",
        "    plt.tight_layout()"
      ],
      "execution_count": 0,
      "outputs": []
    },
    {
      "metadata": {
        "id": "sIjhCK6rYBGT",
        "colab_type": "code",
        "colab": {}
      },
      "cell_type": "code",
      "source": [
        "def smart_initialize(data, k, seed=None):\n",
        "    '''Use k-means++ to initialize a good set of centroids'''\n",
        "    if seed is not None: # useful for obtaining consistent results\n",
        "        np.random.seed(seed)\n",
        "    centroids = np.zeros((k, data.shape[1]))\n",
        "    \n",
        "    # Randomly choose the first centroid.\n",
        "    # Since we have no prior knowledge, choose uniformly at random\n",
        "    idx = np.random.randint(data.shape[0])\n",
        "    centroids[0] = data[idx,:].toarray()\n",
        "    # Compute distances from the first centroid chosen to all the other data points\n",
        "    squared_distances = pairwise_distances(data, centroids[0:1], metric='euclidean').flatten()**2\n",
        "    \n",
        "    for i in range(1, k):\n",
        "        # Choose the next centroid randomly, so that the probability for each data point to be chosen\n",
        "        # is directly proportional to its squared distance from the nearest centroid.\n",
        "        # Roughtly speaking, a new centroid should be as far as from ohter centroids as possible.\n",
        "        idx = np.random.choice(data.shape[0], 1, p=squared_distances/sum(squared_distances))\n",
        "        centroids[i] = data[idx,:].toarray()\n",
        "        # Now compute distances from the centroids to all data points\n",
        "        squared_distances = np.min(pairwise_distances(data, centroids[0:i+1], metric='euclidean')**2,axis=1)\n",
        "    \n",
        "    return centroids"
      ],
      "execution_count": 0,
      "outputs": []
    },
    {
      "metadata": {
        "id": "g8P_DP9kYFhq",
        "colab_type": "code",
        "colab": {}
      },
      "cell_type": "code",
      "source": [
        "def kmeans_multiple_runs(data, k, maxiter, num_runs, seed_list=None, verbose=False):\n",
        "    heterogeneity = {}\n",
        "    \n",
        "    min_heterogeneity_achieved = float('inf')\n",
        "    best_seed = None\n",
        "    final_centroids = None\n",
        "    final_cluster_assignment = None\n",
        "    \n",
        "    for i in range(num_runs):\n",
        "        \n",
        "        # Use UTC time if no seeds are provided \n",
        "        if seed_list is not None: \n",
        "            seed = seed_list[i]\n",
        "            np.random.seed(seed)\n",
        "        else: \n",
        "            seed = int(time.time())\n",
        "            np.random.seed(seed)\n",
        "        \n",
        "        # Use k-means++ initialization\n",
        "        # YOUR CODE HERE\n",
        "        initial_centroids = smart_initialize(data, k, seed=seed)\n",
        "        \n",
        "        # Run k-means\n",
        "        # YOUR CODE HERE\n",
        "        centroids, cluster_assignment = kmeans(data, k, initial_centroids, maxiter, record_heterogeneity=None, verbose=False)\n",
        "        \n",
        "        # To save time, compute heterogeneity only once in the end\n",
        "        # YOUR CODE HERE\n",
        "        heterogeneity[seed] = compute_heterogeneity(data, k, centroids, cluster_assignment)\n",
        "        \n",
        "        if verbose:\n",
        "            print('seed={0:06d}, heterogeneity={1:.5f}'.format(seed, heterogeneity[seed]))\n",
        "            sys.stdout.flush()\n",
        "        \n",
        "        # if current measurement of heterogeneity is lower than previously seen,\n",
        "        # update the minimum record of heterogeneity.\n",
        "        if heterogeneity[seed] < min_heterogeneity_achieved:\n",
        "            min_heterogeneity_achieved = heterogeneity[seed]\n",
        "            best_seed = seed\n",
        "            final_centroids = centroids\n",
        "            final_cluster_assignment = cluster_assignment\n",
        "    \n",
        "    # Return the centroids and cluster assignments that minimize heterogeneity.\n",
        "    return final_centroids, final_cluster_assignment"
      ],
      "execution_count": 0,
      "outputs": []
    },
    {
      "metadata": {
        "id": "QRiGwI_-YP-a",
        "colab_type": "code",
        "colab": {}
      },
      "cell_type": "code",
      "source": [
        "def plot_k_vs_heterogeneity(k_values, heterogeneity_values):\n",
        "   plt.figure(figsize=(7,4))\n",
        "   plt.plot(k_values, heterogeneity_values, linewidth=4)\n",
        "   plt.xlabel('K')\n",
        "   plt.ylabel('Heterogeneity')\n",
        "   plt.title('K vs. Heterogeneity')\n",
        "   plt.rcParams.update({'font.size': 16})\n",
        "   plt.tight_layout()"
      ],
      "execution_count": 0,
      "outputs": []
    },
    {
      "metadata": {
        "id": "s46Z-u0NMaRr",
        "colab_type": "text"
      },
      "cell_type": "markdown",
      "source": [
        "# **محاسبه همگرایی و پیدا کردن تعداد کلاستر بهینه**"
      ]
    },
    {
      "metadata": {
        "id": "WwTB9KrjtVmP",
        "colab_type": "code",
        "outputId": "9586213f-c464-45e3-eba9-7cd03f2e0d5f",
        "colab": {
          "base_uri": "https://localhost:8080/",
          "height": 302
        }
      },
      "cell_type": "code",
      "source": [
        "start = time.time()\n",
        "centroids = {}\n",
        "cluster_assignment = {}\n",
        "heterogeneity_values = []\n",
        "k_list = np.arange(3,100,3)\n",
        "seed_list = [0, 20000, 40000, 60000, 80000, 100000, 120000]\n",
        "000600\n",
        "for k in k_list:\n",
        "   heterogeneity = []\n",
        "   centroids[k], cluster_assignment[k] = kmeans_multiple_runs(csr_matrix_data, k, maxiter=600,\n",
        "                                                              num_runs=len(seed_list),\n",
        "                                                              seed_list=seed_list,\n",
        "                                                              verbose=False)\n",
        "   score = compute_heterogeneity(csr_matrix_data, k, centroids[k], cluster_assignment[k])\n",
        "   heterogeneity_values.append(score)\n",
        "\n",
        "plot_k_vs_heterogeneity(k_list, heterogeneity_values)\n",
        "\n",
        "end = time.time()\n",
        "print(end-start)"
      ],
      "execution_count": 0,
      "outputs": [
        {
          "output_type": "stream",
          "text": [
            "1277.1517169475555\n"
          ],
          "name": "stdout"
        },
        {
          "output_type": "display_data",
          "data": {
            "image/png": "[encoded data removed]",
            "text/plain": [
              "<matplotlib.figure.Figure at 0x7f01365d3fd0>"
            ]
          },
          "metadata": {
            "tags": []
          }
        }
      ]
    },
    {
      "metadata": {
        "id": "QMDmYEbOMlGh",
        "colab_type": "text"
      },
      "cell_type": "markdown",
      "source": [
        "# **انتخاب ۳۰ کلاستر و اعمال الگوریتم بر روی داده‌ها**"
      ]
    },
    {
      "metadata": {
        "id": "thJFL8yza5zQ",
        "colab_type": "code",
        "outputId": "efdc2d3a-7d83-4e1b-8b7a-334734577cac",
        "colab": {
          "base_uri": "https://localhost:8080/",
          "height": 143
        }
      },
      "cell_type": "code",
      "source": [
        "seed_list = [0, 20000, 40000, 60000, 80000, 100000, 120000]\n",
        "cent, assign = kmeans_multiple_runs(csr_matrix_data, 30, maxiter=600, num_runs=len(seed_list),\n",
        "                                                              seed_list=seed_list,\n",
        "                                                              verbose=True)"
      ],
      "execution_count": 0,
      "outputs": [
        {
          "output_type": "stream",
          "text": [
            "seed=000000, heterogeneity=8408.76728\n",
            "seed=020000, heterogeneity=8552.06792\n",
            "seed=040000, heterogeneity=8467.29225\n",
            "seed=060000, heterogeneity=8915.52561\n",
            "seed=080000, heterogeneity=8502.83222\n",
            "seed=100000, heterogeneity=8353.65305\n",
            "seed=120000, heterogeneity=8303.47917\n"
          ],
          "name": "stdout"
        }
      ]
    },
    {
      "metadata": {
        "id": "Ya5bY9xYMwjH",
        "colab_type": "text"
      },
      "cell_type": "markdown",
      "source": [
        "# **مشخص کردن کلاستر هر کاربر و نمایش آن بصورت یک دیتا فریم**"
      ]
    },
    {
      "metadata": {
        "id": "hiTqUNYVazMp",
        "colab_type": "code",
        "outputId": "6e90f9a1-4d1f-4cb4-8959-63658f6d3bfe",
        "colab": {
          "base_uri": "https://localhost:8080/",
          "height": 408
        }
      },
      "cell_type": "code",
      "source": [
        "#counts_copy.drop('cluster', axis=1, inplace=True)\n",
        "counts_copy['cluster'] = assign.tolist()\n",
        "counts_copy.head(10)"
      ],
      "execution_count": 0,
      "outputs": [
        {
          "output_type": "execute_result",
          "data": {
            "text/html": [
              "<div>\n",
              "<style scoped>\n",
              "    .dataframe tbody tr th:only-of-type {\n",
              "        vertical-align: middle;\n",
              "    }\n",
              "\n",
              "    .dataframe tbody tr th {\n",
              "        vertical-align: top;\n",
              "    }\n",
              "\n",
              "    .dataframe thead th {\n",
              "        text-align: right;\n",
              "    }\n",
              "</style>\n",
              "<table border=\"1\" class=\"dataframe\">\n",
              "  <thead>\n",
              "    <tr style=\"text-align: right;\">\n",
              "      <th>genre_ids</th>\n",
              "      <th>msno</th>\n",
              "      <th>1000_count</th>\n",
              "      <th>1007_count</th>\n",
              "      <th>1011_count</th>\n",
              "      <th>1011|691_count</th>\n",
              "      <th>1019_count</th>\n",
              "      <th>1033_count</th>\n",
              "      <th>1040_count</th>\n",
              "      <th>1040|1155_count</th>\n",
              "      <th>1047_count</th>\n",
              "      <th>...</th>\n",
              "      <th>958|2122_count</th>\n",
              "      <th>958|691_count</th>\n",
              "      <th>958|786_count</th>\n",
              "      <th>958|947_count</th>\n",
              "      <th>965_count</th>\n",
              "      <th>972_count</th>\n",
              "      <th>979_count</th>\n",
              "      <th>986_count</th>\n",
              "      <th>993|751_count</th>\n",
              "      <th>cluster</th>\n",
              "    </tr>\n",
              "  </thead>\n",
              "  <tbody>\n",
              "    <tr>\n",
              "      <th>0</th>\n",
              "      <td>++5wYjoMgQHoRuD3GbbvmphZbBBwymzv5Q4l8sywtuU=</td>\n",
              "      <td>0.0</td>\n",
              "      <td>0.0</td>\n",
              "      <td>0.0</td>\n",
              "      <td>0.0</td>\n",
              "      <td>0.0</td>\n",
              "      <td>0.0</td>\n",
              "      <td>0.0</td>\n",
              "      <td>0.0</td>\n",
              "      <td>0.0</td>\n",
              "      <td>...</td>\n",
              "      <td>0.0</td>\n",
              "      <td>0.0</td>\n",
              "      <td>0.0</td>\n",
              "      <td>0.0</td>\n",
              "      <td>0.0</td>\n",
              "      <td>0.0</td>\n",
              "      <td>0.0</td>\n",
              "      <td>0.0</td>\n",
              "      <td>0.0</td>\n",
              "      <td>16</td>\n",
              "    </tr>\n",
              "    <tr>\n",
              "      <th>1</th>\n",
              "      <td>++AH7m/EQ4iKe6wSlfO/xXAJx50p+fCeTyF90GoE9Pg=</td>\n",
              "      <td>0.0</td>\n",
              "      <td>0.0</td>\n",
              "      <td>3.0</td>\n",
              "      <td>0.0</td>\n",
              "      <td>0.0</td>\n",
              "      <td>0.0</td>\n",
              "      <td>0.0</td>\n",
              "      <td>0.0</td>\n",
              "      <td>0.0</td>\n",
              "      <td>...</td>\n",
              "      <td>0.0</td>\n",
              "      <td>0.0</td>\n",
              "      <td>0.0</td>\n",
              "      <td>0.0</td>\n",
              "      <td>0.0</td>\n",
              "      <td>0.0</td>\n",
              "      <td>0.0</td>\n",
              "      <td>0.0</td>\n",
              "      <td>0.0</td>\n",
              "      <td>17</td>\n",
              "    </tr>\n",
              "    <tr>\n",
              "      <th>2</th>\n",
              "      <td>++e+jsxuQ8UEnmW40od9Rq3rW7+wAum4wooXyZTKJpk=</td>\n",
              "      <td>0.0</td>\n",
              "      <td>0.0</td>\n",
              "      <td>0.0</td>\n",
              "      <td>0.0</td>\n",
              "      <td>0.0</td>\n",
              "      <td>0.0</td>\n",
              "      <td>0.0</td>\n",
              "      <td>0.0</td>\n",
              "      <td>0.0</td>\n",
              "      <td>...</td>\n",
              "      <td>0.0</td>\n",
              "      <td>0.0</td>\n",
              "      <td>0.0</td>\n",
              "      <td>0.0</td>\n",
              "      <td>0.0</td>\n",
              "      <td>0.0</td>\n",
              "      <td>0.0</td>\n",
              "      <td>0.0</td>\n",
              "      <td>0.0</td>\n",
              "      <td>13</td>\n",
              "    </tr>\n",
              "    <tr>\n",
              "      <th>3</th>\n",
              "      <td>++xWL5Pbi2CpG4uUugigQahauM0J/sBIRloTNPBybIU=</td>\n",
              "      <td>0.0</td>\n",
              "      <td>0.0</td>\n",
              "      <td>0.0</td>\n",
              "      <td>0.0</td>\n",
              "      <td>0.0</td>\n",
              "      <td>0.0</td>\n",
              "      <td>0.0</td>\n",
              "      <td>0.0</td>\n",
              "      <td>0.0</td>\n",
              "      <td>...</td>\n",
              "      <td>0.0</td>\n",
              "      <td>0.0</td>\n",
              "      <td>0.0</td>\n",
              "      <td>0.0</td>\n",
              "      <td>0.0</td>\n",
              "      <td>0.0</td>\n",
              "      <td>0.0</td>\n",
              "      <td>0.0</td>\n",
              "      <td>0.0</td>\n",
              "      <td>1</td>\n",
              "    </tr>\n",
              "    <tr>\n",
              "      <th>4</th>\n",
              "      <td>+/SKX44s4ryWQzYzuV7ZKMXqIKQMN1cPz3M8CJ8CFKU=</td>\n",
              "      <td>0.0</td>\n",
              "      <td>0.0</td>\n",
              "      <td>1.0</td>\n",
              "      <td>0.0</td>\n",
              "      <td>0.0</td>\n",
              "      <td>0.0</td>\n",
              "      <td>0.0</td>\n",
              "      <td>0.0</td>\n",
              "      <td>0.0</td>\n",
              "      <td>...</td>\n",
              "      <td>0.0</td>\n",
              "      <td>0.0</td>\n",
              "      <td>0.0</td>\n",
              "      <td>0.0</td>\n",
              "      <td>0.0</td>\n",
              "      <td>0.0</td>\n",
              "      <td>0.0</td>\n",
              "      <td>0.0</td>\n",
              "      <td>0.0</td>\n",
              "      <td>17</td>\n",
              "    </tr>\n",
              "    <tr>\n",
              "      <th>5</th>\n",
              "      <td>+/UwoUi5+rNj/F6RO6gMrMhOy0oTzs90MWKVNZs4+Wg=</td>\n",
              "      <td>0.0</td>\n",
              "      <td>0.0</td>\n",
              "      <td>0.0</td>\n",
              "      <td>0.0</td>\n",
              "      <td>0.0</td>\n",
              "      <td>0.0</td>\n",
              "      <td>0.0</td>\n",
              "      <td>0.0</td>\n",
              "      <td>0.0</td>\n",
              "      <td>...</td>\n",
              "      <td>0.0</td>\n",
              "      <td>0.0</td>\n",
              "      <td>0.0</td>\n",
              "      <td>0.0</td>\n",
              "      <td>0.0</td>\n",
              "      <td>0.0</td>\n",
              "      <td>0.0</td>\n",
              "      <td>0.0</td>\n",
              "      <td>0.0</td>\n",
              "      <td>24</td>\n",
              "    </tr>\n",
              "    <tr>\n",
              "      <th>6</th>\n",
              "      <td>+/tv7+daiSsEEBhNDnQZL32wdfmr2GSYmX2aQPGONRY=</td>\n",
              "      <td>0.0</td>\n",
              "      <td>0.0</td>\n",
              "      <td>0.0</td>\n",
              "      <td>0.0</td>\n",
              "      <td>0.0</td>\n",
              "      <td>0.0</td>\n",
              "      <td>0.0</td>\n",
              "      <td>0.0</td>\n",
              "      <td>0.0</td>\n",
              "      <td>...</td>\n",
              "      <td>0.0</td>\n",
              "      <td>0.0</td>\n",
              "      <td>0.0</td>\n",
              "      <td>0.0</td>\n",
              "      <td>0.0</td>\n",
              "      <td>0.0</td>\n",
              "      <td>0.0</td>\n",
              "      <td>0.0</td>\n",
              "      <td>0.0</td>\n",
              "      <td>3</td>\n",
              "    </tr>\n",
              "    <tr>\n",
              "      <th>7</th>\n",
              "      <td>+/vppV5BoMKMNAk7Bej5rjhKeE6VqrRjUv8EYXoAjyM=</td>\n",
              "      <td>0.0</td>\n",
              "      <td>0.0</td>\n",
              "      <td>0.0</td>\n",
              "      <td>0.0</td>\n",
              "      <td>0.0</td>\n",
              "      <td>0.0</td>\n",
              "      <td>0.0</td>\n",
              "      <td>0.0</td>\n",
              "      <td>0.0</td>\n",
              "      <td>...</td>\n",
              "      <td>0.0</td>\n",
              "      <td>0.0</td>\n",
              "      <td>0.0</td>\n",
              "      <td>0.0</td>\n",
              "      <td>0.0</td>\n",
              "      <td>0.0</td>\n",
              "      <td>0.0</td>\n",
              "      <td>0.0</td>\n",
              "      <td>0.0</td>\n",
              "      <td>1</td>\n",
              "    </tr>\n",
              "    <tr>\n",
              "      <th>8</th>\n",
              "      <td>+0+XaewkS3za58vHwKCVGwRYRvjig4lTtKDV/tOkzbU=</td>\n",
              "      <td>0.0</td>\n",
              "      <td>0.0</td>\n",
              "      <td>0.0</td>\n",
              "      <td>0.0</td>\n",
              "      <td>0.0</td>\n",
              "      <td>0.0</td>\n",
              "      <td>0.0</td>\n",
              "      <td>0.0</td>\n",
              "      <td>0.0</td>\n",
              "      <td>...</td>\n",
              "      <td>0.0</td>\n",
              "      <td>0.0</td>\n",
              "      <td>0.0</td>\n",
              "      <td>0.0</td>\n",
              "      <td>0.0</td>\n",
              "      <td>0.0</td>\n",
              "      <td>0.0</td>\n",
              "      <td>0.0</td>\n",
              "      <td>0.0</td>\n",
              "      <td>3</td>\n",
              "    </tr>\n",
              "    <tr>\n",
              "      <th>9</th>\n",
              "      <td>+06pc1V8QfywrGOTNln/7X7Md8dA8fVOIU37n2M5mv8=</td>\n",
              "      <td>0.0</td>\n",
              "      <td>0.0</td>\n",
              "      <td>0.0</td>\n",
              "      <td>0.0</td>\n",
              "      <td>0.0</td>\n",
              "      <td>0.0</td>\n",
              "      <td>0.0</td>\n",
              "      <td>0.0</td>\n",
              "      <td>0.0</td>\n",
              "      <td>...</td>\n",
              "      <td>0.0</td>\n",
              "      <td>0.0</td>\n",
              "      <td>0.0</td>\n",
              "      <td>0.0</td>\n",
              "      <td>0.0</td>\n",
              "      <td>0.0</td>\n",
              "      <td>0.0</td>\n",
              "      <td>0.0</td>\n",
              "      <td>0.0</td>\n",
              "      <td>17</td>\n",
              "    </tr>\n",
              "  </tbody>\n",
              "</table>\n",
              "<p>10 rows × 451 columns</p>\n",
              "</div>"
            ],
            "text/plain": [
              "genre_ids                                          msno  1000_count  \\\n",
              "0          ++5wYjoMgQHoRuD3GbbvmphZbBBwymzv5Q4l8sywtuU=         0.0   \n",
              "1          ++AH7m/EQ4iKe6wSlfO/xXAJx50p+fCeTyF90GoE9Pg=         0.0   \n",
              "2          ++e+jsxuQ8UEnmW40od9Rq3rW7+wAum4wooXyZTKJpk=         0.0   \n",
              "3          ++xWL5Pbi2CpG4uUugigQahauM0J/sBIRloTNPBybIU=         0.0   \n",
              "4          +/SKX44s4ryWQzYzuV7ZKMXqIKQMN1cPz3M8CJ8CFKU=         0.0   \n",
              "5          +/UwoUi5+rNj/F6RO6gMrMhOy0oTzs90MWKVNZs4+Wg=         0.0   \n",
              "6          +/tv7+daiSsEEBhNDnQZL32wdfmr2GSYmX2aQPGONRY=         0.0   \n",
              "7          +/vppV5BoMKMNAk7Bej5rjhKeE6VqrRjUv8EYXoAjyM=         0.0   \n",
              "8          +0+XaewkS3za58vHwKCVGwRYRvjig4lTtKDV/tOkzbU=         0.0   \n",
              "9          +06pc1V8QfywrGOTNln/7X7Md8dA8fVOIU37n2M5mv8=         0.0   \n",
              "\n",
              "genre_ids  1007_count  1011_count  1011|691_count  1019_count  1033_count  \\\n",
              "0                 0.0         0.0             0.0         0.0         0.0   \n",
              "1                 0.0         3.0             0.0         0.0         0.0   \n",
              "2                 0.0         0.0             0.0         0.0         0.0   \n",
              "3                 0.0         0.0             0.0         0.0         0.0   \n",
              "4                 0.0         1.0             0.0         0.0         0.0   \n",
              "5                 0.0         0.0             0.0         0.0         0.0   \n",
              "6                 0.0         0.0             0.0         0.0         0.0   \n",
              "7                 0.0         0.0             0.0         0.0         0.0   \n",
              "8                 0.0         0.0             0.0         0.0         0.0   \n",
              "9                 0.0         0.0             0.0         0.0         0.0   \n",
              "\n",
              "genre_ids  1040_count  1040|1155_count  1047_count   ...     958|2122_count  \\\n",
              "0                 0.0              0.0         0.0   ...                0.0   \n",
              "1                 0.0              0.0         0.0   ...                0.0   \n",
              "2                 0.0              0.0         0.0   ...                0.0   \n",
              "3                 0.0              0.0         0.0   ...                0.0   \n",
              "4                 0.0              0.0         0.0   ...                0.0   \n",
              "5                 0.0              0.0         0.0   ...                0.0   \n",
              "6                 0.0              0.0         0.0   ...                0.0   \n",
              "7                 0.0              0.0         0.0   ...                0.0   \n",
              "8                 0.0              0.0         0.0   ...                0.0   \n",
              "9                 0.0              0.0         0.0   ...                0.0   \n",
              "\n",
              "genre_ids  958|691_count  958|786_count  958|947_count  965_count  972_count  \\\n",
              "0                    0.0            0.0            0.0        0.0        0.0   \n",
              "1                    0.0            0.0            0.0        0.0        0.0   \n",
              "2                    0.0            0.0            0.0        0.0        0.0   \n",
              "3                    0.0            0.0            0.0        0.0        0.0   \n",
              "4                    0.0            0.0            0.0        0.0        0.0   \n",
              "5                    0.0            0.0            0.0        0.0        0.0   \n",
              "6                    0.0            0.0            0.0        0.0        0.0   \n",
              "7                    0.0            0.0            0.0        0.0        0.0   \n",
              "8                    0.0            0.0            0.0        0.0        0.0   \n",
              "9                    0.0            0.0            0.0        0.0        0.0   \n",
              "\n",
              "genre_ids  979_count  986_count  993|751_count  cluster  \n",
              "0                0.0        0.0            0.0       16  \n",
              "1                0.0        0.0            0.0       17  \n",
              "2                0.0        0.0            0.0       13  \n",
              "3                0.0        0.0            0.0        1  \n",
              "4                0.0        0.0            0.0       17  \n",
              "5                0.0        0.0            0.0       24  \n",
              "6                0.0        0.0            0.0        3  \n",
              "7                0.0        0.0            0.0        1  \n",
              "8                0.0        0.0            0.0        3  \n",
              "9                0.0        0.0            0.0       17  \n",
              "\n",
              "[10 rows x 451 columns]"
            ]
          },
          "metadata": {
            "tags": []
          },
          "execution_count": 38
        }
      ]
    },
    {
      "metadata": {
        "id": "xW_ei_4-jIvm",
        "colab_type": "code",
        "outputId": "9acd99a9-e029-40b9-fd77-c76122a2729a",
        "colab": {
          "base_uri": "https://localhost:8080/",
          "height": 204
        }
      },
      "cell_type": "code",
      "source": [
        "counts_index = counts.reset_index()\n",
        "counts_index.head()"
      ],
      "execution_count": 0,
      "outputs": [
        {
          "output_type": "execute_result",
          "data": {
            "text/html": [
              "<div>\n",
              "<style scoped>\n",
              "    .dataframe tbody tr th:only-of-type {\n",
              "        vertical-align: middle;\n",
              "    }\n",
              "\n",
              "    .dataframe tbody tr th {\n",
              "        vertical-align: top;\n",
              "    }\n",
              "\n",
              "    .dataframe thead th {\n",
              "        text-align: right;\n",
              "    }\n",
              "</style>\n",
              "<table border=\"1\" class=\"dataframe\">\n",
              "  <thead>\n",
              "    <tr style=\"text-align: right;\">\n",
              "      <th></th>\n",
              "      <th>msno</th>\n",
              "      <th>genre_ids</th>\n",
              "      <th>n_g_id</th>\n",
              "    </tr>\n",
              "  </thead>\n",
              "  <tbody>\n",
              "    <tr>\n",
              "      <th>0</th>\n",
              "      <td>++5wYjoMgQHoRuD3GbbvmphZbBBwymzv5Q4l8sywtuU=</td>\n",
              "      <td>465</td>\n",
              "      <td>112</td>\n",
              "    </tr>\n",
              "    <tr>\n",
              "      <th>1</th>\n",
              "      <td>++5wYjoMgQHoRuD3GbbvmphZbBBwymzv5Q4l8sywtuU=</td>\n",
              "      <td>458</td>\n",
              "      <td>25</td>\n",
              "    </tr>\n",
              "    <tr>\n",
              "      <th>2</th>\n",
              "      <td>++5wYjoMgQHoRuD3GbbvmphZbBBwymzv5Q4l8sywtuU=</td>\n",
              "      <td>1259</td>\n",
              "      <td>20</td>\n",
              "    </tr>\n",
              "    <tr>\n",
              "      <th>3</th>\n",
              "      <td>++5wYjoMgQHoRuD3GbbvmphZbBBwymzv5Q4l8sywtuU=</td>\n",
              "      <td>359</td>\n",
              "      <td>19</td>\n",
              "    </tr>\n",
              "    <tr>\n",
              "      <th>4</th>\n",
              "      <td>++5wYjoMgQHoRuD3GbbvmphZbBBwymzv5Q4l8sywtuU=</td>\n",
              "      <td>474</td>\n",
              "      <td>9</td>\n",
              "    </tr>\n",
              "  </tbody>\n",
              "</table>\n",
              "</div>"
            ],
            "text/plain": [
              "                                           msno genre_ids  n_g_id\n",
              "0  ++5wYjoMgQHoRuD3GbbvmphZbBBwymzv5Q4l8sywtuU=       465     112\n",
              "1  ++5wYjoMgQHoRuD3GbbvmphZbBBwymzv5Q4l8sywtuU=       458      25\n",
              "2  ++5wYjoMgQHoRuD3GbbvmphZbBBwymzv5Q4l8sywtuU=      1259      20\n",
              "3  ++5wYjoMgQHoRuD3GbbvmphZbBBwymzv5Q4l8sywtuU=       359      19\n",
              "4  ++5wYjoMgQHoRuD3GbbvmphZbBBwymzv5Q4l8sywtuU=       474       9"
            ]
          },
          "metadata": {
            "tags": []
          },
          "execution_count": 39
        }
      ]
    },
    {
      "metadata": {
        "id": "nc_7ClxOM7MR",
        "colab_type": "text"
      },
      "cell_type": "markdown",
      "source": [
        "# **بعنوان تست کاربران کلاستر ۱۲ را بدست می‌آوریم تا مقدار شباهتشان را بسنجیم**"
      ]
    },
    {
      "metadata": {
        "id": "WOWwiWTajUwL",
        "colab_type": "code",
        "outputId": "a3bcc9fa-d844-45fc-9046-e6e787e54118",
        "colab": {
          "base_uri": "https://localhost:8080/",
          "height": 1989
        }
      },
      "cell_type": "code",
      "source": [
        "counts_copy[counts_copy['cluster'] == 12]"
      ],
      "execution_count": 0,
      "outputs": [
        {
          "output_type": "execute_result",
          "data": {
            "text/html": [
              "<div>\n",
              "<style scoped>\n",
              "    .dataframe tbody tr th:only-of-type {\n",
              "        vertical-align: middle;\n",
              "    }\n",
              "\n",
              "    .dataframe tbody tr th {\n",
              "        vertical-align: top;\n",
              "    }\n",
              "\n",
              "    .dataframe thead th {\n",
              "        text-align: right;\n",
              "    }\n",
              "</style>\n",
              "<table border=\"1\" class=\"dataframe\">\n",
              "  <thead>\n",
              "    <tr style=\"text-align: right;\">\n",
              "      <th>genre_ids</th>\n",
              "      <th>msno</th>\n",
              "      <th>1000_count</th>\n",
              "      <th>1007_count</th>\n",
              "      <th>1011_count</th>\n",
              "      <th>1011|691_count</th>\n",
              "      <th>1019_count</th>\n",
              "      <th>1033_count</th>\n",
              "      <th>1040_count</th>\n",
              "      <th>1040|1155_count</th>\n",
              "      <th>1047_count</th>\n",
              "      <th>...</th>\n",
              "      <th>958|2122_count</th>\n",
              "      <th>958|691_count</th>\n",
              "      <th>958|786_count</th>\n",
              "      <th>958|947_count</th>\n",
              "      <th>965_count</th>\n",
              "      <th>972_count</th>\n",
              "      <th>979_count</th>\n",
              "      <th>986_count</th>\n",
              "      <th>993|751_count</th>\n",
              "      <th>cluster</th>\n",
              "    </tr>\n",
              "  </thead>\n",
              "  <tbody>\n",
              "    <tr>\n",
              "      <th>32</th>\n",
              "      <td>+46pWXPf+T7o/txKF412S8ThB4D8YdbL6jmWWOcJEx8=</td>\n",
              "      <td>0.0</td>\n",
              "      <td>0.0</td>\n",
              "      <td>0.0</td>\n",
              "      <td>0.0</td>\n",
              "      <td>0.0</td>\n",
              "      <td>0.0</td>\n",
              "      <td>0.0</td>\n",
              "      <td>0.0</td>\n",
              "      <td>0.0</td>\n",
              "      <td>...</td>\n",
              "      <td>0.0</td>\n",
              "      <td>0.0</td>\n",
              "      <td>0.0</td>\n",
              "      <td>0.0</td>\n",
              "      <td>0.0</td>\n",
              "      <td>0.0</td>\n",
              "      <td>0.0</td>\n",
              "      <td>0.0</td>\n",
              "      <td>0.0</td>\n",
              "      <td>12</td>\n",
              "    </tr>\n",
              "    <tr>\n",
              "      <th>39</th>\n",
              "      <td>+4yiZ/usBfNb5DbUfDRue4QFUye6FUtBr8wxJGIXljU=</td>\n",
              "      <td>0.0</td>\n",
              "      <td>0.0</td>\n",
              "      <td>0.0</td>\n",
              "      <td>0.0</td>\n",
              "      <td>0.0</td>\n",
              "      <td>0.0</td>\n",
              "      <td>0.0</td>\n",
              "      <td>0.0</td>\n",
              "      <td>0.0</td>\n",
              "      <td>...</td>\n",
              "      <td>0.0</td>\n",
              "      <td>0.0</td>\n",
              "      <td>0.0</td>\n",
              "      <td>0.0</td>\n",
              "      <td>0.0</td>\n",
              "      <td>0.0</td>\n",
              "      <td>0.0</td>\n",
              "      <td>0.0</td>\n",
              "      <td>0.0</td>\n",
              "      <td>12</td>\n",
              "    </tr>\n",
              "    <tr>\n",
              "      <th>61</th>\n",
              "      <td>+8MWYLmsp600Ok8d1IfiFTaQgRKrWqRbbnLowiNMCF8=</td>\n",
              "      <td>0.0</td>\n",
              "      <td>0.0</td>\n",
              "      <td>0.0</td>\n",
              "      <td>0.0</td>\n",
              "      <td>0.0</td>\n",
              "      <td>0.0</td>\n",
              "      <td>0.0</td>\n",
              "      <td>0.0</td>\n",
              "      <td>0.0</td>\n",
              "      <td>...</td>\n",
              "      <td>0.0</td>\n",
              "      <td>0.0</td>\n",
              "      <td>0.0</td>\n",
              "      <td>0.0</td>\n",
              "      <td>0.0</td>\n",
              "      <td>0.0</td>\n",
              "      <td>0.0</td>\n",
              "      <td>0.0</td>\n",
              "      <td>0.0</td>\n",
              "      <td>12</td>\n",
              "    </tr>\n",
              "    <tr>\n",
              "      <th>75</th>\n",
              "      <td>+AOYsZDNy2tWIejwWiE8fvcuhGJPogcMaILX4av1znY=</td>\n",
              "      <td>0.0</td>\n",
              "      <td>0.0</td>\n",
              "      <td>0.0</td>\n",
              "      <td>0.0</td>\n",
              "      <td>0.0</td>\n",
              "      <td>0.0</td>\n",
              "      <td>0.0</td>\n",
              "      <td>0.0</td>\n",
              "      <td>0.0</td>\n",
              "      <td>...</td>\n",
              "      <td>0.0</td>\n",
              "      <td>0.0</td>\n",
              "      <td>0.0</td>\n",
              "      <td>0.0</td>\n",
              "      <td>0.0</td>\n",
              "      <td>0.0</td>\n",
              "      <td>0.0</td>\n",
              "      <td>0.0</td>\n",
              "      <td>0.0</td>\n",
              "      <td>12</td>\n",
              "    </tr>\n",
              "    <tr>\n",
              "      <th>83</th>\n",
              "      <td>+BeC63qvTFGBiaaDDiQJfsQNtjRGHWbALHXZUurCZS8=</td>\n",
              "      <td>0.0</td>\n",
              "      <td>0.0</td>\n",
              "      <td>0.0</td>\n",
              "      <td>0.0</td>\n",
              "      <td>0.0</td>\n",
              "      <td>0.0</td>\n",
              "      <td>0.0</td>\n",
              "      <td>0.0</td>\n",
              "      <td>0.0</td>\n",
              "      <td>...</td>\n",
              "      <td>0.0</td>\n",
              "      <td>0.0</td>\n",
              "      <td>0.0</td>\n",
              "      <td>0.0</td>\n",
              "      <td>0.0</td>\n",
              "      <td>0.0</td>\n",
              "      <td>0.0</td>\n",
              "      <td>0.0</td>\n",
              "      <td>0.0</td>\n",
              "      <td>12</td>\n",
              "    </tr>\n",
              "    <tr>\n",
              "      <th>87</th>\n",
              "      <td>+DGK04CjTamgGx4qENuvg1QjV/KZT2IJf46OFnjadgo=</td>\n",
              "      <td>0.0</td>\n",
              "      <td>0.0</td>\n",
              "      <td>0.0</td>\n",
              "      <td>0.0</td>\n",
              "      <td>0.0</td>\n",
              "      <td>0.0</td>\n",
              "      <td>0.0</td>\n",
              "      <td>0.0</td>\n",
              "      <td>0.0</td>\n",
              "      <td>...</td>\n",
              "      <td>0.0</td>\n",
              "      <td>0.0</td>\n",
              "      <td>0.0</td>\n",
              "      <td>0.0</td>\n",
              "      <td>0.0</td>\n",
              "      <td>0.0</td>\n",
              "      <td>0.0</td>\n",
              "      <td>0.0</td>\n",
              "      <td>0.0</td>\n",
              "      <td>12</td>\n",
              "    </tr>\n",
              "    <tr>\n",
              "      <th>91</th>\n",
              "      <td>+DmyAJIQzPm67q0VlGp79qpL6piCnqCxqfcxaxCUZ/E=</td>\n",
              "      <td>0.0</td>\n",
              "      <td>0.0</td>\n",
              "      <td>0.0</td>\n",
              "      <td>0.0</td>\n",
              "      <td>0.0</td>\n",
              "      <td>0.0</td>\n",
              "      <td>0.0</td>\n",
              "      <td>0.0</td>\n",
              "      <td>0.0</td>\n",
              "      <td>...</td>\n",
              "      <td>0.0</td>\n",
              "      <td>0.0</td>\n",
              "      <td>0.0</td>\n",
              "      <td>0.0</td>\n",
              "      <td>0.0</td>\n",
              "      <td>0.0</td>\n",
              "      <td>0.0</td>\n",
              "      <td>0.0</td>\n",
              "      <td>0.0</td>\n",
              "      <td>12</td>\n",
              "    </tr>\n",
              "    <tr>\n",
              "      <th>98</th>\n",
              "      <td>+Ez0nI/qWfSARukmK2mqdW6rffcVoJf5y74BEo+7NQ0=</td>\n",
              "      <td>0.0</td>\n",
              "      <td>0.0</td>\n",
              "      <td>0.0</td>\n",
              "      <td>0.0</td>\n",
              "      <td>0.0</td>\n",
              "      <td>0.0</td>\n",
              "      <td>0.0</td>\n",
              "      <td>0.0</td>\n",
              "      <td>0.0</td>\n",
              "      <td>...</td>\n",
              "      <td>0.0</td>\n",
              "      <td>0.0</td>\n",
              "      <td>0.0</td>\n",
              "      <td>0.0</td>\n",
              "      <td>0.0</td>\n",
              "      <td>0.0</td>\n",
              "      <td>0.0</td>\n",
              "      <td>0.0</td>\n",
              "      <td>0.0</td>\n",
              "      <td>12</td>\n",
              "    </tr>\n",
              "    <tr>\n",
              "      <th>134</th>\n",
              "      <td>+M/4UTmQHhLMMsQfavQ6WxIIqhGx+dqJhFqK60Cx4FU=</td>\n",
              "      <td>0.0</td>\n",
              "      <td>0.0</td>\n",
              "      <td>0.0</td>\n",
              "      <td>0.0</td>\n",
              "      <td>0.0</td>\n",
              "      <td>0.0</td>\n",
              "      <td>0.0</td>\n",
              "      <td>0.0</td>\n",
              "      <td>0.0</td>\n",
              "      <td>...</td>\n",
              "      <td>0.0</td>\n",
              "      <td>0.0</td>\n",
              "      <td>0.0</td>\n",
              "      <td>0.0</td>\n",
              "      <td>0.0</td>\n",
              "      <td>0.0</td>\n",
              "      <td>0.0</td>\n",
              "      <td>0.0</td>\n",
              "      <td>0.0</td>\n",
              "      <td>12</td>\n",
              "    </tr>\n",
              "    <tr>\n",
              "      <th>291</th>\n",
              "      <td>+lB+ouuw4P+aq7P1GxnuMvF/vo1Kb2TsH15sP/AD4ow=</td>\n",
              "      <td>0.0</td>\n",
              "      <td>0.0</td>\n",
              "      <td>0.0</td>\n",
              "      <td>0.0</td>\n",
              "      <td>0.0</td>\n",
              "      <td>0.0</td>\n",
              "      <td>0.0</td>\n",
              "      <td>0.0</td>\n",
              "      <td>0.0</td>\n",
              "      <td>...</td>\n",
              "      <td>0.0</td>\n",
              "      <td>0.0</td>\n",
              "      <td>0.0</td>\n",
              "      <td>0.0</td>\n",
              "      <td>0.0</td>\n",
              "      <td>0.0</td>\n",
              "      <td>0.0</td>\n",
              "      <td>0.0</td>\n",
              "      <td>0.0</td>\n",
              "      <td>12</td>\n",
              "    </tr>\n",
              "    <tr>\n",
              "      <th>316</th>\n",
              "      <td>+qr25BVs1befBijPStEPV01+yqRjDM5J2xSbokCTBWw=</td>\n",
              "      <td>0.0</td>\n",
              "      <td>0.0</td>\n",
              "      <td>0.0</td>\n",
              "      <td>0.0</td>\n",
              "      <td>0.0</td>\n",
              "      <td>0.0</td>\n",
              "      <td>0.0</td>\n",
              "      <td>0.0</td>\n",
              "      <td>0.0</td>\n",
              "      <td>...</td>\n",
              "      <td>0.0</td>\n",
              "      <td>0.0</td>\n",
              "      <td>0.0</td>\n",
              "      <td>0.0</td>\n",
              "      <td>0.0</td>\n",
              "      <td>0.0</td>\n",
              "      <td>0.0</td>\n",
              "      <td>0.0</td>\n",
              "      <td>0.0</td>\n",
              "      <td>12</td>\n",
              "    </tr>\n",
              "    <tr>\n",
              "      <th>378</th>\n",
              "      <td>+zhgPPLig/Ke4R8sjM920XS/dR5vU+K3ghlWNiQdXio=</td>\n",
              "      <td>0.0</td>\n",
              "      <td>0.0</td>\n",
              "      <td>0.0</td>\n",
              "      <td>0.0</td>\n",
              "      <td>0.0</td>\n",
              "      <td>0.0</td>\n",
              "      <td>0.0</td>\n",
              "      <td>0.0</td>\n",
              "      <td>0.0</td>\n",
              "      <td>...</td>\n",
              "      <td>0.0</td>\n",
              "      <td>0.0</td>\n",
              "      <td>0.0</td>\n",
              "      <td>0.0</td>\n",
              "      <td>0.0</td>\n",
              "      <td>0.0</td>\n",
              "      <td>0.0</td>\n",
              "      <td>0.0</td>\n",
              "      <td>0.0</td>\n",
              "      <td>12</td>\n",
              "    </tr>\n",
              "    <tr>\n",
              "      <th>413</th>\n",
              "      <td>/2oPp1t1+q22+TqK7Tsx+ppIzcQHzZpDZZhNWR7P+ic=</td>\n",
              "      <td>0.0</td>\n",
              "      <td>0.0</td>\n",
              "      <td>0.0</td>\n",
              "      <td>0.0</td>\n",
              "      <td>0.0</td>\n",
              "      <td>0.0</td>\n",
              "      <td>0.0</td>\n",
              "      <td>0.0</td>\n",
              "      <td>0.0</td>\n",
              "      <td>...</td>\n",
              "      <td>0.0</td>\n",
              "      <td>0.0</td>\n",
              "      <td>0.0</td>\n",
              "      <td>0.0</td>\n",
              "      <td>0.0</td>\n",
              "      <td>0.0</td>\n",
              "      <td>0.0</td>\n",
              "      <td>0.0</td>\n",
              "      <td>0.0</td>\n",
              "      <td>12</td>\n",
              "    </tr>\n",
              "    <tr>\n",
              "      <th>430</th>\n",
              "      <td>/5Xu7yJZF20khZSpwsqs03K9zmiYqlB9FCtK2QtLdrY=</td>\n",
              "      <td>0.0</td>\n",
              "      <td>0.0</td>\n",
              "      <td>0.0</td>\n",
              "      <td>0.0</td>\n",
              "      <td>0.0</td>\n",
              "      <td>0.0</td>\n",
              "      <td>0.0</td>\n",
              "      <td>0.0</td>\n",
              "      <td>0.0</td>\n",
              "      <td>...</td>\n",
              "      <td>0.0</td>\n",
              "      <td>0.0</td>\n",
              "      <td>0.0</td>\n",
              "      <td>0.0</td>\n",
              "      <td>0.0</td>\n",
              "      <td>0.0</td>\n",
              "      <td>0.0</td>\n",
              "      <td>0.0</td>\n",
              "      <td>0.0</td>\n",
              "      <td>12</td>\n",
              "    </tr>\n",
              "    <tr>\n",
              "      <th>479</th>\n",
              "      <td>/EI1kEOsBEmMiA0hrwGmPJuEpkKUByDam0wNu766qUM=</td>\n",
              "      <td>0.0</td>\n",
              "      <td>0.0</td>\n",
              "      <td>0.0</td>\n",
              "      <td>0.0</td>\n",
              "      <td>0.0</td>\n",
              "      <td>0.0</td>\n",
              "      <td>0.0</td>\n",
              "      <td>0.0</td>\n",
              "      <td>0.0</td>\n",
              "      <td>...</td>\n",
              "      <td>0.0</td>\n",
              "      <td>0.0</td>\n",
              "      <td>0.0</td>\n",
              "      <td>0.0</td>\n",
              "      <td>0.0</td>\n",
              "      <td>0.0</td>\n",
              "      <td>0.0</td>\n",
              "      <td>0.0</td>\n",
              "      <td>0.0</td>\n",
              "      <td>12</td>\n",
              "    </tr>\n",
              "    <tr>\n",
              "      <th>503</th>\n",
              "      <td>/Hi6Ml65HATvia/URXIEN8/kF6N9INO18ncDCaEAEbo=</td>\n",
              "      <td>0.0</td>\n",
              "      <td>0.0</td>\n",
              "      <td>0.0</td>\n",
              "      <td>0.0</td>\n",
              "      <td>0.0</td>\n",
              "      <td>0.0</td>\n",
              "      <td>0.0</td>\n",
              "      <td>0.0</td>\n",
              "      <td>0.0</td>\n",
              "      <td>...</td>\n",
              "      <td>0.0</td>\n",
              "      <td>0.0</td>\n",
              "      <td>0.0</td>\n",
              "      <td>0.0</td>\n",
              "      <td>0.0</td>\n",
              "      <td>0.0</td>\n",
              "      <td>0.0</td>\n",
              "      <td>0.0</td>\n",
              "      <td>0.0</td>\n",
              "      <td>12</td>\n",
              "    </tr>\n",
              "    <tr>\n",
              "      <th>542</th>\n",
              "      <td>/Nz/uvA92Rygh4hY9t5jrMGTyksNay051UCEHS6bVQE=</td>\n",
              "      <td>0.0</td>\n",
              "      <td>0.0</td>\n",
              "      <td>0.0</td>\n",
              "      <td>0.0</td>\n",
              "      <td>0.0</td>\n",
              "      <td>0.0</td>\n",
              "      <td>0.0</td>\n",
              "      <td>0.0</td>\n",
              "      <td>0.0</td>\n",
              "      <td>...</td>\n",
              "      <td>0.0</td>\n",
              "      <td>0.0</td>\n",
              "      <td>0.0</td>\n",
              "      <td>0.0</td>\n",
              "      <td>0.0</td>\n",
              "      <td>0.0</td>\n",
              "      <td>0.0</td>\n",
              "      <td>0.0</td>\n",
              "      <td>0.0</td>\n",
              "      <td>12</td>\n",
              "    </tr>\n",
              "    <tr>\n",
              "      <th>552</th>\n",
              "      <td>/QDjAuWUqqbFuVv7dHEMRQ8xO7JNLQ4JrGPpNNVt26A=</td>\n",
              "      <td>0.0</td>\n",
              "      <td>0.0</td>\n",
              "      <td>0.0</td>\n",
              "      <td>0.0</td>\n",
              "      <td>0.0</td>\n",
              "      <td>0.0</td>\n",
              "      <td>0.0</td>\n",
              "      <td>0.0</td>\n",
              "      <td>0.0</td>\n",
              "      <td>...</td>\n",
              "      <td>0.0</td>\n",
              "      <td>0.0</td>\n",
              "      <td>0.0</td>\n",
              "      <td>0.0</td>\n",
              "      <td>0.0</td>\n",
              "      <td>0.0</td>\n",
              "      <td>0.0</td>\n",
              "      <td>0.0</td>\n",
              "      <td>0.0</td>\n",
              "      <td>12</td>\n",
              "    </tr>\n",
              "    <tr>\n",
              "      <th>573</th>\n",
              "      <td>/TEYmvR3+gfarSBe02TRMq5MwAKbzRtgLA6bXaSLtzM=</td>\n",
              "      <td>0.0</td>\n",
              "      <td>0.0</td>\n",
              "      <td>0.0</td>\n",
              "      <td>0.0</td>\n",
              "      <td>0.0</td>\n",
              "      <td>0.0</td>\n",
              "      <td>0.0</td>\n",
              "      <td>0.0</td>\n",
              "      <td>0.0</td>\n",
              "      <td>...</td>\n",
              "      <td>0.0</td>\n",
              "      <td>0.0</td>\n",
              "      <td>0.0</td>\n",
              "      <td>0.0</td>\n",
              "      <td>0.0</td>\n",
              "      <td>0.0</td>\n",
              "      <td>0.0</td>\n",
              "      <td>0.0</td>\n",
              "      <td>0.0</td>\n",
              "      <td>12</td>\n",
              "    </tr>\n",
              "    <tr>\n",
              "      <th>670</th>\n",
              "      <td>/iVDgPzA0xiVwNdHBMOK9Fc1uH5xH2xV4uAijs8qURc=</td>\n",
              "      <td>0.0</td>\n",
              "      <td>0.0</td>\n",
              "      <td>0.0</td>\n",
              "      <td>0.0</td>\n",
              "      <td>0.0</td>\n",
              "      <td>0.0</td>\n",
              "      <td>0.0</td>\n",
              "      <td>0.0</td>\n",
              "      <td>0.0</td>\n",
              "      <td>...</td>\n",
              "      <td>0.0</td>\n",
              "      <td>0.0</td>\n",
              "      <td>0.0</td>\n",
              "      <td>0.0</td>\n",
              "      <td>0.0</td>\n",
              "      <td>0.0</td>\n",
              "      <td>0.0</td>\n",
              "      <td>0.0</td>\n",
              "      <td>0.0</td>\n",
              "      <td>12</td>\n",
              "    </tr>\n",
              "    <tr>\n",
              "      <th>695</th>\n",
              "      <td>/lbQAKoNVzorrWDDw8broPagPAEPH7GhMPXIex87HBY=</td>\n",
              "      <td>0.0</td>\n",
              "      <td>0.0</td>\n",
              "      <td>0.0</td>\n",
              "      <td>0.0</td>\n",
              "      <td>0.0</td>\n",
              "      <td>0.0</td>\n",
              "      <td>0.0</td>\n",
              "      <td>0.0</td>\n",
              "      <td>0.0</td>\n",
              "      <td>...</td>\n",
              "      <td>0.0</td>\n",
              "      <td>0.0</td>\n",
              "      <td>0.0</td>\n",
              "      <td>0.0</td>\n",
              "      <td>0.0</td>\n",
              "      <td>0.0</td>\n",
              "      <td>0.0</td>\n",
              "      <td>0.0</td>\n",
              "      <td>0.0</td>\n",
              "      <td>12</td>\n",
              "    </tr>\n",
              "    <tr>\n",
              "      <th>712</th>\n",
              "      <td>/o4WCira8BHXxad1u/GObBPAQ0D11VtJT1WrMO7xm0U=</td>\n",
              "      <td>0.0</td>\n",
              "      <td>0.0</td>\n",
              "      <td>0.0</td>\n",
              "      <td>0.0</td>\n",
              "      <td>0.0</td>\n",
              "      <td>0.0</td>\n",
              "      <td>0.0</td>\n",
              "      <td>0.0</td>\n",
              "      <td>0.0</td>\n",
              "      <td>...</td>\n",
              "      <td>0.0</td>\n",
              "      <td>0.0</td>\n",
              "      <td>0.0</td>\n",
              "      <td>0.0</td>\n",
              "      <td>0.0</td>\n",
              "      <td>0.0</td>\n",
              "      <td>0.0</td>\n",
              "      <td>0.0</td>\n",
              "      <td>0.0</td>\n",
              "      <td>12</td>\n",
              "    </tr>\n",
              "    <tr>\n",
              "      <th>723</th>\n",
              "      <td>/qAla7c1s0x8MzaHjGDKCza0rHSqa7Y+/zcaWQMBpC4=</td>\n",
              "      <td>0.0</td>\n",
              "      <td>0.0</td>\n",
              "      <td>3.0</td>\n",
              "      <td>0.0</td>\n",
              "      <td>0.0</td>\n",
              "      <td>0.0</td>\n",
              "      <td>0.0</td>\n",
              "      <td>0.0</td>\n",
              "      <td>0.0</td>\n",
              "      <td>...</td>\n",
              "      <td>0.0</td>\n",
              "      <td>0.0</td>\n",
              "      <td>0.0</td>\n",
              "      <td>0.0</td>\n",
              "      <td>0.0</td>\n",
              "      <td>0.0</td>\n",
              "      <td>0.0</td>\n",
              "      <td>0.0</td>\n",
              "      <td>0.0</td>\n",
              "      <td>12</td>\n",
              "    </tr>\n",
              "    <tr>\n",
              "      <th>743</th>\n",
              "      <td>/tFG33EMQ6m1ZBY2RbFIqKqyhwqnx8qL1VzHdWkAuMA=</td>\n",
              "      <td>0.0</td>\n",
              "      <td>0.0</td>\n",
              "      <td>2.0</td>\n",
              "      <td>0.0</td>\n",
              "      <td>0.0</td>\n",
              "      <td>0.0</td>\n",
              "      <td>0.0</td>\n",
              "      <td>0.0</td>\n",
              "      <td>0.0</td>\n",
              "      <td>...</td>\n",
              "      <td>0.0</td>\n",
              "      <td>0.0</td>\n",
              "      <td>0.0</td>\n",
              "      <td>0.0</td>\n",
              "      <td>0.0</td>\n",
              "      <td>0.0</td>\n",
              "      <td>0.0</td>\n",
              "      <td>0.0</td>\n",
              "      <td>0.0</td>\n",
              "      <td>12</td>\n",
              "    </tr>\n",
              "    <tr>\n",
              "      <th>763</th>\n",
              "      <td>/w6DZZH22UrK/qMbvi9EwpO00dV2YlsbrCaetkUA9V0=</td>\n",
              "      <td>0.0</td>\n",
              "      <td>0.0</td>\n",
              "      <td>0.0</td>\n",
              "      <td>0.0</td>\n",
              "      <td>0.0</td>\n",
              "      <td>0.0</td>\n",
              "      <td>0.0</td>\n",
              "      <td>0.0</td>\n",
              "      <td>0.0</td>\n",
              "      <td>...</td>\n",
              "      <td>0.0</td>\n",
              "      <td>0.0</td>\n",
              "      <td>0.0</td>\n",
              "      <td>0.0</td>\n",
              "      <td>0.0</td>\n",
              "      <td>0.0</td>\n",
              "      <td>0.0</td>\n",
              "      <td>0.0</td>\n",
              "      <td>0.0</td>\n",
              "      <td>12</td>\n",
              "    </tr>\n",
              "    <tr>\n",
              "      <th>765</th>\n",
              "      <td>/wGOTBNvV072JrtmcyVLhuFuHJKXtxnmNQQmOakz188=</td>\n",
              "      <td>0.0</td>\n",
              "      <td>0.0</td>\n",
              "      <td>0.0</td>\n",
              "      <td>0.0</td>\n",
              "      <td>0.0</td>\n",
              "      <td>0.0</td>\n",
              "      <td>0.0</td>\n",
              "      <td>0.0</td>\n",
              "      <td>0.0</td>\n",
              "      <td>...</td>\n",
              "      <td>0.0</td>\n",
              "      <td>0.0</td>\n",
              "      <td>0.0</td>\n",
              "      <td>0.0</td>\n",
              "      <td>0.0</td>\n",
              "      <td>0.0</td>\n",
              "      <td>0.0</td>\n",
              "      <td>0.0</td>\n",
              "      <td>0.0</td>\n",
              "      <td>12</td>\n",
              "    </tr>\n",
              "    <tr>\n",
              "      <th>787</th>\n",
              "      <td>0+5iukg08KTgEI42al05Xja6feBDRsGdjM5RvaUJt+4=</td>\n",
              "      <td>0.0</td>\n",
              "      <td>0.0</td>\n",
              "      <td>0.0</td>\n",
              "      <td>0.0</td>\n",
              "      <td>0.0</td>\n",
              "      <td>0.0</td>\n",
              "      <td>0.0</td>\n",
              "      <td>0.0</td>\n",
              "      <td>0.0</td>\n",
              "      <td>...</td>\n",
              "      <td>0.0</td>\n",
              "      <td>0.0</td>\n",
              "      <td>0.0</td>\n",
              "      <td>0.0</td>\n",
              "      <td>0.0</td>\n",
              "      <td>0.0</td>\n",
              "      <td>0.0</td>\n",
              "      <td>0.0</td>\n",
              "      <td>0.0</td>\n",
              "      <td>12</td>\n",
              "    </tr>\n",
              "    <tr>\n",
              "      <th>820</th>\n",
              "      <td>037x0dTJgCppVIXFDqw1Qp9DUdFTnHpzrL6tNFZByoU=</td>\n",
              "      <td>0.0</td>\n",
              "      <td>0.0</td>\n",
              "      <td>0.0</td>\n",
              "      <td>0.0</td>\n",
              "      <td>0.0</td>\n",
              "      <td>0.0</td>\n",
              "      <td>0.0</td>\n",
              "      <td>0.0</td>\n",
              "      <td>0.0</td>\n",
              "      <td>...</td>\n",
              "      <td>0.0</td>\n",
              "      <td>0.0</td>\n",
              "      <td>0.0</td>\n",
              "      <td>0.0</td>\n",
              "      <td>0.0</td>\n",
              "      <td>0.0</td>\n",
              "      <td>0.0</td>\n",
              "      <td>0.0</td>\n",
              "      <td>0.0</td>\n",
              "      <td>12</td>\n",
              "    </tr>\n",
              "    <tr>\n",
              "      <th>844</th>\n",
              "      <td>06HvjGldTs/LPl70ps0dSXMK/T69mUvyFFYg4WB9bYE=</td>\n",
              "      <td>0.0</td>\n",
              "      <td>0.0</td>\n",
              "      <td>0.0</td>\n",
              "      <td>0.0</td>\n",
              "      <td>0.0</td>\n",
              "      <td>0.0</td>\n",
              "      <td>0.0</td>\n",
              "      <td>0.0</td>\n",
              "      <td>0.0</td>\n",
              "      <td>...</td>\n",
              "      <td>0.0</td>\n",
              "      <td>0.0</td>\n",
              "      <td>0.0</td>\n",
              "      <td>0.0</td>\n",
              "      <td>0.0</td>\n",
              "      <td>0.0</td>\n",
              "      <td>0.0</td>\n",
              "      <td>0.0</td>\n",
              "      <td>0.0</td>\n",
              "      <td>12</td>\n",
              "    </tr>\n",
              "    <tr>\n",
              "      <th>848</th>\n",
              "      <td>06f1qvaKvNJr+HN828QOQx2CnnisapixWm3x6g+n9gg=</td>\n",
              "      <td>0.0</td>\n",
              "      <td>0.0</td>\n",
              "      <td>0.0</td>\n",
              "      <td>0.0</td>\n",
              "      <td>0.0</td>\n",
              "      <td>0.0</td>\n",
              "      <td>0.0</td>\n",
              "      <td>0.0</td>\n",
              "      <td>0.0</td>\n",
              "      <td>...</td>\n",
              "      <td>0.0</td>\n",
              "      <td>0.0</td>\n",
              "      <td>0.0</td>\n",
              "      <td>0.0</td>\n",
              "      <td>0.0</td>\n",
              "      <td>0.0</td>\n",
              "      <td>0.0</td>\n",
              "      <td>0.0</td>\n",
              "      <td>0.0</td>\n",
              "      <td>12</td>\n",
              "    </tr>\n",
              "    <tr>\n",
              "      <th>...</th>\n",
              "      <td>...</td>\n",
              "      <td>...</td>\n",
              "      <td>...</td>\n",
              "      <td>...</td>\n",
              "      <td>...</td>\n",
              "      <td>...</td>\n",
              "      <td>...</td>\n",
              "      <td>...</td>\n",
              "      <td>...</td>\n",
              "      <td>...</td>\n",
              "      <td>...</td>\n",
              "      <td>...</td>\n",
              "      <td>...</td>\n",
              "      <td>...</td>\n",
              "      <td>...</td>\n",
              "      <td>...</td>\n",
              "      <td>...</td>\n",
              "      <td>...</td>\n",
              "      <td>...</td>\n",
              "      <td>...</td>\n",
              "      <td>...</td>\n",
              "    </tr>\n",
              "    <tr>\n",
              "      <th>25421</th>\n",
              "      <td>wwYwkddCqNCAHUTkwco9wOb/P5JJ0cXsvIwD3MInsFQ=</td>\n",
              "      <td>0.0</td>\n",
              "      <td>0.0</td>\n",
              "      <td>0.0</td>\n",
              "      <td>0.0</td>\n",
              "      <td>0.0</td>\n",
              "      <td>0.0</td>\n",
              "      <td>0.0</td>\n",
              "      <td>0.0</td>\n",
              "      <td>0.0</td>\n",
              "      <td>...</td>\n",
              "      <td>0.0</td>\n",
              "      <td>0.0</td>\n",
              "      <td>0.0</td>\n",
              "      <td>0.0</td>\n",
              "      <td>0.0</td>\n",
              "      <td>0.0</td>\n",
              "      <td>0.0</td>\n",
              "      <td>0.0</td>\n",
              "      <td>0.0</td>\n",
              "      <td>12</td>\n",
              "    </tr>\n",
              "    <tr>\n",
              "      <th>25433</th>\n",
              "      <td>wylz1ni4OlTajSi8azOC75JqHBn1hARvZRILb9/y8n0=</td>\n",
              "      <td>0.0</td>\n",
              "      <td>0.0</td>\n",
              "      <td>0.0</td>\n",
              "      <td>0.0</td>\n",
              "      <td>0.0</td>\n",
              "      <td>0.0</td>\n",
              "      <td>0.0</td>\n",
              "      <td>0.0</td>\n",
              "      <td>0.0</td>\n",
              "      <td>...</td>\n",
              "      <td>0.0</td>\n",
              "      <td>0.0</td>\n",
              "      <td>0.0</td>\n",
              "      <td>0.0</td>\n",
              "      <td>0.0</td>\n",
              "      <td>0.0</td>\n",
              "      <td>0.0</td>\n",
              "      <td>0.0</td>\n",
              "      <td>0.0</td>\n",
              "      <td>12</td>\n",
              "    </tr>\n",
              "    <tr>\n",
              "      <th>25464</th>\n",
              "      <td>x19ZUHGYTfO53kpnMUl98fg34wPp5J2l96e1DvZcmkk=</td>\n",
              "      <td>0.0</td>\n",
              "      <td>0.0</td>\n",
              "      <td>0.0</td>\n",
              "      <td>0.0</td>\n",
              "      <td>0.0</td>\n",
              "      <td>0.0</td>\n",
              "      <td>0.0</td>\n",
              "      <td>0.0</td>\n",
              "      <td>0.0</td>\n",
              "      <td>...</td>\n",
              "      <td>0.0</td>\n",
              "      <td>0.0</td>\n",
              "      <td>0.0</td>\n",
              "      <td>0.0</td>\n",
              "      <td>0.0</td>\n",
              "      <td>0.0</td>\n",
              "      <td>0.0</td>\n",
              "      <td>0.0</td>\n",
              "      <td>0.0</td>\n",
              "      <td>12</td>\n",
              "    </tr>\n",
              "    <tr>\n",
              "      <th>25592</th>\n",
              "      <td>xKpcbcucfxP8gvCbuSBsTMAiMXUtCeyD+YQEjn55YoI=</td>\n",
              "      <td>0.0</td>\n",
              "      <td>0.0</td>\n",
              "      <td>0.0</td>\n",
              "      <td>0.0</td>\n",
              "      <td>0.0</td>\n",
              "      <td>0.0</td>\n",
              "      <td>0.0</td>\n",
              "      <td>0.0</td>\n",
              "      <td>0.0</td>\n",
              "      <td>...</td>\n",
              "      <td>0.0</td>\n",
              "      <td>0.0</td>\n",
              "      <td>0.0</td>\n",
              "      <td>0.0</td>\n",
              "      <td>0.0</td>\n",
              "      <td>0.0</td>\n",
              "      <td>0.0</td>\n",
              "      <td>0.0</td>\n",
              "      <td>0.0</td>\n",
              "      <td>12</td>\n",
              "    </tr>\n",
              "    <tr>\n",
              "      <th>25612</th>\n",
              "      <td>xO/mpLcASLIAvkRvHamKn9tNbOncv0UJ+SOcDRNYcr8=</td>\n",
              "      <td>0.0</td>\n",
              "      <td>0.0</td>\n",
              "      <td>0.0</td>\n",
              "      <td>0.0</td>\n",
              "      <td>0.0</td>\n",
              "      <td>0.0</td>\n",
              "      <td>0.0</td>\n",
              "      <td>0.0</td>\n",
              "      <td>0.0</td>\n",
              "      <td>...</td>\n",
              "      <td>0.0</td>\n",
              "      <td>0.0</td>\n",
              "      <td>0.0</td>\n",
              "      <td>0.0</td>\n",
              "      <td>0.0</td>\n",
              "      <td>0.0</td>\n",
              "      <td>0.0</td>\n",
              "      <td>0.0</td>\n",
              "      <td>0.0</td>\n",
              "      <td>12</td>\n",
              "    </tr>\n",
              "    <tr>\n",
              "      <th>25680</th>\n",
              "      <td>xZFyqMPW+y6TNLkhQ+URbfX+GzxwH1lv0N5mBDzc3D4=</td>\n",
              "      <td>0.0</td>\n",
              "      <td>0.0</td>\n",
              "      <td>0.0</td>\n",
              "      <td>0.0</td>\n",
              "      <td>0.0</td>\n",
              "      <td>0.0</td>\n",
              "      <td>0.0</td>\n",
              "      <td>0.0</td>\n",
              "      <td>0.0</td>\n",
              "      <td>...</td>\n",
              "      <td>0.0</td>\n",
              "      <td>0.0</td>\n",
              "      <td>0.0</td>\n",
              "      <td>0.0</td>\n",
              "      <td>0.0</td>\n",
              "      <td>0.0</td>\n",
              "      <td>0.0</td>\n",
              "      <td>0.0</td>\n",
              "      <td>0.0</td>\n",
              "      <td>12</td>\n",
              "    </tr>\n",
              "    <tr>\n",
              "      <th>25682</th>\n",
              "      <td>xaJ4TDM8s0Hy1GG4tOdm5I/zpeJ/uzUS3vK93e7aCFU=</td>\n",
              "      <td>0.0</td>\n",
              "      <td>0.0</td>\n",
              "      <td>0.0</td>\n",
              "      <td>0.0</td>\n",
              "      <td>0.0</td>\n",
              "      <td>0.0</td>\n",
              "      <td>0.0</td>\n",
              "      <td>0.0</td>\n",
              "      <td>0.0</td>\n",
              "      <td>...</td>\n",
              "      <td>0.0</td>\n",
              "      <td>0.0</td>\n",
              "      <td>0.0</td>\n",
              "      <td>0.0</td>\n",
              "      <td>0.0</td>\n",
              "      <td>0.0</td>\n",
              "      <td>0.0</td>\n",
              "      <td>0.0</td>\n",
              "      <td>0.0</td>\n",
              "      <td>12</td>\n",
              "    </tr>\n",
              "    <tr>\n",
              "      <th>25732</th>\n",
              "      <td>xiQZgoqOoMKU0n4tH3DunsmkBWtWItPE3UlW2t+4xPQ=</td>\n",
              "      <td>0.0</td>\n",
              "      <td>0.0</td>\n",
              "      <td>0.0</td>\n",
              "      <td>0.0</td>\n",
              "      <td>0.0</td>\n",
              "      <td>0.0</td>\n",
              "      <td>0.0</td>\n",
              "      <td>0.0</td>\n",
              "      <td>0.0</td>\n",
              "      <td>...</td>\n",
              "      <td>0.0</td>\n",
              "      <td>0.0</td>\n",
              "      <td>0.0</td>\n",
              "      <td>0.0</td>\n",
              "      <td>0.0</td>\n",
              "      <td>0.0</td>\n",
              "      <td>0.0</td>\n",
              "      <td>0.0</td>\n",
              "      <td>0.0</td>\n",
              "      <td>12</td>\n",
              "    </tr>\n",
              "    <tr>\n",
              "      <th>25759</th>\n",
              "      <td>xnCDJqtCcqVR996aqBW1qOuVgtNG+FSaz30kFIkImv4=</td>\n",
              "      <td>0.0</td>\n",
              "      <td>0.0</td>\n",
              "      <td>0.0</td>\n",
              "      <td>0.0</td>\n",
              "      <td>0.0</td>\n",
              "      <td>0.0</td>\n",
              "      <td>0.0</td>\n",
              "      <td>0.0</td>\n",
              "      <td>0.0</td>\n",
              "      <td>...</td>\n",
              "      <td>0.0</td>\n",
              "      <td>0.0</td>\n",
              "      <td>0.0</td>\n",
              "      <td>0.0</td>\n",
              "      <td>0.0</td>\n",
              "      <td>0.0</td>\n",
              "      <td>0.0</td>\n",
              "      <td>0.0</td>\n",
              "      <td>0.0</td>\n",
              "      <td>12</td>\n",
              "    </tr>\n",
              "    <tr>\n",
              "      <th>25814</th>\n",
              "      <td>xxXE66C0+q6Gik9qX+kjigqYlARqpG57uL62ldZY+M0=</td>\n",
              "      <td>0.0</td>\n",
              "      <td>0.0</td>\n",
              "      <td>0.0</td>\n",
              "      <td>0.0</td>\n",
              "      <td>0.0</td>\n",
              "      <td>0.0</td>\n",
              "      <td>0.0</td>\n",
              "      <td>0.0</td>\n",
              "      <td>0.0</td>\n",
              "      <td>...</td>\n",
              "      <td>0.0</td>\n",
              "      <td>0.0</td>\n",
              "      <td>0.0</td>\n",
              "      <td>0.0</td>\n",
              "      <td>0.0</td>\n",
              "      <td>0.0</td>\n",
              "      <td>0.0</td>\n",
              "      <td>0.0</td>\n",
              "      <td>0.0</td>\n",
              "      <td>12</td>\n",
              "    </tr>\n",
              "    <tr>\n",
              "      <th>25862</th>\n",
              "      <td>y3BxDsRW/8dQI1bBVZtruXgE79NTxs59DUKJhQNKnhs=</td>\n",
              "      <td>0.0</td>\n",
              "      <td>0.0</td>\n",
              "      <td>0.0</td>\n",
              "      <td>0.0</td>\n",
              "      <td>0.0</td>\n",
              "      <td>0.0</td>\n",
              "      <td>0.0</td>\n",
              "      <td>0.0</td>\n",
              "      <td>0.0</td>\n",
              "      <td>...</td>\n",
              "      <td>0.0</td>\n",
              "      <td>0.0</td>\n",
              "      <td>0.0</td>\n",
              "      <td>0.0</td>\n",
              "      <td>0.0</td>\n",
              "      <td>0.0</td>\n",
              "      <td>0.0</td>\n",
              "      <td>0.0</td>\n",
              "      <td>0.0</td>\n",
              "      <td>12</td>\n",
              "    </tr>\n",
              "    <tr>\n",
              "      <th>25881</th>\n",
              "      <td>y7UvGl56c6Y3/eur4CioiBQDQ61m7LiTQUiWBbpo/5A=</td>\n",
              "      <td>0.0</td>\n",
              "      <td>0.0</td>\n",
              "      <td>0.0</td>\n",
              "      <td>0.0</td>\n",
              "      <td>0.0</td>\n",
              "      <td>0.0</td>\n",
              "      <td>0.0</td>\n",
              "      <td>0.0</td>\n",
              "      <td>0.0</td>\n",
              "      <td>...</td>\n",
              "      <td>0.0</td>\n",
              "      <td>0.0</td>\n",
              "      <td>0.0</td>\n",
              "      <td>0.0</td>\n",
              "      <td>0.0</td>\n",
              "      <td>0.0</td>\n",
              "      <td>0.0</td>\n",
              "      <td>0.0</td>\n",
              "      <td>0.0</td>\n",
              "      <td>12</td>\n",
              "    </tr>\n",
              "    <tr>\n",
              "      <th>25901</th>\n",
              "      <td>yAAbhZujj7sbkjs8QNtNItQ6JITTKrv52ZnEQoYd6o8=</td>\n",
              "      <td>0.0</td>\n",
              "      <td>0.0</td>\n",
              "      <td>0.0</td>\n",
              "      <td>0.0</td>\n",
              "      <td>0.0</td>\n",
              "      <td>0.0</td>\n",
              "      <td>0.0</td>\n",
              "      <td>0.0</td>\n",
              "      <td>0.0</td>\n",
              "      <td>...</td>\n",
              "      <td>0.0</td>\n",
              "      <td>0.0</td>\n",
              "      <td>0.0</td>\n",
              "      <td>0.0</td>\n",
              "      <td>0.0</td>\n",
              "      <td>0.0</td>\n",
              "      <td>0.0</td>\n",
              "      <td>0.0</td>\n",
              "      <td>0.0</td>\n",
              "      <td>12</td>\n",
              "    </tr>\n",
              "    <tr>\n",
              "      <th>25951</th>\n",
              "      <td>yIP+VuguatzF3UOVucdpwzIX/DOAj4ZSWHyBfcgdM0M=</td>\n",
              "      <td>0.0</td>\n",
              "      <td>0.0</td>\n",
              "      <td>0.0</td>\n",
              "      <td>0.0</td>\n",
              "      <td>0.0</td>\n",
              "      <td>0.0</td>\n",
              "      <td>0.0</td>\n",
              "      <td>0.0</td>\n",
              "      <td>0.0</td>\n",
              "      <td>...</td>\n",
              "      <td>0.0</td>\n",
              "      <td>0.0</td>\n",
              "      <td>0.0</td>\n",
              "      <td>0.0</td>\n",
              "      <td>0.0</td>\n",
              "      <td>0.0</td>\n",
              "      <td>0.0</td>\n",
              "      <td>0.0</td>\n",
              "      <td>0.0</td>\n",
              "      <td>12</td>\n",
              "    </tr>\n",
              "    <tr>\n",
              "      <th>25973</th>\n",
              "      <td>yNGTOfTgsqM1cBkCMURSgkI3KnXTKvPu9dPy0adEG48=</td>\n",
              "      <td>0.0</td>\n",
              "      <td>0.0</td>\n",
              "      <td>0.0</td>\n",
              "      <td>0.0</td>\n",
              "      <td>0.0</td>\n",
              "      <td>0.0</td>\n",
              "      <td>0.0</td>\n",
              "      <td>0.0</td>\n",
              "      <td>0.0</td>\n",
              "      <td>...</td>\n",
              "      <td>0.0</td>\n",
              "      <td>0.0</td>\n",
              "      <td>0.0</td>\n",
              "      <td>0.0</td>\n",
              "      <td>0.0</td>\n",
              "      <td>0.0</td>\n",
              "      <td>0.0</td>\n",
              "      <td>0.0</td>\n",
              "      <td>0.0</td>\n",
              "      <td>12</td>\n",
              "    </tr>\n",
              "    <tr>\n",
              "      <th>26075</th>\n",
              "      <td>ycz1dkKzuTjVImbl9CV1I3arUR5T7QS/g90YHxeNPfQ=</td>\n",
              "      <td>0.0</td>\n",
              "      <td>0.0</td>\n",
              "      <td>0.0</td>\n",
              "      <td>0.0</td>\n",
              "      <td>0.0</td>\n",
              "      <td>0.0</td>\n",
              "      <td>0.0</td>\n",
              "      <td>0.0</td>\n",
              "      <td>0.0</td>\n",
              "      <td>...</td>\n",
              "      <td>0.0</td>\n",
              "      <td>0.0</td>\n",
              "      <td>0.0</td>\n",
              "      <td>0.0</td>\n",
              "      <td>0.0</td>\n",
              "      <td>0.0</td>\n",
              "      <td>0.0</td>\n",
              "      <td>0.0</td>\n",
              "      <td>0.0</td>\n",
              "      <td>12</td>\n",
              "    </tr>\n",
              "    <tr>\n",
              "      <th>26079</th>\n",
              "      <td>ye+a2Bx6WZWsN8DS725d/Y3bA2tcouR1Fl2N5njydds=</td>\n",
              "      <td>0.0</td>\n",
              "      <td>0.0</td>\n",
              "      <td>0.0</td>\n",
              "      <td>0.0</td>\n",
              "      <td>0.0</td>\n",
              "      <td>0.0</td>\n",
              "      <td>0.0</td>\n",
              "      <td>0.0</td>\n",
              "      <td>0.0</td>\n",
              "      <td>...</td>\n",
              "      <td>0.0</td>\n",
              "      <td>0.0</td>\n",
              "      <td>0.0</td>\n",
              "      <td>0.0</td>\n",
              "      <td>0.0</td>\n",
              "      <td>0.0</td>\n",
              "      <td>0.0</td>\n",
              "      <td>0.0</td>\n",
              "      <td>0.0</td>\n",
              "      <td>12</td>\n",
              "    </tr>\n",
              "    <tr>\n",
              "      <th>26159</th>\n",
              "      <td>yp6A/uxyh/0D2+D177JVzWcruMfNzVr6l19bsssb3XY=</td>\n",
              "      <td>0.0</td>\n",
              "      <td>0.0</td>\n",
              "      <td>0.0</td>\n",
              "      <td>0.0</td>\n",
              "      <td>0.0</td>\n",
              "      <td>0.0</td>\n",
              "      <td>0.0</td>\n",
              "      <td>0.0</td>\n",
              "      <td>0.0</td>\n",
              "      <td>...</td>\n",
              "      <td>0.0</td>\n",
              "      <td>0.0</td>\n",
              "      <td>0.0</td>\n",
              "      <td>0.0</td>\n",
              "      <td>0.0</td>\n",
              "      <td>0.0</td>\n",
              "      <td>0.0</td>\n",
              "      <td>0.0</td>\n",
              "      <td>0.0</td>\n",
              "      <td>12</td>\n",
              "    </tr>\n",
              "    <tr>\n",
              "      <th>26211</th>\n",
              "      <td>yvz8NGwqQ0ht3FV/JJYggaswB6UtBxivWXgh/EAzj90=</td>\n",
              "      <td>0.0</td>\n",
              "      <td>0.0</td>\n",
              "      <td>0.0</td>\n",
              "      <td>0.0</td>\n",
              "      <td>0.0</td>\n",
              "      <td>0.0</td>\n",
              "      <td>0.0</td>\n",
              "      <td>0.0</td>\n",
              "      <td>0.0</td>\n",
              "      <td>...</td>\n",
              "      <td>0.0</td>\n",
              "      <td>0.0</td>\n",
              "      <td>0.0</td>\n",
              "      <td>0.0</td>\n",
              "      <td>0.0</td>\n",
              "      <td>0.0</td>\n",
              "      <td>0.0</td>\n",
              "      <td>0.0</td>\n",
              "      <td>0.0</td>\n",
              "      <td>12</td>\n",
              "    </tr>\n",
              "    <tr>\n",
              "      <th>26358</th>\n",
              "      <td>zG49yIXFW6UtasYeX1uSmQdhkZIxiHCYAPMXBvxkNvg=</td>\n",
              "      <td>0.0</td>\n",
              "      <td>0.0</td>\n",
              "      <td>3.0</td>\n",
              "      <td>0.0</td>\n",
              "      <td>0.0</td>\n",
              "      <td>0.0</td>\n",
              "      <td>0.0</td>\n",
              "      <td>0.0</td>\n",
              "      <td>0.0</td>\n",
              "      <td>...</td>\n",
              "      <td>0.0</td>\n",
              "      <td>0.0</td>\n",
              "      <td>0.0</td>\n",
              "      <td>0.0</td>\n",
              "      <td>0.0</td>\n",
              "      <td>0.0</td>\n",
              "      <td>0.0</td>\n",
              "      <td>0.0</td>\n",
              "      <td>0.0</td>\n",
              "      <td>12</td>\n",
              "    </tr>\n",
              "    <tr>\n",
              "      <th>26395</th>\n",
              "      <td>zLmztUAo1kqXa6jsn82B6eWuqOLz+ylZb/wWTaoAfOo=</td>\n",
              "      <td>0.0</td>\n",
              "      <td>0.0</td>\n",
              "      <td>0.0</td>\n",
              "      <td>0.0</td>\n",
              "      <td>0.0</td>\n",
              "      <td>0.0</td>\n",
              "      <td>0.0</td>\n",
              "      <td>0.0</td>\n",
              "      <td>0.0</td>\n",
              "      <td>...</td>\n",
              "      <td>0.0</td>\n",
              "      <td>0.0</td>\n",
              "      <td>0.0</td>\n",
              "      <td>0.0</td>\n",
              "      <td>0.0</td>\n",
              "      <td>0.0</td>\n",
              "      <td>0.0</td>\n",
              "      <td>0.0</td>\n",
              "      <td>0.0</td>\n",
              "      <td>12</td>\n",
              "    </tr>\n",
              "    <tr>\n",
              "      <th>26396</th>\n",
              "      <td>zLoH1NPWJLMl6OwJok+b4Vx+DweXTupcT9POazVXsY4=</td>\n",
              "      <td>0.0</td>\n",
              "      <td>0.0</td>\n",
              "      <td>0.0</td>\n",
              "      <td>0.0</td>\n",
              "      <td>0.0</td>\n",
              "      <td>0.0</td>\n",
              "      <td>0.0</td>\n",
              "      <td>0.0</td>\n",
              "      <td>0.0</td>\n",
              "      <td>...</td>\n",
              "      <td>0.0</td>\n",
              "      <td>0.0</td>\n",
              "      <td>0.0</td>\n",
              "      <td>0.0</td>\n",
              "      <td>0.0</td>\n",
              "      <td>0.0</td>\n",
              "      <td>0.0</td>\n",
              "      <td>0.0</td>\n",
              "      <td>0.0</td>\n",
              "      <td>12</td>\n",
              "    </tr>\n",
              "    <tr>\n",
              "      <th>26403</th>\n",
              "      <td>zMvba4f4nxBba2m0dW5y3yWYldPXtFK1C/ucKVEboVA=</td>\n",
              "      <td>0.0</td>\n",
              "      <td>0.0</td>\n",
              "      <td>0.0</td>\n",
              "      <td>0.0</td>\n",
              "      <td>0.0</td>\n",
              "      <td>0.0</td>\n",
              "      <td>0.0</td>\n",
              "      <td>0.0</td>\n",
              "      <td>0.0</td>\n",
              "      <td>...</td>\n",
              "      <td>0.0</td>\n",
              "      <td>0.0</td>\n",
              "      <td>0.0</td>\n",
              "      <td>0.0</td>\n",
              "      <td>0.0</td>\n",
              "      <td>0.0</td>\n",
              "      <td>0.0</td>\n",
              "      <td>0.0</td>\n",
              "      <td>0.0</td>\n",
              "      <td>12</td>\n",
              "    </tr>\n",
              "    <tr>\n",
              "      <th>26412</th>\n",
              "      <td>zOGjfROKi3/cWZwnw2SHGcl+DmRJ3VqEA13mX2dKi6Y=</td>\n",
              "      <td>0.0</td>\n",
              "      <td>0.0</td>\n",
              "      <td>1.0</td>\n",
              "      <td>0.0</td>\n",
              "      <td>0.0</td>\n",
              "      <td>0.0</td>\n",
              "      <td>0.0</td>\n",
              "      <td>0.0</td>\n",
              "      <td>0.0</td>\n",
              "      <td>...</td>\n",
              "      <td>0.0</td>\n",
              "      <td>0.0</td>\n",
              "      <td>0.0</td>\n",
              "      <td>0.0</td>\n",
              "      <td>0.0</td>\n",
              "      <td>0.0</td>\n",
              "      <td>0.0</td>\n",
              "      <td>0.0</td>\n",
              "      <td>0.0</td>\n",
              "      <td>12</td>\n",
              "    </tr>\n",
              "    <tr>\n",
              "      <th>26474</th>\n",
              "      <td>zXLzFiB5jQaph3W2EyGi5DGsUloRPcoVTG4VI5ullew=</td>\n",
              "      <td>0.0</td>\n",
              "      <td>0.0</td>\n",
              "      <td>0.0</td>\n",
              "      <td>0.0</td>\n",
              "      <td>0.0</td>\n",
              "      <td>0.0</td>\n",
              "      <td>0.0</td>\n",
              "      <td>0.0</td>\n",
              "      <td>0.0</td>\n",
              "      <td>...</td>\n",
              "      <td>0.0</td>\n",
              "      <td>0.0</td>\n",
              "      <td>0.0</td>\n",
              "      <td>0.0</td>\n",
              "      <td>0.0</td>\n",
              "      <td>0.0</td>\n",
              "      <td>0.0</td>\n",
              "      <td>0.0</td>\n",
              "      <td>0.0</td>\n",
              "      <td>12</td>\n",
              "    </tr>\n",
              "    <tr>\n",
              "      <th>26515</th>\n",
              "      <td>zccy3b6kMq9dpPaPa05nGGZ60EuMXy0aQ4EXvmsoMJ8=</td>\n",
              "      <td>0.0</td>\n",
              "      <td>0.0</td>\n",
              "      <td>0.0</td>\n",
              "      <td>0.0</td>\n",
              "      <td>0.0</td>\n",
              "      <td>0.0</td>\n",
              "      <td>0.0</td>\n",
              "      <td>0.0</td>\n",
              "      <td>0.0</td>\n",
              "      <td>...</td>\n",
              "      <td>0.0</td>\n",
              "      <td>0.0</td>\n",
              "      <td>0.0</td>\n",
              "      <td>0.0</td>\n",
              "      <td>0.0</td>\n",
              "      <td>0.0</td>\n",
              "      <td>0.0</td>\n",
              "      <td>0.0</td>\n",
              "      <td>0.0</td>\n",
              "      <td>12</td>\n",
              "    </tr>\n",
              "    <tr>\n",
              "      <th>26570</th>\n",
              "      <td>zkx4wHRFZjeFuTgkglS1hSx8O6gPCwaoWppiimL2dHQ=</td>\n",
              "      <td>0.0</td>\n",
              "      <td>0.0</td>\n",
              "      <td>1.0</td>\n",
              "      <td>0.0</td>\n",
              "      <td>0.0</td>\n",
              "      <td>0.0</td>\n",
              "      <td>0.0</td>\n",
              "      <td>0.0</td>\n",
              "      <td>0.0</td>\n",
              "      <td>...</td>\n",
              "      <td>0.0</td>\n",
              "      <td>0.0</td>\n",
              "      <td>0.0</td>\n",
              "      <td>0.0</td>\n",
              "      <td>0.0</td>\n",
              "      <td>0.0</td>\n",
              "      <td>0.0</td>\n",
              "      <td>0.0</td>\n",
              "      <td>0.0</td>\n",
              "      <td>12</td>\n",
              "    </tr>\n",
              "    <tr>\n",
              "      <th>26610</th>\n",
              "      <td>zqvW3/M2o87zCgwePMChe1G0ufUJWwHuPcrXMyJ5gxg=</td>\n",
              "      <td>0.0</td>\n",
              "      <td>0.0</td>\n",
              "      <td>0.0</td>\n",
              "      <td>0.0</td>\n",
              "      <td>0.0</td>\n",
              "      <td>0.0</td>\n",
              "      <td>0.0</td>\n",
              "      <td>0.0</td>\n",
              "      <td>0.0</td>\n",
              "      <td>...</td>\n",
              "      <td>0.0</td>\n",
              "      <td>0.0</td>\n",
              "      <td>0.0</td>\n",
              "      <td>0.0</td>\n",
              "      <td>0.0</td>\n",
              "      <td>0.0</td>\n",
              "      <td>0.0</td>\n",
              "      <td>0.0</td>\n",
              "      <td>0.0</td>\n",
              "      <td>12</td>\n",
              "    </tr>\n",
              "    <tr>\n",
              "      <th>26663</th>\n",
              "      <td>zyC3oBxuljEDumDnxoCfDnoHnu4qq0bkhUwKRRPneDo=</td>\n",
              "      <td>0.0</td>\n",
              "      <td>0.0</td>\n",
              "      <td>0.0</td>\n",
              "      <td>0.0</td>\n",
              "      <td>0.0</td>\n",
              "      <td>0.0</td>\n",
              "      <td>0.0</td>\n",
              "      <td>0.0</td>\n",
              "      <td>0.0</td>\n",
              "      <td>...</td>\n",
              "      <td>0.0</td>\n",
              "      <td>0.0</td>\n",
              "      <td>0.0</td>\n",
              "      <td>0.0</td>\n",
              "      <td>0.0</td>\n",
              "      <td>0.0</td>\n",
              "      <td>0.0</td>\n",
              "      <td>0.0</td>\n",
              "      <td>0.0</td>\n",
              "      <td>12</td>\n",
              "    </tr>\n",
              "    <tr>\n",
              "      <th>26668</th>\n",
              "      <td>zzompfSaMamqvjyCMYvgUBwYrxh8fHE40z3f73CQoak=</td>\n",
              "      <td>0.0</td>\n",
              "      <td>0.0</td>\n",
              "      <td>0.0</td>\n",
              "      <td>0.0</td>\n",
              "      <td>0.0</td>\n",
              "      <td>0.0</td>\n",
              "      <td>0.0</td>\n",
              "      <td>0.0</td>\n",
              "      <td>0.0</td>\n",
              "      <td>...</td>\n",
              "      <td>0.0</td>\n",
              "      <td>0.0</td>\n",
              "      <td>0.0</td>\n",
              "      <td>0.0</td>\n",
              "      <td>0.0</td>\n",
              "      <td>0.0</td>\n",
              "      <td>0.0</td>\n",
              "      <td>0.0</td>\n",
              "      <td>0.0</td>\n",
              "      <td>12</td>\n",
              "    </tr>\n",
              "  </tbody>\n",
              "</table>\n",
              "<p>626 rows × 451 columns</p>\n",
              "</div>"
            ],
            "text/plain": [
              "genre_ids                                          msno  1000_count  \\\n",
              "32         +46pWXPf+T7o/txKF412S8ThB4D8YdbL6jmWWOcJEx8=         0.0   \n",
              "39         +4yiZ/usBfNb5DbUfDRue4QFUye6FUtBr8wxJGIXljU=         0.0   \n",
              "61         +8MWYLmsp600Ok8d1IfiFTaQgRKrWqRbbnLowiNMCF8=         0.0   \n",
              "75         +AOYsZDNy2tWIejwWiE8fvcuhGJPogcMaILX4av1znY=         0.0   \n",
              "83         +BeC63qvTFGBiaaDDiQJfsQNtjRGHWbALHXZUurCZS8=         0.0   \n",
              "87         +DGK04CjTamgGx4qENuvg1QjV/KZT2IJf46OFnjadgo=         0.0   \n",
              "91         +DmyAJIQzPm67q0VlGp79qpL6piCnqCxqfcxaxCUZ/E=         0.0   \n",
              "98         +Ez0nI/qWfSARukmK2mqdW6rffcVoJf5y74BEo+7NQ0=         0.0   \n",
              "134        +M/4UTmQHhLMMsQfavQ6WxIIqhGx+dqJhFqK60Cx4FU=         0.0   \n",
              "291        +lB+ouuw4P+aq7P1GxnuMvF/vo1Kb2TsH15sP/AD4ow=         0.0   \n",
              "316        +qr25BVs1befBijPStEPV01+yqRjDM5J2xSbokCTBWw=         0.0   \n",
              "378        +zhgPPLig/Ke4R8sjM920XS/dR5vU+K3ghlWNiQdXio=         0.0   \n",
              "413        /2oPp1t1+q22+TqK7Tsx+ppIzcQHzZpDZZhNWR7P+ic=         0.0   \n",
              "430        /5Xu7yJZF20khZSpwsqs03K9zmiYqlB9FCtK2QtLdrY=         0.0   \n",
              "479        /EI1kEOsBEmMiA0hrwGmPJuEpkKUByDam0wNu766qUM=         0.0   \n",
              "503        /Hi6Ml65HATvia/URXIEN8/kF6N9INO18ncDCaEAEbo=         0.0   \n",
              "542        /Nz/uvA92Rygh4hY9t5jrMGTyksNay051UCEHS6bVQE=         0.0   \n",
              "552        /QDjAuWUqqbFuVv7dHEMRQ8xO7JNLQ4JrGPpNNVt26A=         0.0   \n",
              "573        /TEYmvR3+gfarSBe02TRMq5MwAKbzRtgLA6bXaSLtzM=         0.0   \n",
              "670        /iVDgPzA0xiVwNdHBMOK9Fc1uH5xH2xV4uAijs8qURc=         0.0   \n",
              "695        /lbQAKoNVzorrWDDw8broPagPAEPH7GhMPXIex87HBY=         0.0   \n",
              "712        /o4WCira8BHXxad1u/GObBPAQ0D11VtJT1WrMO7xm0U=         0.0   \n",
              "723        /qAla7c1s0x8MzaHjGDKCza0rHSqa7Y+/zcaWQMBpC4=         0.0   \n",
              "743        /tFG33EMQ6m1ZBY2RbFIqKqyhwqnx8qL1VzHdWkAuMA=         0.0   \n",
              "763        /w6DZZH22UrK/qMbvi9EwpO00dV2YlsbrCaetkUA9V0=         0.0   \n",
              "765        /wGOTBNvV072JrtmcyVLhuFuHJKXtxnmNQQmOakz188=         0.0   \n",
              "787        0+5iukg08KTgEI42al05Xja6feBDRsGdjM5RvaUJt+4=         0.0   \n",
              "820        037x0dTJgCppVIXFDqw1Qp9DUdFTnHpzrL6tNFZByoU=         0.0   \n",
              "844        06HvjGldTs/LPl70ps0dSXMK/T69mUvyFFYg4WB9bYE=         0.0   \n",
              "848        06f1qvaKvNJr+HN828QOQx2CnnisapixWm3x6g+n9gg=         0.0   \n",
              "...                                                 ...         ...   \n",
              "25421      wwYwkddCqNCAHUTkwco9wOb/P5JJ0cXsvIwD3MInsFQ=         0.0   \n",
              "25433      wylz1ni4OlTajSi8azOC75JqHBn1hARvZRILb9/y8n0=         0.0   \n",
              "25464      x19ZUHGYTfO53kpnMUl98fg34wPp5J2l96e1DvZcmkk=         0.0   \n",
              "25592      xKpcbcucfxP8gvCbuSBsTMAiMXUtCeyD+YQEjn55YoI=         0.0   \n",
              "25612      xO/mpLcASLIAvkRvHamKn9tNbOncv0UJ+SOcDRNYcr8=         0.0   \n",
              "25680      xZFyqMPW+y6TNLkhQ+URbfX+GzxwH1lv0N5mBDzc3D4=         0.0   \n",
              "25682      xaJ4TDM8s0Hy1GG4tOdm5I/zpeJ/uzUS3vK93e7aCFU=         0.0   \n",
              "25732      xiQZgoqOoMKU0n4tH3DunsmkBWtWItPE3UlW2t+4xPQ=         0.0   \n",
              "25759      xnCDJqtCcqVR996aqBW1qOuVgtNG+FSaz30kFIkImv4=         0.0   \n",
              "25814      xxXE66C0+q6Gik9qX+kjigqYlARqpG57uL62ldZY+M0=         0.0   \n",
              "25862      y3BxDsRW/8dQI1bBVZtruXgE79NTxs59DUKJhQNKnhs=         0.0   \n",
              "25881      y7UvGl56c6Y3/eur4CioiBQDQ61m7LiTQUiWBbpo/5A=         0.0   \n",
              "25901      yAAbhZujj7sbkjs8QNtNItQ6JITTKrv52ZnEQoYd6o8=         0.0   \n",
              "25951      yIP+VuguatzF3UOVucdpwzIX/DOAj4ZSWHyBfcgdM0M=         0.0   \n",
              "25973      yNGTOfTgsqM1cBkCMURSgkI3KnXTKvPu9dPy0adEG48=         0.0   \n",
              "26075      ycz1dkKzuTjVImbl9CV1I3arUR5T7QS/g90YHxeNPfQ=         0.0   \n",
              "26079      ye+a2Bx6WZWsN8DS725d/Y3bA2tcouR1Fl2N5njydds=         0.0   \n",
              "26159      yp6A/uxyh/0D2+D177JVzWcruMfNzVr6l19bsssb3XY=         0.0   \n",
              "26211      yvz8NGwqQ0ht3FV/JJYggaswB6UtBxivWXgh/EAzj90=         0.0   \n",
              "26358      zG49yIXFW6UtasYeX1uSmQdhkZIxiHCYAPMXBvxkNvg=         0.0   \n",
              "26395      zLmztUAo1kqXa6jsn82B6eWuqOLz+ylZb/wWTaoAfOo=         0.0   \n",
              "26396      zLoH1NPWJLMl6OwJok+b4Vx+DweXTupcT9POazVXsY4=         0.0   \n",
              "26403      zMvba4f4nxBba2m0dW5y3yWYldPXtFK1C/ucKVEboVA=         0.0   \n",
              "26412      zOGjfROKi3/cWZwnw2SHGcl+DmRJ3VqEA13mX2dKi6Y=         0.0   \n",
              "26474      zXLzFiB5jQaph3W2EyGi5DGsUloRPcoVTG4VI5ullew=         0.0   \n",
              "26515      zccy3b6kMq9dpPaPa05nGGZ60EuMXy0aQ4EXvmsoMJ8=         0.0   \n",
              "26570      zkx4wHRFZjeFuTgkglS1hSx8O6gPCwaoWppiimL2dHQ=         0.0   \n",
              "26610      zqvW3/M2o87zCgwePMChe1G0ufUJWwHuPcrXMyJ5gxg=         0.0   \n",
              "26663      zyC3oBxuljEDumDnxoCfDnoHnu4qq0bkhUwKRRPneDo=         0.0   \n",
              "26668      zzompfSaMamqvjyCMYvgUBwYrxh8fHE40z3f73CQoak=         0.0   \n",
              "\n",
              "genre_ids  1007_count  1011_count  1011|691_count  1019_count  1033_count  \\\n",
              "32                0.0         0.0             0.0         0.0         0.0   \n",
              "39                0.0         0.0             0.0         0.0         0.0   \n",
              "61                0.0         0.0             0.0         0.0         0.0   \n",
              "75                0.0         0.0             0.0         0.0         0.0   \n",
              "83                0.0         0.0             0.0         0.0         0.0   \n",
              "87                0.0         0.0             0.0         0.0         0.0   \n",
              "91                0.0         0.0             0.0         0.0         0.0   \n",
              "98                0.0         0.0             0.0         0.0         0.0   \n",
              "134               0.0         0.0             0.0         0.0         0.0   \n",
              "291               0.0         0.0             0.0         0.0         0.0   \n",
              "316               0.0         0.0             0.0         0.0         0.0   \n",
              "378               0.0         0.0             0.0         0.0         0.0   \n",
              "413               0.0         0.0             0.0         0.0         0.0   \n",
              "430               0.0         0.0             0.0         0.0         0.0   \n",
              "479               0.0         0.0             0.0         0.0         0.0   \n",
              "503               0.0         0.0             0.0         0.0         0.0   \n",
              "542               0.0         0.0             0.0         0.0         0.0   \n",
              "552               0.0         0.0             0.0         0.0         0.0   \n",
              "573               0.0         0.0             0.0         0.0         0.0   \n",
              "670               0.0         0.0             0.0         0.0         0.0   \n",
              "695               0.0         0.0             0.0         0.0         0.0   \n",
              "712               0.0         0.0             0.0         0.0         0.0   \n",
              "723               0.0         3.0             0.0         0.0         0.0   \n",
              "743               0.0         2.0             0.0         0.0         0.0   \n",
              "763               0.0         0.0             0.0         0.0         0.0   \n",
              "765               0.0         0.0             0.0         0.0         0.0   \n",
              "787               0.0         0.0             0.0         0.0         0.0   \n",
              "820               0.0         0.0             0.0         0.0         0.0   \n",
              "844               0.0         0.0             0.0         0.0         0.0   \n",
              "848               0.0         0.0             0.0         0.0         0.0   \n",
              "...               ...         ...             ...         ...         ...   \n",
              "25421             0.0         0.0             0.0         0.0         0.0   \n",
              "25433             0.0         0.0             0.0         0.0         0.0   \n",
              "25464             0.0         0.0             0.0         0.0         0.0   \n",
              "25592             0.0         0.0             0.0         0.0         0.0   \n",
              "25612             0.0         0.0             0.0         0.0         0.0   \n",
              "25680             0.0         0.0             0.0         0.0         0.0   \n",
              "25682             0.0         0.0             0.0         0.0         0.0   \n",
              "25732             0.0         0.0             0.0         0.0         0.0   \n",
              "25759             0.0         0.0             0.0         0.0         0.0   \n",
              "25814             0.0         0.0             0.0         0.0         0.0   \n",
              "25862             0.0         0.0             0.0         0.0         0.0   \n",
              "25881             0.0         0.0             0.0         0.0         0.0   \n",
              "25901             0.0         0.0             0.0         0.0         0.0   \n",
              "25951             0.0         0.0             0.0         0.0         0.0   \n",
              "25973             0.0         0.0             0.0         0.0         0.0   \n",
              "26075             0.0         0.0             0.0         0.0         0.0   \n",
              "26079             0.0         0.0             0.0         0.0         0.0   \n",
              "26159             0.0         0.0             0.0         0.0         0.0   \n",
              "26211             0.0         0.0             0.0         0.0         0.0   \n",
              "26358             0.0         3.0             0.0         0.0         0.0   \n",
              "26395             0.0         0.0             0.0         0.0         0.0   \n",
              "26396             0.0         0.0             0.0         0.0         0.0   \n",
              "26403             0.0         0.0             0.0         0.0         0.0   \n",
              "26412             0.0         1.0             0.0         0.0         0.0   \n",
              "26474             0.0         0.0             0.0         0.0         0.0   \n",
              "26515             0.0         0.0             0.0         0.0         0.0   \n",
              "26570             0.0         1.0             0.0         0.0         0.0   \n",
              "26610             0.0         0.0             0.0         0.0         0.0   \n",
              "26663             0.0         0.0             0.0         0.0         0.0   \n",
              "26668             0.0         0.0             0.0         0.0         0.0   \n",
              "\n",
              "genre_ids  1040_count  1040|1155_count  1047_count   ...     958|2122_count  \\\n",
              "32                0.0              0.0         0.0   ...                0.0   \n",
              "39                0.0              0.0         0.0   ...                0.0   \n",
              "61                0.0              0.0         0.0   ...                0.0   \n",
              "75                0.0              0.0         0.0   ...                0.0   \n",
              "83                0.0              0.0         0.0   ...                0.0   \n",
              "87                0.0              0.0         0.0   ...                0.0   \n",
              "91                0.0              0.0         0.0   ...                0.0   \n",
              "98                0.0              0.0         0.0   ...                0.0   \n",
              "134               0.0              0.0         0.0   ...                0.0   \n",
              "291               0.0              0.0         0.0   ...                0.0   \n",
              "316               0.0              0.0         0.0   ...                0.0   \n",
              "378               0.0              0.0         0.0   ...                0.0   \n",
              "413               0.0              0.0         0.0   ...                0.0   \n",
              "430               0.0              0.0         0.0   ...                0.0   \n",
              "479               0.0              0.0         0.0   ...                0.0   \n",
              "503               0.0              0.0         0.0   ...                0.0   \n",
              "542               0.0              0.0         0.0   ...                0.0   \n",
              "552               0.0              0.0         0.0   ...                0.0   \n",
              "573               0.0              0.0         0.0   ...                0.0   \n",
              "670               0.0              0.0         0.0   ...                0.0   \n",
              "695               0.0              0.0         0.0   ...                0.0   \n",
              "712               0.0              0.0         0.0   ...                0.0   \n",
              "723               0.0              0.0         0.0   ...                0.0   \n",
              "743               0.0              0.0         0.0   ...                0.0   \n",
              "763               0.0              0.0         0.0   ...                0.0   \n",
              "765               0.0              0.0         0.0   ...                0.0   \n",
              "787               0.0              0.0         0.0   ...                0.0   \n",
              "820               0.0              0.0         0.0   ...                0.0   \n",
              "844               0.0              0.0         0.0   ...                0.0   \n",
              "848               0.0              0.0         0.0   ...                0.0   \n",
              "...               ...              ...         ...   ...                ...   \n",
              "25421             0.0              0.0         0.0   ...                0.0   \n",
              "25433             0.0              0.0         0.0   ...                0.0   \n",
              "25464             0.0              0.0         0.0   ...                0.0   \n",
              "25592             0.0              0.0         0.0   ...                0.0   \n",
              "25612             0.0              0.0         0.0   ...                0.0   \n",
              "25680             0.0              0.0         0.0   ...                0.0   \n",
              "25682             0.0              0.0         0.0   ...                0.0   \n",
              "25732             0.0              0.0         0.0   ...                0.0   \n",
              "25759             0.0              0.0         0.0   ...                0.0   \n",
              "25814             0.0              0.0         0.0   ...                0.0   \n",
              "25862             0.0              0.0         0.0   ...                0.0   \n",
              "25881             0.0              0.0         0.0   ...                0.0   \n",
              "25901             0.0              0.0         0.0   ...                0.0   \n",
              "25951             0.0              0.0         0.0   ...                0.0   \n",
              "25973             0.0              0.0         0.0   ...                0.0   \n",
              "26075             0.0              0.0         0.0   ...                0.0   \n",
              "26079             0.0              0.0         0.0   ...                0.0   \n",
              "26159             0.0              0.0         0.0   ...                0.0   \n",
              "26211             0.0              0.0         0.0   ...                0.0   \n",
              "26358             0.0              0.0         0.0   ...                0.0   \n",
              "26395             0.0              0.0         0.0   ...                0.0   \n",
              "26396             0.0              0.0         0.0   ...                0.0   \n",
              "26403             0.0              0.0         0.0   ...                0.0   \n",
              "26412             0.0              0.0         0.0   ...                0.0   \n",
              "26474             0.0              0.0         0.0   ...                0.0   \n",
              "26515             0.0              0.0         0.0   ...                0.0   \n",
              "26570             0.0              0.0         0.0   ...                0.0   \n",
              "26610             0.0              0.0         0.0   ...                0.0   \n",
              "26663             0.0              0.0         0.0   ...                0.0   \n",
              "26668             0.0              0.0         0.0   ...                0.0   \n",
              "\n",
              "genre_ids  958|691_count  958|786_count  958|947_count  965_count  972_count  \\\n",
              "32                   0.0            0.0            0.0        0.0        0.0   \n",
              "39                   0.0            0.0            0.0        0.0        0.0   \n",
              "61                   0.0            0.0            0.0        0.0        0.0   \n",
              "75                   0.0            0.0            0.0        0.0        0.0   \n",
              "83                   0.0            0.0            0.0        0.0        0.0   \n",
              "87                   0.0            0.0            0.0        0.0        0.0   \n",
              "91                   0.0            0.0            0.0        0.0        0.0   \n",
              "98                   0.0            0.0            0.0        0.0        0.0   \n",
              "134                  0.0            0.0            0.0        0.0        0.0   \n",
              "291                  0.0            0.0            0.0        0.0        0.0   \n",
              "316                  0.0            0.0            0.0        0.0        0.0   \n",
              "378                  0.0            0.0            0.0        0.0        0.0   \n",
              "413                  0.0            0.0            0.0        0.0        0.0   \n",
              "430                  0.0            0.0            0.0        0.0        0.0   \n",
              "479                  0.0            0.0            0.0        0.0        0.0   \n",
              "503                  0.0            0.0            0.0        0.0        0.0   \n",
              "542                  0.0            0.0            0.0        0.0        0.0   \n",
              "552                  0.0            0.0            0.0        0.0        0.0   \n",
              "573                  0.0            0.0            0.0        0.0        0.0   \n",
              "670                  0.0            0.0            0.0        0.0        0.0   \n",
              "695                  0.0            0.0            0.0        0.0        0.0   \n",
              "712                  0.0            0.0            0.0        0.0        0.0   \n",
              "723                  0.0            0.0            0.0        0.0        0.0   \n",
              "743                  0.0            0.0            0.0        0.0        0.0   \n",
              "763                  0.0            0.0            0.0        0.0        0.0   \n",
              "765                  0.0            0.0            0.0        0.0        0.0   \n",
              "787                  0.0            0.0            0.0        0.0        0.0   \n",
              "820                  0.0            0.0            0.0        0.0        0.0   \n",
              "844                  0.0            0.0            0.0        0.0        0.0   \n",
              "848                  0.0            0.0            0.0        0.0        0.0   \n",
              "...                  ...            ...            ...        ...        ...   \n",
              "25421                0.0            0.0            0.0        0.0        0.0   \n",
              "25433                0.0            0.0            0.0        0.0        0.0   \n",
              "25464                0.0            0.0            0.0        0.0        0.0   \n",
              "25592                0.0            0.0            0.0        0.0        0.0   \n",
              "25612                0.0            0.0            0.0        0.0        0.0   \n",
              "25680                0.0            0.0            0.0        0.0        0.0   \n",
              "25682                0.0            0.0            0.0        0.0        0.0   \n",
              "25732                0.0            0.0            0.0        0.0        0.0   \n",
              "25759                0.0            0.0            0.0        0.0        0.0   \n",
              "25814                0.0            0.0            0.0        0.0        0.0   \n",
              "25862                0.0            0.0            0.0        0.0        0.0   \n",
              "25881                0.0            0.0            0.0        0.0        0.0   \n",
              "25901                0.0            0.0            0.0        0.0        0.0   \n",
              "25951                0.0            0.0            0.0        0.0        0.0   \n",
              "25973                0.0            0.0            0.0        0.0        0.0   \n",
              "26075                0.0            0.0            0.0        0.0        0.0   \n",
              "26079                0.0            0.0            0.0        0.0        0.0   \n",
              "26159                0.0            0.0            0.0        0.0        0.0   \n",
              "26211                0.0            0.0            0.0        0.0        0.0   \n",
              "26358                0.0            0.0            0.0        0.0        0.0   \n",
              "26395                0.0            0.0            0.0        0.0        0.0   \n",
              "26396                0.0            0.0            0.0        0.0        0.0   \n",
              "26403                0.0            0.0            0.0        0.0        0.0   \n",
              "26412                0.0            0.0            0.0        0.0        0.0   \n",
              "26474                0.0            0.0            0.0        0.0        0.0   \n",
              "26515                0.0            0.0            0.0        0.0        0.0   \n",
              "26570                0.0            0.0            0.0        0.0        0.0   \n",
              "26610                0.0            0.0            0.0        0.0        0.0   \n",
              "26663                0.0            0.0            0.0        0.0        0.0   \n",
              "26668                0.0            0.0            0.0        0.0        0.0   \n",
              "\n",
              "genre_ids  979_count  986_count  993|751_count  cluster  \n",
              "32               0.0        0.0            0.0       12  \n",
              "39               0.0        0.0            0.0       12  \n",
              "61               0.0        0.0            0.0       12  \n",
              "75               0.0        0.0            0.0       12  \n",
              "83               0.0        0.0            0.0       12  \n",
              "87               0.0        0.0            0.0       12  \n",
              "91               0.0        0.0            0.0       12  \n",
              "98               0.0        0.0            0.0       12  \n",
              "134              0.0        0.0            0.0       12  \n",
              "291              0.0        0.0            0.0       12  \n",
              "316              0.0        0.0            0.0       12  \n",
              "378              0.0        0.0            0.0       12  \n",
              "413              0.0        0.0            0.0       12  \n",
              "430              0.0        0.0            0.0       12  \n",
              "479              0.0        0.0            0.0       12  \n",
              "503              0.0        0.0            0.0       12  \n",
              "542              0.0        0.0            0.0       12  \n",
              "552              0.0        0.0            0.0       12  \n",
              "573              0.0        0.0            0.0       12  \n",
              "670              0.0        0.0            0.0       12  \n",
              "695              0.0        0.0            0.0       12  \n",
              "712              0.0        0.0            0.0       12  \n",
              "723              0.0        0.0            0.0       12  \n",
              "743              0.0        0.0            0.0       12  \n",
              "763              0.0        0.0            0.0       12  \n",
              "765              0.0        0.0            0.0       12  \n",
              "787              0.0        0.0            0.0       12  \n",
              "820              0.0        0.0            0.0       12  \n",
              "844              0.0        0.0            0.0       12  \n",
              "848              0.0        0.0            0.0       12  \n",
              "...              ...        ...            ...      ...  \n",
              "25421            0.0        0.0            0.0       12  \n",
              "25433            0.0        0.0            0.0       12  \n",
              "25464            0.0        0.0            0.0       12  \n",
              "25592            0.0        0.0            0.0       12  \n",
              "25612            0.0        0.0            0.0       12  \n",
              "25680            0.0        0.0            0.0       12  \n",
              "25682            0.0        0.0            0.0       12  \n",
              "25732            0.0        0.0            0.0       12  \n",
              "25759            0.0        0.0            0.0       12  \n",
              "25814            0.0        0.0            0.0       12  \n",
              "25862            0.0        0.0            0.0       12  \n",
              "25881            0.0        0.0            0.0       12  \n",
              "25901            0.0        0.0            0.0       12  \n",
              "25951            0.0        0.0            0.0       12  \n",
              "25973            0.0        0.0            0.0       12  \n",
              "26075            0.0        0.0            0.0       12  \n",
              "26079            0.0        0.0            0.0       12  \n",
              "26159            0.0        0.0            0.0       12  \n",
              "26211            0.0        0.0            0.0       12  \n",
              "26358            0.0        0.0            0.0       12  \n",
              "26395            0.0        0.0            0.0       12  \n",
              "26396            0.0        0.0            0.0       12  \n",
              "26403            0.0        0.0            0.0       12  \n",
              "26412            0.0        0.0            0.0       12  \n",
              "26474            0.0        0.0            0.0       12  \n",
              "26515            0.0        0.0            0.0       12  \n",
              "26570            0.0        0.0            0.0       12  \n",
              "26610            0.0        0.0            0.0       12  \n",
              "26663            0.0        0.0            0.0       12  \n",
              "26668            0.0        0.0            0.0       12  \n",
              "\n",
              "[626 rows x 451 columns]"
            ]
          },
          "metadata": {
            "tags": []
          },
          "execution_count": 49
        }
      ]
    },
    {
      "metadata": {
        "id": "I-3qah6INF7z",
        "colab_type": "text"
      },
      "cell_type": "markdown",
      "source": [
        "# **مقایسه دو کاربر از کلاستر ۱۲ و تعداد پخش‌های آن‌ها بر اساس ژانر**"
      ]
    },
    {
      "metadata": {
        "id": "Fe439utqjiU0",
        "colab_type": "code",
        "outputId": "b8ac1610-c144-4027-ef4d-fafdbb207192",
        "colab": {
          "base_uri": "https://localhost:8080/",
          "height": 421
        }
      },
      "cell_type": "code",
      "source": [
        "counts_index[counts_index['msno'] == 'wwYwkddCqNCAHUTkwco9wOb/P5JJ0cXsvIwD3MInsFQ=']"
      ],
      "execution_count": 0,
      "outputs": [
        {
          "output_type": "execute_result",
          "data": {
            "text/html": [
              "<div>\n",
              "<style scoped>\n",
              "    .dataframe tbody tr th:only-of-type {\n",
              "        vertical-align: middle;\n",
              "    }\n",
              "\n",
              "    .dataframe tbody tr th {\n",
              "        vertical-align: top;\n",
              "    }\n",
              "\n",
              "    .dataframe thead th {\n",
              "        text-align: right;\n",
              "    }\n",
              "</style>\n",
              "<table border=\"1\" class=\"dataframe\">\n",
              "  <thead>\n",
              "    <tr style=\"text-align: right;\">\n",
              "      <th></th>\n",
              "      <th>msno</th>\n",
              "      <th>genre_ids</th>\n",
              "      <th>n_g_id</th>\n",
              "    </tr>\n",
              "  </thead>\n",
              "  <tbody>\n",
              "    <tr>\n",
              "      <th>222678</th>\n",
              "      <td>wwYwkddCqNCAHUTkwco9wOb/P5JJ0cXsvIwD3MInsFQ=</td>\n",
              "      <td>465</td>\n",
              "      <td>169</td>\n",
              "    </tr>\n",
              "    <tr>\n",
              "      <th>222679</th>\n",
              "      <td>wwYwkddCqNCAHUTkwco9wOb/P5JJ0cXsvIwD3MInsFQ=</td>\n",
              "      <td>458</td>\n",
              "      <td>44</td>\n",
              "    </tr>\n",
              "    <tr>\n",
              "      <th>222680</th>\n",
              "      <td>wwYwkddCqNCAHUTkwco9wOb/P5JJ0cXsvIwD3MInsFQ=</td>\n",
              "      <td>2157</td>\n",
              "      <td>11</td>\n",
              "    </tr>\n",
              "    <tr>\n",
              "      <th>222681</th>\n",
              "      <td>wwYwkddCqNCAHUTkwco9wOb/P5JJ0cXsvIwD3MInsFQ=</td>\n",
              "      <td>451</td>\n",
              "      <td>4</td>\n",
              "    </tr>\n",
              "    <tr>\n",
              "      <th>222682</th>\n",
              "      <td>wwYwkddCqNCAHUTkwco9wOb/P5JJ0cXsvIwD3MInsFQ=</td>\n",
              "      <td>921</td>\n",
              "      <td>3</td>\n",
              "    </tr>\n",
              "    <tr>\n",
              "      <th>222683</th>\n",
              "      <td>wwYwkddCqNCAHUTkwco9wOb/P5JJ0cXsvIwD3MInsFQ=</td>\n",
              "      <td>1259</td>\n",
              "      <td>1</td>\n",
              "    </tr>\n",
              "    <tr>\n",
              "      <th>222684</th>\n",
              "      <td>wwYwkddCqNCAHUTkwco9wOb/P5JJ0cXsvIwD3MInsFQ=</td>\n",
              "      <td>2022</td>\n",
              "      <td>1</td>\n",
              "    </tr>\n",
              "    <tr>\n",
              "      <th>222685</th>\n",
              "      <td>wwYwkddCqNCAHUTkwco9wOb/P5JJ0cXsvIwD3MInsFQ=</td>\n",
              "      <td>465|458</td>\n",
              "      <td>1</td>\n",
              "    </tr>\n",
              "    <tr>\n",
              "      <th>222686</th>\n",
              "      <td>wwYwkddCqNCAHUTkwco9wOb/P5JJ0cXsvIwD3MInsFQ=</td>\n",
              "      <td>465|921</td>\n",
              "      <td>1</td>\n",
              "    </tr>\n",
              "    <tr>\n",
              "      <th>222687</th>\n",
              "      <td>wwYwkddCqNCAHUTkwco9wOb/P5JJ0cXsvIwD3MInsFQ=</td>\n",
              "      <td>691</td>\n",
              "      <td>1</td>\n",
              "    </tr>\n",
              "    <tr>\n",
              "      <th>222688</th>\n",
              "      <td>wwYwkddCqNCAHUTkwco9wOb/P5JJ0cXsvIwD3MInsFQ=</td>\n",
              "      <td>798</td>\n",
              "      <td>1</td>\n",
              "    </tr>\n",
              "    <tr>\n",
              "      <th>222689</th>\n",
              "      <td>wwYwkddCqNCAHUTkwco9wOb/P5JJ0cXsvIwD3MInsFQ=</td>\n",
              "      <td>921|465</td>\n",
              "      <td>1</td>\n",
              "    </tr>\n",
              "  </tbody>\n",
              "</table>\n",
              "</div>"
            ],
            "text/plain": [
              "                                                msno genre_ids  n_g_id\n",
              "222678  wwYwkddCqNCAHUTkwco9wOb/P5JJ0cXsvIwD3MInsFQ=       465     169\n",
              "222679  wwYwkddCqNCAHUTkwco9wOb/P5JJ0cXsvIwD3MInsFQ=       458      44\n",
              "222680  wwYwkddCqNCAHUTkwco9wOb/P5JJ0cXsvIwD3MInsFQ=      2157      11\n",
              "222681  wwYwkddCqNCAHUTkwco9wOb/P5JJ0cXsvIwD3MInsFQ=       451       4\n",
              "222682  wwYwkddCqNCAHUTkwco9wOb/P5JJ0cXsvIwD3MInsFQ=       921       3\n",
              "222683  wwYwkddCqNCAHUTkwco9wOb/P5JJ0cXsvIwD3MInsFQ=      1259       1\n",
              "222684  wwYwkddCqNCAHUTkwco9wOb/P5JJ0cXsvIwD3MInsFQ=      2022       1\n",
              "222685  wwYwkddCqNCAHUTkwco9wOb/P5JJ0cXsvIwD3MInsFQ=   465|458       1\n",
              "222686  wwYwkddCqNCAHUTkwco9wOb/P5JJ0cXsvIwD3MInsFQ=   465|921       1\n",
              "222687  wwYwkddCqNCAHUTkwco9wOb/P5JJ0cXsvIwD3MInsFQ=       691       1\n",
              "222688  wwYwkddCqNCAHUTkwco9wOb/P5JJ0cXsvIwD3MInsFQ=       798       1\n",
              "222689  wwYwkddCqNCAHUTkwco9wOb/P5JJ0cXsvIwD3MInsFQ=   921|465       1"
            ]
          },
          "metadata": {
            "tags": []
          },
          "execution_count": 56
        }
      ]
    },
    {
      "metadata": {
        "id": "RXwNQCxhNS7L",
        "colab_type": "text"
      },
      "cell_type": "markdown",
      "source": [
        "# **مشاهده می‌کنیم که این دو کاربر به ژانرهای ۴۶۵ و ۴۵۸ و ۲۱۵۷ و ۴۵۱ علاقه بیشتری دارند**"
      ]
    },
    {
      "metadata": {
        "id": "imV8sIKhjrah",
        "colab_type": "code",
        "outputId": "fe64abb1-4377-4be5-e11d-6d74ca70617a",
        "colab": {
          "base_uri": "https://localhost:8080/",
          "height": 390
        }
      },
      "cell_type": "code",
      "source": [
        "counts_index[counts_index['msno'] == '0+5iukg08KTgEI42al05Xja6feBDRsGdjM5RvaUJt+4=']"
      ],
      "execution_count": 0,
      "outputs": [
        {
          "output_type": "execute_result",
          "data": {
            "text/html": [
              "<div>\n",
              "<style scoped>\n",
              "    .dataframe tbody tr th:only-of-type {\n",
              "        vertical-align: middle;\n",
              "    }\n",
              "\n",
              "    .dataframe tbody tr th {\n",
              "        vertical-align: top;\n",
              "    }\n",
              "\n",
              "    .dataframe thead th {\n",
              "        text-align: right;\n",
              "    }\n",
              "</style>\n",
              "<table border=\"1\" class=\"dataframe\">\n",
              "  <thead>\n",
              "    <tr style=\"text-align: right;\">\n",
              "      <th></th>\n",
              "      <th>msno</th>\n",
              "      <th>genre_ids</th>\n",
              "      <th>n_g_id</th>\n",
              "    </tr>\n",
              "  </thead>\n",
              "  <tbody>\n",
              "    <tr>\n",
              "      <th>6810</th>\n",
              "      <td>0+5iukg08KTgEI42al05Xja6feBDRsGdjM5RvaUJt+4=</td>\n",
              "      <td>465</td>\n",
              "      <td>148</td>\n",
              "    </tr>\n",
              "    <tr>\n",
              "      <th>6811</th>\n",
              "      <td>0+5iukg08KTgEI42al05Xja6feBDRsGdjM5RvaUJt+4=</td>\n",
              "      <td>458</td>\n",
              "      <td>75</td>\n",
              "    </tr>\n",
              "    <tr>\n",
              "      <th>6812</th>\n",
              "      <td>0+5iukg08KTgEI42al05Xja6feBDRsGdjM5RvaUJt+4=</td>\n",
              "      <td>2157</td>\n",
              "      <td>8</td>\n",
              "    </tr>\n",
              "    <tr>\n",
              "      <th>6813</th>\n",
              "      <td>0+5iukg08KTgEI42al05Xja6feBDRsGdjM5RvaUJt+4=</td>\n",
              "      <td>921|458</td>\n",
              "      <td>3</td>\n",
              "    </tr>\n",
              "    <tr>\n",
              "      <th>6814</th>\n",
              "      <td>0+5iukg08KTgEI42al05Xja6feBDRsGdjM5RvaUJt+4=</td>\n",
              "      <td>2022</td>\n",
              "      <td>2</td>\n",
              "    </tr>\n",
              "    <tr>\n",
              "      <th>6815</th>\n",
              "      <td>0+5iukg08KTgEI42al05Xja6feBDRsGdjM5RvaUJt+4=</td>\n",
              "      <td>451</td>\n",
              "      <td>2</td>\n",
              "    </tr>\n",
              "    <tr>\n",
              "      <th>6816</th>\n",
              "      <td>0+5iukg08KTgEI42al05Xja6feBDRsGdjM5RvaUJt+4=</td>\n",
              "      <td>921</td>\n",
              "      <td>2</td>\n",
              "    </tr>\n",
              "    <tr>\n",
              "      <th>6817</th>\n",
              "      <td>0+5iukg08KTgEI42al05Xja6feBDRsGdjM5RvaUJt+4=</td>\n",
              "      <td>444</td>\n",
              "      <td>1</td>\n",
              "    </tr>\n",
              "    <tr>\n",
              "      <th>6818</th>\n",
              "      <td>0+5iukg08KTgEI42al05Xja6feBDRsGdjM5RvaUJt+4=</td>\n",
              "      <td>465|458</td>\n",
              "      <td>1</td>\n",
              "    </tr>\n",
              "    <tr>\n",
              "      <th>6819</th>\n",
              "      <td>0+5iukg08KTgEI42al05Xja6feBDRsGdjM5RvaUJt+4=</td>\n",
              "      <td>829</td>\n",
              "      <td>1</td>\n",
              "    </tr>\n",
              "    <tr>\n",
              "      <th>6820</th>\n",
              "      <td>0+5iukg08KTgEI42al05Xja6feBDRsGdjM5RvaUJt+4=</td>\n",
              "      <td>921|465</td>\n",
              "      <td>1</td>\n",
              "    </tr>\n",
              "  </tbody>\n",
              "</table>\n",
              "</div>"
            ],
            "text/plain": [
              "                                              msno genre_ids  n_g_id\n",
              "6810  0+5iukg08KTgEI42al05Xja6feBDRsGdjM5RvaUJt+4=       465     148\n",
              "6811  0+5iukg08KTgEI42al05Xja6feBDRsGdjM5RvaUJt+4=       458      75\n",
              "6812  0+5iukg08KTgEI42al05Xja6feBDRsGdjM5RvaUJt+4=      2157       8\n",
              "6813  0+5iukg08KTgEI42al05Xja6feBDRsGdjM5RvaUJt+4=   921|458       3\n",
              "6814  0+5iukg08KTgEI42al05Xja6feBDRsGdjM5RvaUJt+4=      2022       2\n",
              "6815  0+5iukg08KTgEI42al05Xja6feBDRsGdjM5RvaUJt+4=       451       2\n",
              "6816  0+5iukg08KTgEI42al05Xja6feBDRsGdjM5RvaUJt+4=       921       2\n",
              "6817  0+5iukg08KTgEI42al05Xja6feBDRsGdjM5RvaUJt+4=       444       1\n",
              "6818  0+5iukg08KTgEI42al05Xja6feBDRsGdjM5RvaUJt+4=   465|458       1\n",
              "6819  0+5iukg08KTgEI42al05Xja6feBDRsGdjM5RvaUJt+4=       829       1\n",
              "6820  0+5iukg08KTgEI42al05Xja6feBDRsGdjM5RvaUJt+4=   921|465       1"
            ]
          },
          "metadata": {
            "tags": []
          },
          "execution_count": 57
        }
      ]
    },
    {
      "metadata": {
        "id": "aSenY7ALmILW",
        "colab_type": "code",
        "outputId": "aa40200d-7151-42d8-e6c5-ef0ab3dc8daa",
        "colab": {
          "base_uri": "https://localhost:8080/",
          "height": 161
        }
      },
      "cell_type": "code",
      "source": [
        "y = counts_copy['cluster']\n",
        "X = counts_copy.ix[:, '1000_count':'993|751_count']"
      ],
      "execution_count": 0,
      "outputs": [
        {
          "output_type": "stream",
          "text": [
            "/usr/local/lib/python3.6/dist-packages/ipykernel_launcher.py:2: DeprecationWarning: \n",
            ".ix is deprecated. Please use\n",
            ".loc for label based indexing or\n",
            ".iloc for positional indexing\n",
            "\n",
            "See the documentation here:\n",
            "http://pandas.pydata.org/pandas-docs/stable/indexing.html#ix-indexer-is-deprecated\n",
            "  \n"
          ],
          "name": "stderr"
        }
      ]
    },
    {
      "metadata": {
        "id": "Bg63WHNNNoUQ",
        "colab_type": "text"
      },
      "cell_type": "markdown",
      "source": [
        "# **رسم نمودارها برای مشاهده کلاسترینگ به ۳ روش**"
      ]
    },
    {
      "metadata": {
        "id": "KK-zz_TOlOxE",
        "colab_type": "code",
        "colab": {}
      },
      "cell_type": "code",
      "source": [
        "X_norm = (X - X.min())/(X.max() - X.min())"
      ],
      "execution_count": 0,
      "outputs": []
    },
    {
      "metadata": {
        "id": "H6j3a-w_NuQv",
        "colab_type": "text"
      },
      "cell_type": "markdown",
      "source": [
        "# **LDA**"
      ]
    },
    {
      "metadata": {
        "id": "k0MHPcn1mZxz",
        "colab_type": "code",
        "outputId": "e1b5b61f-5ff8-4f11-853c-73aafa8cac2b",
        "colab": {
          "base_uri": "https://localhost:8080/",
          "height": 525
        }
      },
      "cell_type": "code",
      "source": [
        "# LDA 2 dimensional plot\n",
        "lda = LDA(n_components=2) #2-dimensional LDA\n",
        "transformed = pd.DataFrame(lda.fit_transform(X_norm, y))\n",
        "#########################################################\n",
        "plt.scatter(transformed[y==0][0], transformed[y==0][1], label='Class 0', c='aliceblue')\n",
        "plt.scatter(transformed[y==1][0], transformed[y==1][1], label='Class 1', c='antiquewhite')\n",
        "plt.scatter(transformed[y==2][0], transformed[y==2][1], label='Class 2', c='aqua')\n",
        "plt.scatter(transformed[y==3][0], transformed[y==3][1], label='Class 3', c='aquamarine')\n",
        "plt.scatter(transformed[y==4][0], transformed[y==4][1], label='Class 4', c='azure')\n",
        "plt.scatter(transformed[y==5][0], transformed[y==5][1], label='Class 5', c='beige')\n",
        "plt.scatter(transformed[y==6][0], transformed[y==6][1], label='Class 6', c='bisque')\n",
        "plt.scatter(transformed[y==7][0], transformed[y==7][1], label='Class 7', c='black')\n",
        "plt.scatter(transformed[y==8][0], transformed[y==8][1], label='Class 8', c='blanchedalmond')\n",
        "plt.scatter(transformed[y==9][0], transformed[y==9][1], label='Class 9', c='blue')\n",
        "plt.scatter(transformed[y==10][0], transformed[y==10][1], label='Class 10', c='blueviolet')\n",
        "plt.scatter(transformed[y==11][0], transformed[y==11][1], label='Class 11', c='brown')\n",
        "plt.scatter(transformed[y==12][0], transformed[y==12][1], label='Class 12', c='burlywood')\n",
        "plt.scatter(transformed[y==13][0], transformed[y==13][1], label='Class 13', c='cadetblue')\n",
        "plt.scatter(transformed[y==14][0], transformed[y==14][1], label='Class 14', c='chartreuse')\n",
        "plt.scatter(transformed[y==15][0], transformed[y==15][1], label='Class 15', c='yellow')\n",
        "plt.scatter(transformed[y==16][0], transformed[y==16][1], label='Class 16', c='coral')\n",
        "plt.scatter(transformed[y==17][0], transformed[y==17][1], label='Class 17', c='cornflowerblue')\n",
        "plt.scatter(transformed[y==18][0], transformed[y==18][1], label='Class 18', c='cornsilk')\n",
        "plt.scatter(transformed[y==19][0], transformed[y==19][1], label='Class 19', c='crimson')\n",
        "plt.scatter(transformed[y==20][0], transformed[y==20][1], label='Class 20', c='cyan')\n",
        "plt.scatter(transformed[y==21][0], transformed[y==21][1], label='Class 21', c='darkblue')\n",
        "plt.scatter(transformed[y==22][0], transformed[y==22][1], label='Class 22', c='darkcyan')\n",
        "plt.scatter(transformed[y==23][0], transformed[y==23][1], label='Class 23', c='darkgoldenrod')\n",
        "plt.scatter(transformed[y==24][0], transformed[y==24][1], label='Class 24', c='darkgray')\n",
        "plt.scatter(transformed[y==25][0], transformed[y==25][1], label='Class 25', c='darkgreen')\n",
        "plt.scatter(transformed[y==26][0], transformed[y==26][1], label='Class 26', c='darkkhaki')\n",
        "plt.scatter(transformed[y==27][0], transformed[y==27][1], label='Class 27', c='darkmagenta')\n",
        "plt.scatter(transformed[y==28][0], transformed[y==28][1], label='Class 28', c='darkolivegreen')\n",
        "plt.scatter(transformed[y==29][0], transformed[y==29][1], label='Class 29', c='darkorange')\n",
        "\n",
        "plt.legend()\n",
        "plt.show()"
      ],
      "execution_count": 0,
      "outputs": [
        {
          "output_type": "stream",
          "text": [
            "/usr/local/lib/python3.6/dist-packages/sklearn/discriminant_analysis.py:388: UserWarning: Variables are collinear.\n",
            "  warnings.warn(\"Variables are collinear.\")\n"
          ],
          "name": "stderr"
        },
        {
          "output_type": "display_data",
          "data": {
            "image/png": "[encoded data removed]",
            "text/plain": [
              "<matplotlib.figure.Figure at 0x7f013541cf98>"
            ]
          },
          "metadata": {
            "tags": []
          }
        }
      ]
    },
    {
      "metadata": {
        "id": "s1ng3xnyNxW-",
        "colab_type": "text"
      },
      "cell_type": "markdown",
      "source": [
        "# **PCA**"
      ]
    },
    {
      "metadata": {
        "id": "ZDQrRkFzo_3q",
        "colab_type": "code",
        "outputId": "559a2b6b-e5f9-4eb7-dbf2-f3cb5de66161",
        "colab": {
          "base_uri": "https://localhost:8080/",
          "height": 490
        }
      },
      "cell_type": "code",
      "source": [
        "# PCA 2 dimensional plot\n",
        "pca = PCA(n_components=2) #2-dimensional PCA\n",
        "transformed = pd.DataFrame(pca.fit_transform(X_norm))\n",
        "###################################################\n",
        "\n",
        "plt.scatter(transformed[y==0][0], transformed[y==0][1], label='Class 0', c='aliceblue')\n",
        "plt.scatter(transformed[y==1][0], transformed[y==1][1], label='Class 1', c='antiquewhite')\n",
        "plt.scatter(transformed[y==2][0], transformed[y==2][1], label='Class 2', c='aqua')\n",
        "plt.scatter(transformed[y==3][0], transformed[y==3][1], label='Class 3', c='aquamarine')\n",
        "plt.scatter(transformed[y==4][0], transformed[y==4][1], label='Class 4', c='azure')\n",
        "plt.scatter(transformed[y==5][0], transformed[y==5][1], label='Class 5', c='beige')\n",
        "plt.scatter(transformed[y==6][0], transformed[y==6][1], label='Class 6', c='bisque')\n",
        "plt.scatter(transformed[y==7][0], transformed[y==7][1], label='Class 7', c='black')\n",
        "plt.scatter(transformed[y==8][0], transformed[y==8][1], label='Class 8', c='blanchedalmond')\n",
        "plt.scatter(transformed[y==9][0], transformed[y==9][1], label='Class 9', c='blue')\n",
        "plt.scatter(transformed[y==10][0], transformed[y==10][1], label='Class 10', c='blueviolet')\n",
        "plt.scatter(transformed[y==11][0], transformed[y==11][1], label='Class 11', c='brown')\n",
        "plt.scatter(transformed[y==12][0], transformed[y==12][1], label='Class 12', c='burlywood')\n",
        "plt.scatter(transformed[y==13][0], transformed[y==13][1], label='Class 13', c='cadetblue')\n",
        "plt.scatter(transformed[y==14][0], transformed[y==14][1], label='Class 14', c='chartreuse')\n",
        "plt.scatter(transformed[y==15][0], transformed[y==15][1], label='Class 15', c='yellow')\n",
        "plt.scatter(transformed[y==16][0], transformed[y==16][1], label='Class 16', c='coral')\n",
        "plt.scatter(transformed[y==17][0], transformed[y==17][1], label='Class 17', c='cornflowerblue')\n",
        "plt.scatter(transformed[y==18][0], transformed[y==18][1], label='Class 18', c='cornsilk')\n",
        "plt.scatter(transformed[y==19][0], transformed[y==19][1], label='Class 19', c='crimson')\n",
        "plt.scatter(transformed[y==20][0], transformed[y==20][1], label='Class 20', c='cyan')\n",
        "plt.scatter(transformed[y==21][0], transformed[y==21][1], label='Class 21', c='darkblue')\n",
        "plt.scatter(transformed[y==22][0], transformed[y==22][1], label='Class 22', c='darkcyan')\n",
        "plt.scatter(transformed[y==23][0], transformed[y==23][1], label='Class 23', c='darkgoldenrod')\n",
        "plt.scatter(transformed[y==24][0], transformed[y==24][1], label='Class 24', c='darkgray')\n",
        "plt.scatter(transformed[y==25][0], transformed[y==25][1], label='Class 25', c='darkgreen')\n",
        "plt.scatter(transformed[y==26][0], transformed[y==26][1], label='Class 26', c='darkkhaki')\n",
        "plt.scatter(transformed[y==27][0], transformed[y==27][1], label='Class 27', c='darkmagenta')\n",
        "plt.scatter(transformed[y==28][0], transformed[y==28][1], label='Class 28', c='darkolivegreen')\n",
        "plt.scatter(transformed[y==29][0], transformed[y==29][1], label='Class 29', c='darkorange')\n",
        "\n",
        "plt.legend()\n",
        "plt.show()"
      ],
      "execution_count": 0,
      "outputs": [
        {
          "output_type": "display_data",
          "data": {
            "image/png": "[encoded data removed]",
            "text/plain": [
              "<matplotlib.figure.Figure at 0x7f0137a11b70>"
            ]
          },
          "metadata": {
            "tags": []
          }
        }
      ]
    },
    {
      "metadata": {
        "id": "M9lp45_ANzuA",
        "colab_type": "text"
      },
      "cell_type": "markdown",
      "source": [
        "# **Simple 2 dimensional plot**"
      ]
    },
    {
      "metadata": {
        "id": "fiJMio5mnLmu",
        "colab_type": "code",
        "outputId": "9f457d7c-49d3-4e54-cbc6-92ca56636466",
        "colab": {
          "base_uri": "https://localhost:8080/",
          "height": 489
        }
      },
      "cell_type": "code",
      "source": [
        "# Simple 2 dimensional plot\n",
        "plt.scatter(X[y==0]['465_count'], X[y==0]['458_count'], label='Class 0', c='red')\n",
        "plt.scatter(X[y==1]['465_count'], X[y==1]['458_count'], label='Class 1', c='blue')\n",
        "plt.scatter(X[y==2]['465_count'], X[y==2]['458_count'], label='Class 2', c='lightgreen')\n",
        "plt.scatter(X[y==3]['465_count'], X[y==3]['458_count'], label='Class 3', c='aliceblue')\n",
        "plt.scatter(X[y==4]['465_count'], X[y==4]['458_count'], label='Class 4', c='aquamarine')\n",
        "plt.scatter(X[y==5]['465_count'], X[y==5]['458_count'], label='Class 5', c='black')\n",
        "plt.scatter(X[y==6]['465_count'], X[y==6]['458_count'], label='Class 6', c='blanchedalmond')\n",
        "plt.scatter(X[y==7]['465_count'], X[y==7]['458_count'], label='Class 7', c='crimson')\n",
        "plt.scatter(X[y==8]['465_count'], X[y==8]['458_count'], label='Class 8', c='cyan')\n",
        "plt.scatter(X[y==9]['465_count'], X[y==9]['458_count'], label='Class 9', c='coral')\n",
        "plt.scatter(X[y==10]['465_count'], X[y==10]['458_count'], label='Class 10', c='khaki')\n",
        "plt.scatter(X[y==11]['465_count'], X[y==11]['458_count'], label='Class 11', c='cornflowerblue')\n",
        "plt.scatter(X[y==12]['465_count'], X[y==12]['458_count'], label='Class 12', c='darkseagreen')\n",
        "plt.scatter(X[y==13]['465_count'], X[y==13]['458_count'], label='Class 13', c='darkolivegreen')\n",
        "plt.scatter(X[y==14]['465_count'], X[y==14]['458_count'], label='Class 14', c='chartreuse')\n",
        "plt.scatter(X[y==15]['465_count'], X[y==15]['458_count'], label='Class 15', c='yellow')\n",
        "plt.scatter(X[y==16]['465_count'], X[y==16]['458_count'], label='Class 16', c='bisque')\n",
        "plt.scatter(X[y==17]['465_count'], X[y==17]['458_count'], label='Class 17', c='beige')\n",
        "plt.scatter(X[y==18]['465_count'], X[y==18]['458_count'], label='Class 18', c='azure')\n",
        "plt.scatter(X[y==19]['465_count'], X[y==19]['458_count'], label='Class 19', c='aqua')\n",
        "plt.scatter(X[y==20]['465_count'], X[y==20]['458_count'], label='Class 20', c='antiquewhite')\n",
        "plt.scatter(X[y==21]['465_count'], X[y==21]['458_count'], label='Class 21', c='darkblue')\n",
        "plt.scatter(X[y==22]['465_count'], X[y==22]['458_count'], label='Class 22', c='darkcyan')\n",
        "plt.scatter(X[y==23]['465_count'], X[y==23]['458_count'], label='Class 23', c='darkgoldenrod')\n",
        "plt.scatter(X[y==24]['465_count'], X[y==24]['458_count'], label='Class 24', c='darkgray')\n",
        "plt.scatter(X[y==25]['465_count'], X[y==25]['458_count'], label='Class 25', c='darkgreen')\n",
        "plt.scatter(X[y==26]['465_count'], X[y==26]['458_count'], label='Class 26', c='darkkhaki')\n",
        "plt.scatter(X[y==27]['465_count'], X[y==27]['458_count'], label='Class 27', c='darkmagenta')\n",
        "plt.scatter(X[y==28]['465_count'], X[y==28]['458_count'], label='Class 28', c='darkolivegreen')\n",
        "plt.scatter(X[y==29]['465_count'], X[y==29]['458_count'], label='Class 29', c='darkorange')\n",
        "\n",
        "# Prettify the graph\n",
        "plt.legend()\n",
        "plt.xlabel('465')\n",
        "plt.ylabel('458')\n",
        "\n",
        "# display\n",
        "plt.show()"
      ],
      "execution_count": 0,
      "outputs": [
        {
          "output_type": "display_data",
          "data": {
            "image/png": "[encoded data removed]",
            "text/plain": [
              "<matplotlib.figure.Figure at 0x7f0137c9d128>"
            ]
          },
          "metadata": {
            "tags": []
          }
        }
      ]
    },
    {
      "metadata": {
        "id": "fHsl5tPoN4iO",
        "colab_type": "text"
      },
      "cell_type": "markdown",
      "source": [
        "# **ساخت یک دیتا فریم شامل فقط کاربران و کلاستر آن‌ها**"
      ]
    },
    {
      "metadata": {
        "id": "c4Z5aW0CGthb",
        "colab_type": "code",
        "outputId": "2940400e-1d77-42f8-9e50-0a3a66ea38e9",
        "colab": {
          "base_uri": "https://localhost:8080/",
          "height": 204
        }
      },
      "cell_type": "code",
      "source": [
        "new = counts_copy[['msno', 'cluster']]\n",
        "new.head()"
      ],
      "execution_count": 0,
      "outputs": [
        {
          "output_type": "execute_result",
          "data": {
            "text/html": [
              "<div>\n",
              "<style scoped>\n",
              "    .dataframe tbody tr th:only-of-type {\n",
              "        vertical-align: middle;\n",
              "    }\n",
              "\n",
              "    .dataframe tbody tr th {\n",
              "        vertical-align: top;\n",
              "    }\n",
              "\n",
              "    .dataframe thead th {\n",
              "        text-align: right;\n",
              "    }\n",
              "</style>\n",
              "<table border=\"1\" class=\"dataframe\">\n",
              "  <thead>\n",
              "    <tr style=\"text-align: right;\">\n",
              "      <th>genre_ids</th>\n",
              "      <th>msno</th>\n",
              "      <th>cluster</th>\n",
              "    </tr>\n",
              "  </thead>\n",
              "  <tbody>\n",
              "    <tr>\n",
              "      <th>0</th>\n",
              "      <td>++5wYjoMgQHoRuD3GbbvmphZbBBwymzv5Q4l8sywtuU=</td>\n",
              "      <td>16</td>\n",
              "    </tr>\n",
              "    <tr>\n",
              "      <th>1</th>\n",
              "      <td>++AH7m/EQ4iKe6wSlfO/xXAJx50p+fCeTyF90GoE9Pg=</td>\n",
              "      <td>17</td>\n",
              "    </tr>\n",
              "    <tr>\n",
              "      <th>2</th>\n",
              "      <td>++e+jsxuQ8UEnmW40od9Rq3rW7+wAum4wooXyZTKJpk=</td>\n",
              "      <td>13</td>\n",
              "    </tr>\n",
              "    <tr>\n",
              "      <th>3</th>\n",
              "      <td>++xWL5Pbi2CpG4uUugigQahauM0J/sBIRloTNPBybIU=</td>\n",
              "      <td>1</td>\n",
              "    </tr>\n",
              "    <tr>\n",
              "      <th>4</th>\n",
              "      <td>+/SKX44s4ryWQzYzuV7ZKMXqIKQMN1cPz3M8CJ8CFKU=</td>\n",
              "      <td>17</td>\n",
              "    </tr>\n",
              "  </tbody>\n",
              "</table>\n",
              "</div>"
            ],
            "text/plain": [
              "genre_ids                                          msno  cluster\n",
              "0          ++5wYjoMgQHoRuD3GbbvmphZbBBwymzv5Q4l8sywtuU=       16\n",
              "1          ++AH7m/EQ4iKe6wSlfO/xXAJx50p+fCeTyF90GoE9Pg=       17\n",
              "2          ++e+jsxuQ8UEnmW40od9Rq3rW7+wAum4wooXyZTKJpk=       13\n",
              "3          ++xWL5Pbi2CpG4uUugigQahauM0J/sBIRloTNPBybIU=        1\n",
              "4          +/SKX44s4ryWQzYzuV7ZKMXqIKQMN1cPz3M8CJ8CFKU=       17"
            ]
          },
          "metadata": {
            "tags": []
          },
          "execution_count": 40
        }
      ]
    },
    {
      "metadata": {
        "id": "QjfbTj-IOAal",
        "colab_type": "text"
      },
      "cell_type": "markdown",
      "source": [
        "# **مرج کردن و مشخص کردن کلاستر همه کاربران برای داده‌های ترین**"
      ]
    },
    {
      "metadata": {
        "id": "aAf2BEVoIUJy",
        "colab_type": "code",
        "outputId": "75ef36da-6746-42ac-d414-9547de568bc3",
        "colab": {
          "base_uri": "https://localhost:8080/",
          "height": 35
        }
      },
      "cell_type": "code",
      "source": [
        "X_train_cluster = pd.merge(X_train, y_train.to_frame(), left_index=True, right_index=True)\n",
        "X_train_cluster = X_train_cluster.merge(new, how='left', on='msno')\n",
        "X_train_cluster['cluster'].fillna(value=X_train_cluster['cluster'].mode()[0],inplace=True)\n",
        "X_train_cluster['cluster'] = X_train_cluster['cluster'].astype(np.int8)\n",
        "X_train_cluster['cluster'].dtype\n",
        "X_train_cluster['cluster'].isnull().sum()"
      ],
      "execution_count": 0,
      "outputs": [
        {
          "output_type": "execute_result",
          "data": {
            "text/plain": [
              "0"
            ]
          },
          "metadata": {
            "tags": []
          },
          "execution_count": 41
        }
      ]
    },
    {
      "metadata": {
        "id": "0vlEr1poOHDL",
        "colab_type": "text"
      },
      "cell_type": "markdown",
      "source": [
        "# **مرج کردن و مشخص کردن کلاستر همه کاربران برای داده‌های تست**"
      ]
    },
    {
      "metadata": {
        "id": "yq_pDalrf7U4",
        "colab_type": "code",
        "outputId": "ead7b10f-050b-4ce4-926c-741f1d148cc2",
        "colab": {
          "base_uri": "https://localhost:8080/",
          "height": 35
        }
      },
      "cell_type": "code",
      "source": [
        "X_test_cluster = pd.merge(X_test, y_test.to_frame(), left_index=True, right_index=True)\n",
        "X_test_cluster = X_test_cluster.merge(new, how='left', on='msno')\n",
        "X_test_cluster['cluster'].fillna(value=X_test_cluster['cluster'].mode()[0],inplace=True)\n",
        "X_test_cluster['cluster'] = X_test_cluster['cluster'].astype(np.int8)\n",
        "X_test_cluster['cluster'].dtype\n",
        "X_test_cluster['cluster'].isnull().sum()"
      ],
      "execution_count": 0,
      "outputs": [
        {
          "output_type": "execute_result",
          "data": {
            "text/plain": [
              "0"
            ]
          },
          "metadata": {
            "tags": []
          },
          "execution_count": 42
        }
      ]
    },
    {
      "metadata": {
        "id": "arGYlIeaOKu4",
        "colab_type": "text"
      },
      "cell_type": "markdown",
      "source": [
        "# **پر کردن مقادیر نال در داده‌های ترین و تست برای هر ستون**"
      ]
    },
    {
      "metadata": {
        "id": "TVgEZXjHsyTD",
        "colab_type": "code",
        "colab": {}
      },
      "cell_type": "code",
      "source": [
        "X_train_cluster['gender'] = X_train_cluster['gender'].cat.add_categories([\"Unknown\"])\n",
        "X_train_cluster['gender'].fillna(value='Unknown',inplace=True)\n",
        "\n",
        "X_test_cluster['gender'] = X_test_cluster['gender'].cat.add_categories([\"Unknown\"])\n",
        "X_test_cluster['gender'].fillna(value='Unknown',inplace=True)"
      ],
      "execution_count": 0,
      "outputs": []
    },
    {
      "metadata": {
        "id": "VlfWDgOdtjjl",
        "colab_type": "code",
        "colab": {}
      },
      "cell_type": "code",
      "source": [
        "X_train_cluster['source_system_tab'] = X_train_cluster['source_system_tab'].cat.add_categories([\"Unknown\"])\n",
        "X_train_cluster['source_system_tab'].fillna(value=\"Unknown\",inplace=True)\n",
        "\n",
        "X_test_cluster['source_system_tab'] = X_test_cluster['source_system_tab'].cat.add_categories([\"Unknown\"])\n",
        "X_test_cluster['source_system_tab'].fillna(value=\"Unknown\",inplace=True)"
      ],
      "execution_count": 0,
      "outputs": []
    },
    {
      "metadata": {
        "id": "qy_o58Gkt6gY",
        "colab_type": "code",
        "colab": {}
      },
      "cell_type": "code",
      "source": [
        "#X_train_cluster['source_screen_name'] = X_train_cluster['source_screen_name'].cat.add_categories([\"Unknown\"])\n",
        "X_train_cluster['source_screen_name'].fillna(value=\"Unknown\",inplace=True)\n",
        "\n",
        "#X_test_cluster['source_screen_name'] = X_test_cluster['source_screen_name'].cat.add_categories([\"Unknown\"])\n",
        "X_test_cluster['source_screen_name'].fillna(value=\"Unknown\",inplace=True)"
      ],
      "execution_count": 0,
      "outputs": []
    },
    {
      "metadata": {
        "id": "T7NGKmdUuKfQ",
        "colab_type": "code",
        "colab": {}
      },
      "cell_type": "code",
      "source": [
        "X_train_cluster['source_type'] = X_train_cluster['source_type'].cat.add_categories([\"Unknown\"])\n",
        "X_train_cluster['source_type'].fillna(value=\"Unknown\",inplace=True)\n",
        "\n",
        "X_test_cluster['source_type'] = X_test_cluster['source_type'].cat.add_categories([\"Unknown\"])\n",
        "X_test_cluster['source_type'].fillna(value=\"Unknown\",inplace=True)"
      ],
      "execution_count": 0,
      "outputs": []
    },
    {
      "metadata": {
        "id": "koB1sujDuUSC",
        "colab_type": "code",
        "colab": {}
      },
      "cell_type": "code",
      "source": [
        "X_train_cluster['genre_ids'] = X_train_cluster['genre_ids'].cat.add_categories([\"Unknown\"])\n",
        "X_train_cluster['genre_ids'].fillna(value=\"Unknown\",inplace=True)\n",
        "X_train_cluster['genre_ids_count'] = X_train_cluster['genre_ids'].apply(genre_id_count).astype(np.int8)\n",
        "\n",
        "X_test_cluster['genre_ids'] = X_test_cluster['genre_ids'].cat.add_categories([\"Unknown\"])\n",
        "X_test_cluster['genre_ids'].fillna(value=\"Unknown\",inplace=True)\n",
        "X_test_cluster['genre_ids_count'] = X_test_cluster['genre_ids'].apply(genre_id_count).astype(np.int8)"
      ],
      "execution_count": 0,
      "outputs": []
    },
    {
      "metadata": {
        "id": "9BdbLk1qudaf",
        "colab_type": "code",
        "colab": {}
      },
      "cell_type": "code",
      "source": [
        "#X_train_cluster['artist_name'] = X_train_cluster['artist_name'].cat.add_categories([\"Unknown\"])\n",
        "X_train_cluster['artist_name'].fillna(value=\"Unknown\",inplace=True)\n",
        "\n",
        "#X_test_cluster['artist_name'] = X_test_cluster['artist_name'].cat.add_categories([\"Unknown\"])\n",
        "X_test_cluster['artist_name'].fillna(value=\"Unknown\",inplace=True)"
      ],
      "execution_count": 0,
      "outputs": []
    },
    {
      "metadata": {
        "id": "JVkD0VgVuql5",
        "colab_type": "code",
        "colab": {}
      },
      "cell_type": "code",
      "source": [
        "#X_train_cluster['composer'] = X_train_cluster['composer'].cat.add_categories([\"Unknown\"])\n",
        "X_train_cluster['composer'].fillna(value=\"Unknown\",inplace=True)\n",
        "X_train_cluster['composer_count'] = X_train_cluster['composer'].apply(composer_count).astype(np.int8)\n",
        "\n",
        "#X_test_cluster['composer'] = X_test_cluster['composer'].cat.add_categories([\"Unknown\"])\n",
        "X_test_cluster['composer'].fillna(value=\"Unknown\",inplace=True)\n",
        "X_test_cluster['composer_count'] = X_test_cluster['composer'].apply(composer_count).astype(np.int8)"
      ],
      "execution_count": 0,
      "outputs": []
    },
    {
      "metadata": {
        "id": "IcsXs9-7heb5",
        "colab_type": "code",
        "colab": {}
      },
      "cell_type": "code",
      "source": [
        "#X_train_cluster['lyricist'] = X_train_cluster['lyricist'].cat.add_categories([\"Unknown\"])\n",
        "X_train_cluster['lyricist'].fillna(value=\"Unknown\",inplace=True)\n",
        "X_train_cluster['lyricists_count'] = X_train_cluster['lyricist'].apply(lyricist_count).astype(np.int8)\n",
        "\n",
        "#X_test_cluster['lyricist'] = X_test_cluster['lyricist'].cat.add_categories([\"Unknown\"])\n",
        "X_test_cluster['lyricist'].fillna(value=\"Unknown\",inplace=True)\n",
        "X_test_cluster['lyricists_count'] = X_test_cluster['lyricist'].apply(lyricist_count).astype(np.int8)"
      ],
      "execution_count": 0,
      "outputs": []
    },
    {
      "metadata": {
        "id": "GaBGbG0-1Ewy",
        "colab_type": "code",
        "colab": {}
      },
      "cell_type": "code",
      "source": [
        "X_train_cluster['name'] = X_train_cluster['name'].astype('category')\n",
        "#X_train_cluster['name'] = X_train_cluster['name'].cat.add_categories([\"Unknown\"])\n",
        "X_train_cluster['name'].fillna(value='Unknown',inplace=True)\n",
        "\n",
        "X_test_cluster['name'] = X_test_cluster['name'].astype('category')\n",
        "#X_test_cluster['name'] = X_test_cluster['name'].cat.add_categories([\"Unknown\"])\n",
        "X_test_cluster['name'].fillna(value='Unknown',inplace=True)"
      ],
      "execution_count": 0,
      "outputs": []
    },
    {
      "metadata": {
        "id": "SW1s8pHHrBBD",
        "colab_type": "code",
        "colab": {}
      },
      "cell_type": "code",
      "source": [
        "X_train_cluster['song_year'].fillna(value=-1,inplace=True)\n",
        "\n",
        "X_test_cluster['song_year'].fillna(value=-1,inplace=True)"
      ],
      "execution_count": 0,
      "outputs": []
    },
    {
      "metadata": {
        "id": "8WYIyYPYrKZg",
        "colab_type": "code",
        "colab": {}
      },
      "cell_type": "code",
      "source": [
        "X_train_cluster['song_length'].fillna(value=X_train_cluster['song_length'].mean(),inplace=True)\n",
        "\n",
        "X_test_cluster['song_length'].fillna(value=X_test_cluster['song_length'].mean(),inplace=True)"
      ],
      "execution_count": 0,
      "outputs": []
    },
    {
      "metadata": {
        "id": "ZioiznzBrfa1",
        "colab_type": "code",
        "colab": {}
      },
      "cell_type": "code",
      "source": [
        "X_train_cluster['language'].fillna(value=X_train_cluster['language'].mode()[0],inplace=True)\n",
        "\n",
        "X_test_cluster['language'].fillna(value=X_test_cluster['language'].mode()[0],inplace=True)"
      ],
      "execution_count": 0,
      "outputs": []
    },
    {
      "metadata": {
        "id": "kZl3zpR5v4zf",
        "colab_type": "code",
        "colab": {}
      },
      "cell_type": "code",
      "source": [
        "X_train_cluster.drop('isrc', axis=1, inplace=True)\n",
        "X_train_cluster.drop('registration_init_time', axis=1, inplace=True)\n",
        "\n",
        "X_test_cluster.drop('isrc', axis=1, inplace=True)\n",
        "X_test_cluster.drop('registration_init_time', axis=1, inplace=True)"
      ],
      "execution_count": 0,
      "outputs": []
    },
    {
      "metadata": {
        "id": "sQs5flFnNqhj",
        "colab_type": "code",
        "colab": {}
      },
      "cell_type": "code",
      "source": [
        "X_train_cluster_copy = X_train_cluster.copy()\n",
        "X_test_cluster_copy =  X_test_cluster.copy()"
      ],
      "execution_count": 0,
      "outputs": []
    },
    {
      "metadata": {
        "id": "VizU9BwLOb0d",
        "colab_type": "text"
      },
      "cell_type": "markdown",
      "source": [
        "# **بدست آوردن درصد پخش آهنگ از هر خواننده**"
      ]
    },
    {
      "metadata": {
        "id": "AdRKGDSBMe9W",
        "colab_type": "code",
        "colab": {}
      },
      "cell_type": "code",
      "source": [
        "df_artists = X_train_cluster_copy.loc[:,[\"artist_name\",\"target\"]]\n",
        "\n",
        "artists1 = df_artists.groupby([\"artist_name\"],as_index=False).sum().rename(columns={\"target\":\"repeat_count\"})\n",
        "\n",
        "artists2 = df_artists.groupby([\"artist_name\"],as_index=False).count().rename(columns = {\"target\":\"play_count\"})\n",
        "df_artist_repeats = artists1.merge(artists2,how=\"inner\",on=\"artist_name\")\n",
        "df_artist_repeats[\"repeat_percentage\"] = round((df_artist_repeats['repeat_count']*100) / df_artist_repeats['play_count'],1)\n",
        "df_artist_repeats.drop([\"repeat_count\",\"play_count\"],axis=1,inplace=True)\n",
        "X_train_cluster_copy = X_train_cluster_copy.merge(df_artist_repeats,on=\"artist_name\",how=\"left\").rename(columns={\"repeat_percentage\":\"artist_repeat_percentage\"})\n",
        "X_test_cluster_copy = X_test_cluster_copy.merge(df_artist_repeats,on=\"artist_name\",how=\"left\").rename(columns={\"repeat_percentage\":\"artist_repeat_percentage\"})\n",
        "\n",
        "X_train_cluster_copy.drop([\"genre_ids\",\"artist_name\"],axis=1,inplace=True)\n",
        "\n",
        "X_test_cluster_copy.drop([\"genre_ids\",\"artist_name\"],axis=1,inplace=True)\n",
        "\n",
        "del df_artist_repeats\n",
        "del df_artists"
      ],
      "execution_count": 0,
      "outputs": []
    },
    {
      "metadata": {
        "id": "S3EDCv1yOkpj",
        "colab_type": "text"
      },
      "cell_type": "markdown",
      "source": [
        "# **تبدیل داده‌های کتگوریکال بصورت عددی**"
      ]
    },
    {
      "metadata": {
        "id": "fpMgIEkdN5kX",
        "colab_type": "code",
        "colab": {}
      },
      "cell_type": "code",
      "source": [
        "source_tab_dict = {\"my library\":8,\"discover\":7,\"search\":6,\"radio\":5,\"listen with\":4,\"explore\":3,\"notification\":2,\"settings\":1,\"Unknown\":0 }\n",
        "\n",
        "source_screen_name_dict = {\"Local playlist more\":19,\"Online playlist more\":18,\"Radio\":17,\"Unknown\":16,\"Album more\":15,\"Search\":14,\"Artist more\":13,\"Discover Feature\":12,\"Discover Chart\":11,\"Others profile more\":10,\"Discover Genre\":9,\"My library\":8,\"Explore\":7,\"Discover New\":6,\"Search Trends\":5,\"Search Home\":4,\"My library_Search\":3,\"Self profile more\":2,\"Concert\":1,\"Payment\":0}\n",
        "\n",
        "source_type_dict = {\"local-library\":12,\"online-playlist\":11,\"local-playlist\":10,\"radio\":9,\"album\":8,\"top-hits-for-artist\":7,\"song\":6,\"song-based-playlist\":5,\"listen-with\":4,\"Unknown\":3,\"topic-article-playlist\":2,\"artist\":1,\"my-daily-playlist\":0}"
      ],
      "execution_count": 0,
      "outputs": []
    },
    {
      "metadata": {
        "id": "mLINhj07OdLw",
        "colab_type": "code",
        "colab": {}
      },
      "cell_type": "code",
      "source": [
        "X_train_cluster_copy['source_system_tab'] = X_train_cluster_copy['source_system_tab'].map(source_tab_dict)\n",
        "\n",
        "X_test_cluster_copy['source_system_tab'] = X_test_cluster_copy['source_system_tab'].map(source_tab_dict)\n",
        "\n",
        "X_train_cluster_copy['source_type'] = X_train_cluster_copy['source_type'].map(source_type_dict)\n",
        "X_test_cluster_copy['source_type'] = X_test_cluster_copy['source_type'].map(source_type_dict)\n",
        "\n",
        "X_train_cluster_copy['source_screen_name'] = X_train_cluster_copy['source_screen_name'].map(source_screen_name_dict)\n",
        "X_test_cluster_copy['source_screen_name'] = X_test_cluster_copy['source_screen_name'].map(source_screen_name_dict)"
      ],
      "execution_count": 0,
      "outputs": []
    },
    {
      "metadata": {
        "id": "sH6QjyrfOs2r",
        "colab_type": "text"
      },
      "cell_type": "markdown",
      "source": [
        "# **تبدیل ستون جنست به one hot encoding**"
      ]
    },
    {
      "metadata": {
        "id": "Hz0bqSRbO0mG",
        "colab_type": "code",
        "colab": {}
      },
      "cell_type": "code",
      "source": [
        "gender_train = pd.get_dummies(X_train_cluster_copy['gender'],drop_first=True)\n",
        "\n",
        "gender_test = pd.get_dummies(X_test_cluster_copy['gender'],drop_first=True)"
      ],
      "execution_count": 0,
      "outputs": []
    },
    {
      "metadata": {
        "id": "BBjEsxRdO6TJ",
        "colab_type": "code",
        "colab": {}
      },
      "cell_type": "code",
      "source": [
        "X_train_cluster_copy = pd.concat([X_train_cluster_copy,gender_train],axis=1)\n",
        "X_test_cluster_copy = pd.concat([X_test_cluster_copy,gender_test],axis=1)"
      ],
      "execution_count": 0,
      "outputs": []
    },
    {
      "metadata": {
        "id": "Bras5mI4O4QL",
        "colab_type": "text"
      },
      "cell_type": "markdown",
      "source": [
        "# **حذف داده‌هایی که مورد نیاز نیستند**"
      ]
    },
    {
      "metadata": {
        "id": "7Y28o_DhPCCN",
        "colab_type": "code",
        "colab": {}
      },
      "cell_type": "code",
      "source": [
        "X_train_cluster_copy.drop([\"composer\",\"gender\"],axis=1,inplace=True)\n",
        "X_test_cluster_copy.drop([\"composer\",\"gender\"],axis=1,inplace=True)"
      ],
      "execution_count": 0,
      "outputs": []
    },
    {
      "metadata": {
        "id": "I2ybGcryP3G1",
        "colab_type": "code",
        "colab": {}
      },
      "cell_type": "code",
      "source": [
        "X_train_cluster_copy.drop(['registration_year', 'registration_month', 'registration_date', 'expiration_year', 'expiration_month'],axis=1,inplace=True)\n",
        "X_test_cluster_copy.drop(['registration_year', 'registration_month', 'registration_date', 'expiration_year', 'expiration_month'],axis=1,inplace=True)"
      ],
      "execution_count": 0,
      "outputs": []
    },
    {
      "metadata": {
        "id": "T-uqmbsXQcJw",
        "colab_type": "code",
        "colab": {}
      },
      "cell_type": "code",
      "source": [
        "X_test_cluster_copy['artist_repeat_percentage'].fillna(value=0.0,inplace=True)\n",
        "X_test_cluster_copy['source_screen_name'].fillna(X_test_cluster_copy['source_screen_name'].mode()[0],inplace=True)\n",
        "X_train_cluster_copy.drop(\"lyricist\",axis=1,inplace=True)\n",
        "\n",
        "X_test_cluster_copy.drop(\"lyricist\",axis=1,inplace=True)\n",
        "X_train_cluster_copy.drop(\"name\",axis=1,inplace=True)\n",
        "X_test_cluster_copy.drop(\"name\",axis=1,inplace=True)\n",
        "X_train_cluster_copy['song_year'] = X_train_cluster['song_year'].astype(\"int\")\n",
        "X_test_cluster_copy['song_year'] = X_test_cluster_copy['song_year'].astype(\"int\")"
      ],
      "execution_count": 0,
      "outputs": []
    },
    {
      "metadata": {
        "id": "YCgH-LYSPA8k",
        "colab_type": "text"
      },
      "cell_type": "markdown",
      "source": [
        "# **تبدیل ستون سن به ۶ بخش برای سادگی در محاسبات**"
      ]
    },
    {
      "metadata": {
        "id": "b9uHnODLRJc1",
        "colab_type": "code",
        "colab": {}
      },
      "cell_type": "code",
      "source": [
        "X_train_cluster_copy['age_range'] = pd.cut(X_train_cluster_copy['bd'],bins=[-45,0,10,18,35,50,80,1052])\n",
        "X_test_cluster_copy['age_range'] = pd.cut(X_test_cluster_copy['bd'],bins=[-45,0,10,18,35,50,80,1052])\n",
        "\n",
        "combine = [X_train_cluster_copy, X_test_cluster_copy]\n",
        "\n",
        "for dataset in combine : \n",
        "    \n",
        "    dataset.loc[(dataset['bd'] > 0) & (dataset['bd'] <= 10), 'age_category'] = 0\n",
        "    dataset.loc[(dataset['bd'] > 80) & (dataset['bd'] <= 1052), 'age_category'] = 1\n",
        "    dataset.loc[(dataset['bd'] > 50) & (dataset['bd'] <= 80), 'age_category'] = 2\n",
        "    dataset.loc[(dataset['bd'] > 10) & (dataset['bd'] <= 18), 'age_category'] = 3\n",
        "    dataset.loc[(dataset['bd'] > 35) & (dataset['bd'] <= 50), 'age_category'] = 4\n",
        "    dataset.loc[(dataset['bd'] > -45) & (dataset['bd'] <= 0), 'age_category'] = 5\n",
        "    dataset.loc[(dataset['bd'] > 18) & (dataset['bd'] <= 35), 'age_category'] = 6\n",
        "\n",
        "X_train_cluster_copy.drop([\"age_range\",\"bd\"],axis=1,inplace=True)\n",
        "X_test_cluster_copy.drop([\"age_range\",\"bd\"],axis=1,inplace=True)"
      ],
      "execution_count": 0,
      "outputs": []
    },
    {
      "metadata": {
        "id": "vJXH2HzbPM0j",
        "colab_type": "text"
      },
      "cell_type": "markdown",
      "source": [
        "# **تبدیل تمامی داده‌های کتگوریکال به عدد به صورت یکجا**"
      ]
    },
    {
      "metadata": {
        "id": "pWvvckmmcIxr",
        "colab_type": "code",
        "colab": {}
      },
      "cell_type": "code",
      "source": [
        "# Object data to category\n",
        "for col in X_train_cluster_copy.select_dtypes(include=['object']).columns:\n",
        "    X_train_cluster_copy[col] = X_train_cluster_copy[col].astype('category')\n",
        "    \n",
        "# Encoding categorical features\n",
        "for col in X_train_cluster_copy.select_dtypes(include=['category']).columns:\n",
        "    X_train_cluster_copy[col] = X_train_cluster_copy[col].cat.codes\n",
        "\n",
        "# Object data to category\n",
        "for col in X_test_cluster_copy.select_dtypes(include=['object']).columns:\n",
        "    X_test_cluster_copy[col] = X_test_cluster_copy[col].astype('category')\n",
        "   \n",
        "# Encoding categorical features\n",
        "for col in X_test_cluster_copy.select_dtypes(include=['category']).columns:\n",
        "    X_test_cluster_copy[col] = X_test_cluster_copy[col].cat.codes\n"
      ],
      "execution_count": 0,
      "outputs": []
    },
    {
      "metadata": {
        "id": "Ul9_CDsRPYIt",
        "colab_type": "text"
      },
      "cell_type": "markdown",
      "source": [
        "# **جداسازی دیتاها بر اساس کلاستر و ذخیره آن‌ها بصورت دیتافریم‌های جداگانه**"
      ]
    },
    {
      "metadata": {
        "id": "70u13URVAf5M",
        "colab_type": "code",
        "colab": {}
      },
      "cell_type": "code",
      "source": [
        "for i in range(0,30):\n",
        "  locals()['train_data_cluster_{0}'.format(i)] = X_train_cluster_copy[X_train_cluster_copy['cluster'] == i]"
      ],
      "execution_count": 0,
      "outputs": []
    },
    {
      "metadata": {
        "id": "hzRpM-WMAqrh",
        "colab_type": "code",
        "colab": {}
      },
      "cell_type": "code",
      "source": [
        "for j in range(0,30):\n",
        "  locals()['test_data_cluster_{0}'.format(j)] = X_test_cluster_copy[X_test_cluster_copy['cluster'] == j]"
      ],
      "execution_count": 0,
      "outputs": []
    },
    {
      "metadata": {
        "id": "ejA9a8z4Ps_J",
        "colab_type": "text"
      },
      "cell_type": "markdown",
      "source": [
        "# **ساخت و آموزش مدل XGboost**"
      ]
    },
    {
      "metadata": {
        "id": "TiVVRoN_tt4i",
        "colab_type": "code",
        "colab": {}
      },
      "cell_type": "code",
      "source": [
        "model_XG = xgb.XGBClassifier(learning_rate=0.1, max_depth=10, min_child_weight=10, n_estimators=250)"
      ],
      "execution_count": 0,
      "outputs": []
    },
    {
      "metadata": {
        "id": "OooeTLTfcm8b",
        "colab_type": "code",
        "colab": {}
      },
      "cell_type": "code",
      "source": [
        "X = X_train_cluster_copy.drop([\"msno\",\"song_id\",\"target\"],axis=1).values\n",
        "\n",
        "y = X_train_cluster_copy['target'].values"
      ],
      "execution_count": 0,
      "outputs": []
    },
    {
      "metadata": {
        "id": "ZSQcNELvuBBy",
        "colab_type": "code",
        "outputId": "6c217e34-fbfb-4a78-d57a-6c48b7a369c5",
        "colab": {
          "base_uri": "https://localhost:8080/",
          "height": 125
        }
      },
      "cell_type": "code",
      "source": [
        "model_XG.fit(X, y)"
      ],
      "execution_count": 0,
      "outputs": [
        {
          "output_type": "execute_result",
          "data": {
            "text/plain": [
              "XGBClassifier(base_score=0.5, booster='gbtree', colsample_bylevel=1,\n",
              "       colsample_bytree=1, gamma=0, learning_rate=0.1, max_delta_step=0,\n",
              "       max_depth=10, min_child_weight=10, missing=None, n_estimators=250,\n",
              "       n_jobs=1, nthread=None, objective='binary:logistic', random_state=0,\n",
              "       reg_alpha=0, reg_lambda=1, scale_pos_weight=1, seed=None,\n",
              "       silent=True, subsample=1)"
            ]
          },
          "metadata": {
            "tags": []
          },
          "execution_count": 89
        }
      ]
    },
    {
      "metadata": {
        "id": "447cq6gK_lqd",
        "colab_type": "code",
        "colab": {}
      },
      "cell_type": "code",
      "source": [
        "test_labels = X_test_cluster_copy['target']\n",
        "\n",
        "X_test = X_test_cluster_copy.drop([\"msno\",\"song_id\",\"target\"],axis=1).values"
      ],
      "execution_count": 0,
      "outputs": []
    },
    {
      "metadata": {
        "id": "JROcgMF79-ft",
        "colab_type": "code",
        "outputId": "327cccd9-b4a5-4400-c2cd-bf0e644efa24",
        "colab": {
          "base_uri": "https://localhost:8080/",
          "height": 73
        }
      },
      "cell_type": "code",
      "source": [
        "pre = model_XG.predict(X_test)"
      ],
      "execution_count": 0,
      "outputs": [
        {
          "output_type": "stream",
          "text": [
            "/usr/local/lib/python3.6/dist-packages/sklearn/preprocessing/label.py:151: DeprecationWarning: The truth value of an empty array is ambiguous. Returning False, but in future this will result in an error. Use `array.size > 0` to check that an array is not empty.\n",
            "  if diff:\n"
          ],
          "name": "stderr"
        }
      ]
    },
    {
      "metadata": {
        "id": "js0FVEWWAXsp",
        "colab_type": "code",
        "outputId": "a3256ac0-ae97-4033-9f8e-954e71c33528",
        "colab": {
          "base_uri": "https://localhost:8080/",
          "height": 143
        }
      },
      "cell_type": "code",
      "source": [
        "print(metrics.classification_report(test_labels, pre))"
      ],
      "execution_count": 0,
      "outputs": [
        {
          "output_type": "stream",
          "text": [
            "             precision    recall  f1-score   support\n",
            "\n",
            "          0       0.71      0.67      0.69    915047\n",
            "          1       0.69      0.73      0.71    929308\n",
            "\n",
            "avg / total       0.70      0.70      0.70   1844355\n",
            "\n"
          ],
          "name": "stdout"
        }
      ]
    },
    {
      "metadata": {
        "id": "te8kX786PyuV",
        "colab_type": "text"
      },
      "cell_type": "markdown",
      "source": [
        "# **مقدار AUC XGboost**"
      ]
    },
    {
      "metadata": {
        "id": "L0tzCEwjBtpv",
        "colab_type": "code",
        "outputId": "a3f7b725-7bae-4f98-d986-a9de6b1b1792",
        "colab": {
          "base_uri": "https://localhost:8080/",
          "height": 35
        }
      },
      "cell_type": "code",
      "source": [
        "y_test = np.array(test_labels)\n",
        "pred = np.array(pre)\n",
        "fpr, tpr, thresholds = roc_curve(y_test, pred)\n",
        "a = roc_auc_score(y_test, pred)\n",
        "print(a)"
      ],
      "execution_count": 0,
      "outputs": [
        {
          "output_type": "stream",
          "text": [
            "0.6977086996768038\n"
          ],
          "name": "stdout"
        }
      ]
    },
    {
      "metadata": {
        "id": "atnrWK81P7eg",
        "colab_type": "text"
      },
      "cell_type": "markdown",
      "source": [
        "# **ساخت و آموزش مدل LightGboost**"
      ]
    },
    {
      "metadata": {
        "id": "DXL9Da3xTnev",
        "colab_type": "code",
        "colab": {}
      },
      "cell_type": "code",
      "source": [
        "X_train_cluster_copy['source_system_tab'] = X_train_cluster_copy['source_system_tab'].astype(\"category\")\n",
        "X_test_cluster_copy['source_system_tab'] = X_test_cluster_copy['source_system_tab'].astype(\"category\")\n",
        "\n",
        "X_train_cluster_copy['source_screen_name'] = X_train_cluster_copy['source_screen_name'].astype(\"category\")\n",
        "X_test_cluster_copy['source_screen_name'] = X_test_cluster_copy['source_screen_name'].astype(\"category\")\n",
        "\n",
        "X_train_cluster_copy['source_type'] = X_train_cluster_copy['source_type'].astype(\"category\")\n",
        "X_test_cluster_copy['source_type'] = X_test_cluster_copy['source_type'].astype(\"category\")\n",
        "\n",
        "X_train_cluster_copy['language'] = X_train_cluster_copy['language'].astype(\"category\")\n",
        "X_test_cluster_copy['language'] = X_test_cluster_copy['language'].astype(\"category\")\n",
        "\n",
        "X_train_cluster_copy['city'] = X_train_cluster_copy['city'].astype(\"category\")\n",
        "X_test_cluster_copy['city'] = X_test_cluster_copy['city'].astype(\"category\")\n",
        "\n",
        "\n",
        "X_train_cluster_copy['registered_via'] = X_train_cluster_copy['registered_via'].astype(\"category\")\n",
        "X_test_cluster_copy['registered_via'] = X_test_cluster_copy['registered_via'].astype(\"category\")\n",
        "\n",
        "X_train_cluster_copy['cluster'] = X_train_cluster_copy['cluster'].astype(\"category\")\n",
        "X_test_cluster_copy['cluster'] = X_test_cluster_copy['cluster'].astype(\"category\")"
      ],
      "execution_count": 0,
      "outputs": []
    },
    {
      "metadata": {
        "id": "Jr_tjRfUR_Gd",
        "colab_type": "code",
        "colab": {}
      },
      "cell_type": "code",
      "source": [
        "X_LGB = X_train_cluster_copy.drop([\"msno\",\"song_id\",\"target\"],axis=1).values\n",
        "\n",
        "y_LGB = X_train_cluster_copy['target'].values"
      ],
      "execution_count": 0,
      "outputs": []
    },
    {
      "metadata": {
        "id": "nviGiJWEUYV1",
        "colab_type": "code",
        "colab": {}
      },
      "cell_type": "code",
      "source": [
        "d_train = lgb.Dataset(X_LGB, y_LGB)\n",
        "watchlist = [d_train]"
      ],
      "execution_count": 0,
      "outputs": []
    },
    {
      "metadata": {
        "id": "PZ6BhRxOUfcK",
        "colab_type": "code",
        "colab": {}
      },
      "cell_type": "code",
      "source": [
        "params = {}\n",
        "params['learning_rate'] = 0.5\n",
        "params['application'] = 'binary'\n",
        "params['max_depth'] = 10\n",
        "params['num_leaves'] = 2**6\n",
        "params['verbosity'] = 0\n",
        "params['metric'] = 'auc'"
      ],
      "execution_count": 0,
      "outputs": []
    },
    {
      "metadata": {
        "id": "64DWtSWuUjz_",
        "colab_type": "code",
        "outputId": "3d21c834-7549-461b-fa05-b75685d76edc",
        "colab": {
          "base_uri": "https://localhost:8080/",
          "height": 233
        }
      },
      "cell_type": "code",
      "source": [
        "model = lgb.train(params, train_set=d_train, num_boost_round=60, valid_sets=watchlist, \\\n",
        "verbose_eval=5)"
      ],
      "execution_count": 0,
      "outputs": [
        {
          "output_type": "stream",
          "text": [
            "[5]\ttraining's auc: 0.706798\n",
            "[10]\ttraining's auc: 0.714699\n",
            "[15]\ttraining's auc: 0.719852\n",
            "[20]\ttraining's auc: 0.723756\n",
            "[25]\ttraining's auc: 0.72565\n",
            "[30]\ttraining's auc: 0.728669\n",
            "[35]\ttraining's auc: 0.730346\n",
            "[40]\ttraining's auc: 0.73323\n",
            "[45]\ttraining's auc: 0.736108\n",
            "[50]\ttraining's auc: 0.737373\n",
            "[55]\ttraining's auc: 0.738487\n",
            "[60]\ttraining's auc: 0.740579\n"
          ],
          "name": "stdout"
        }
      ]
    },
    {
      "metadata": {
        "id": "eY5L341SVF3N",
        "colab_type": "code",
        "colab": {}
      },
      "cell_type": "code",
      "source": [
        "test_labels = X_test_cluster_copy['target']\n",
        "\n",
        "X_test = X_test_cluster_copy.drop([\"msno\",\"song_id\",\"target\"],axis=1).values"
      ],
      "execution_count": 0,
      "outputs": []
    },
    {
      "metadata": {
        "id": "yoZ1s9e0Vnwz",
        "colab_type": "code",
        "colab": {}
      },
      "cell_type": "code",
      "source": [
        "y_preds = model.predict(X_test)"
      ],
      "execution_count": 0,
      "outputs": []
    },
    {
      "metadata": {
        "id": "at629V32QCeE",
        "colab_type": "text"
      },
      "cell_type": "markdown",
      "source": [
        "# **مقدار AUC LightGboost**"
      ]
    },
    {
      "metadata": {
        "id": "sfT4Sqj0abPj",
        "colab_type": "code",
        "outputId": "53029183-ab99-4e2a-b042-0b9140c6d22b",
        "colab": {
          "base_uri": "https://localhost:8080/",
          "height": 35
        }
      },
      "cell_type": "code",
      "source": [
        "y = np.array(test_labels)\n",
        "pred = np.array(y_preds)\n",
        "fpr, tpr, thresholds = roc_curve(y, pred)\n",
        "a = roc_auc_score(y, pred)\n",
        "print(a)"
      ],
      "execution_count": 0,
      "outputs": [
        {
          "output_type": "stream",
          "text": [
            "0.7332200948681736\n"
          ],
          "name": "stdout"
        }
      ]
    },
    {
      "metadata": {
        "id": "goetFTDkQJG3",
        "colab_type": "text"
      },
      "cell_type": "markdown",
      "source": [
        "# **KFold cross validation for KNN**"
      ]
    },
    {
      "metadata": {
        "id": "H2ehMLo6x-M-",
        "colab_type": "code",
        "colab": {}
      },
      "cell_type": "code",
      "source": [
        "myList = list(range(17,50))\n",
        "\n",
        "# subsetting just the odd ones\n",
        "neighbors = filter(lambda x: x % 2 != 0, myList)\n",
        "\n",
        "# empty list that will hold cv scores\n",
        "cv_scores = []\n",
        "\n",
        "# perform 10-fold cross validation\n",
        "for k in neighbors:\n",
        "    knn = KNeighborsClassifier(n_neighbors=k)\n",
        "    scores = cross_val_score(knn, X, y, cv=10, scoring='accuracy')\n",
        "    cv_scores.append(scores.mean())"
      ],
      "execution_count": 0,
      "outputs": []
    },
    {
      "metadata": {
        "id": "yo16Vv4fQpQm",
        "colab_type": "text"
      },
      "cell_type": "markdown",
      "source": [
        "# **ساخت و آموزش مدل KNN**"
      ]
    },
    {
      "metadata": {
        "id": "usjrQSQXDJ2G",
        "colab_type": "code",
        "colab": {}
      },
      "cell_type": "code",
      "source": [
        "X = X_train_cluster_copy.drop([\"msno\",\"song_id\",\"target\"],axis=1).values\n",
        "\n",
        "y = X_train_cluster_copy['target'].values\n",
        "\n",
        "test_labels = X_test_cluster_copy['target']\n",
        "\n",
        "X_test = X_test_cluster_copy.drop([\"msno\",\"song_id\",\"target\"],axis=1).values\n",
        "\n",
        "knn = KNeighborsClassifier(n_neighbors=15)\n",
        "\n",
        "# fitting the model\n",
        "knn.fit(X, y)\n",
        "\n",
        "# predict the response\n",
        "pred = knn.predict(X_test)\n",
        "\n",
        "# evaluate accuracy\n",
        "# print (accuracy_score(test_labels, pred))"
      ],
      "execution_count": 0,
      "outputs": []
    },
    {
      "metadata": {
        "id": "jBo_xKNMQu_4",
        "colab_type": "text"
      },
      "cell_type": "markdown",
      "source": [
        "# **مقدار AUC KNN**"
      ]
    },
    {
      "metadata": {
        "id": "5dEqrE99EWtJ",
        "colab_type": "code",
        "outputId": "27c3c9a0-38f1-4850-a472-0bfd973e6514",
        "colab": {
          "base_uri": "https://localhost:8080/",
          "height": 35
        }
      },
      "cell_type": "code",
      "source": [
        "y_test = np.array(test_labels)\n",
        "pre = np.array(pred)\n",
        "fpr, tpr, thresholds = roc_curve(test_labels, pred)\n",
        "a = roc_auc_score(y_test, pre)\n",
        "print(a)"
      ],
      "execution_count": 0,
      "outputs": [
        {
          "output_type": "stream",
          "text": [
            "0.5627242632851785\n"
          ],
          "name": "stdout"
        }
      ]
    },
    {
      "metadata": {
        "id": "wBdtDOXqLONm",
        "colab_type": "text"
      },
      "cell_type": "markdown",
      "source": [
        "# **Mixture Models and Dirichlet Model**"
      ]
    },
    {
      "metadata": {
        "id": "QMKsqywqFtUZ",
        "colab_type": "code",
        "outputId": "d2557275-0a36-48f7-f3cf-ac2054379073",
        "colab": {
          "base_uri": "https://localhost:8080/",
          "height": 35
        }
      },
      "cell_type": "code",
      "source": [
        "#ساخت دیتا برای آموزش مدل میکسچر\n",
        "data_for_mixture = matrix.head(5000)\n",
        "len(data_for_mixture)"
      ],
      "execution_count": 0,
      "outputs": [
        {
          "output_type": "execute_result",
          "data": {
            "text/plain": [
              "5000"
            ]
          },
          "metadata": {
            "tags": []
          },
          "execution_count": 33
        }
      ]
    },
    {
      "metadata": {
        "id": "evNamKWqF0za",
        "colab_type": "code",
        "outputId": "94f376e6-1bed-4ea8-b45c-438a9dfe2a6d",
        "colab": {
          "base_uri": "https://localhost:8080/",
          "height": 253
        }
      },
      "cell_type": "code",
      "source": [
        "#ساخت دیتا برای آموزش مدل میکسچر\n",
        "counts_mixture = counts_copy.head(5000)\n",
        "counts_mixture.head()"
      ],
      "execution_count": 0,
      "outputs": [
        {
          "output_type": "execute_result",
          "data": {
            "text/html": [
              "<div>\n",
              "<style scoped>\n",
              "    .dataframe tbody tr th:only-of-type {\n",
              "        vertical-align: middle;\n",
              "    }\n",
              "\n",
              "    .dataframe tbody tr th {\n",
              "        vertical-align: top;\n",
              "    }\n",
              "\n",
              "    .dataframe thead th {\n",
              "        text-align: right;\n",
              "    }\n",
              "</style>\n",
              "<table border=\"1\" class=\"dataframe\">\n",
              "  <thead>\n",
              "    <tr style=\"text-align: right;\">\n",
              "      <th>genre_ids</th>\n",
              "      <th>msno</th>\n",
              "      <th>1000_count</th>\n",
              "      <th>1007_count</th>\n",
              "      <th>1011_count</th>\n",
              "      <th>1011|691_count</th>\n",
              "      <th>1019_count</th>\n",
              "      <th>1033_count</th>\n",
              "      <th>1040_count</th>\n",
              "      <th>1040|1155_count</th>\n",
              "      <th>1047_count</th>\n",
              "      <th>...</th>\n",
              "      <th>958|2022_count</th>\n",
              "      <th>958|2122_count</th>\n",
              "      <th>958|691_count</th>\n",
              "      <th>958|786_count</th>\n",
              "      <th>958|947_count</th>\n",
              "      <th>965_count</th>\n",
              "      <th>972_count</th>\n",
              "      <th>979_count</th>\n",
              "      <th>986_count</th>\n",
              "      <th>993|751_count</th>\n",
              "    </tr>\n",
              "  </thead>\n",
              "  <tbody>\n",
              "    <tr>\n",
              "      <th>0</th>\n",
              "      <td>++5wYjoMgQHoRuD3GbbvmphZbBBwymzv5Q4l8sywtuU=</td>\n",
              "      <td>0.0</td>\n",
              "      <td>0.0</td>\n",
              "      <td>0.0</td>\n",
              "      <td>0.0</td>\n",
              "      <td>0.0</td>\n",
              "      <td>0.0</td>\n",
              "      <td>0.0</td>\n",
              "      <td>0.0</td>\n",
              "      <td>0.0</td>\n",
              "      <td>...</td>\n",
              "      <td>0.0</td>\n",
              "      <td>0.0</td>\n",
              "      <td>0.0</td>\n",
              "      <td>0.0</td>\n",
              "      <td>0.0</td>\n",
              "      <td>0.0</td>\n",
              "      <td>0.0</td>\n",
              "      <td>0.0</td>\n",
              "      <td>0.0</td>\n",
              "      <td>0.0</td>\n",
              "    </tr>\n",
              "    <tr>\n",
              "      <th>1</th>\n",
              "      <td>++AH7m/EQ4iKe6wSlfO/xXAJx50p+fCeTyF90GoE9Pg=</td>\n",
              "      <td>0.0</td>\n",
              "      <td>0.0</td>\n",
              "      <td>3.0</td>\n",
              "      <td>0.0</td>\n",
              "      <td>0.0</td>\n",
              "      <td>0.0</td>\n",
              "      <td>0.0</td>\n",
              "      <td>0.0</td>\n",
              "      <td>0.0</td>\n",
              "      <td>...</td>\n",
              "      <td>0.0</td>\n",
              "      <td>0.0</td>\n",
              "      <td>0.0</td>\n",
              "      <td>0.0</td>\n",
              "      <td>0.0</td>\n",
              "      <td>0.0</td>\n",
              "      <td>0.0</td>\n",
              "      <td>0.0</td>\n",
              "      <td>0.0</td>\n",
              "      <td>0.0</td>\n",
              "    </tr>\n",
              "    <tr>\n",
              "      <th>2</th>\n",
              "      <td>++e+jsxuQ8UEnmW40od9Rq3rW7+wAum4wooXyZTKJpk=</td>\n",
              "      <td>0.0</td>\n",
              "      <td>0.0</td>\n",
              "      <td>0.0</td>\n",
              "      <td>0.0</td>\n",
              "      <td>0.0</td>\n",
              "      <td>0.0</td>\n",
              "      <td>0.0</td>\n",
              "      <td>0.0</td>\n",
              "      <td>0.0</td>\n",
              "      <td>...</td>\n",
              "      <td>0.0</td>\n",
              "      <td>0.0</td>\n",
              "      <td>0.0</td>\n",
              "      <td>0.0</td>\n",
              "      <td>0.0</td>\n",
              "      <td>0.0</td>\n",
              "      <td>0.0</td>\n",
              "      <td>0.0</td>\n",
              "      <td>0.0</td>\n",
              "      <td>0.0</td>\n",
              "    </tr>\n",
              "    <tr>\n",
              "      <th>3</th>\n",
              "      <td>++xWL5Pbi2CpG4uUugigQahauM0J/sBIRloTNPBybIU=</td>\n",
              "      <td>0.0</td>\n",
              "      <td>0.0</td>\n",
              "      <td>0.0</td>\n",
              "      <td>0.0</td>\n",
              "      <td>0.0</td>\n",
              "      <td>0.0</td>\n",
              "      <td>0.0</td>\n",
              "      <td>0.0</td>\n",
              "      <td>0.0</td>\n",
              "      <td>...</td>\n",
              "      <td>0.0</td>\n",
              "      <td>0.0</td>\n",
              "      <td>0.0</td>\n",
              "      <td>0.0</td>\n",
              "      <td>0.0</td>\n",
              "      <td>0.0</td>\n",
              "      <td>0.0</td>\n",
              "      <td>0.0</td>\n",
              "      <td>0.0</td>\n",
              "      <td>0.0</td>\n",
              "    </tr>\n",
              "    <tr>\n",
              "      <th>4</th>\n",
              "      <td>+/SKX44s4ryWQzYzuV7ZKMXqIKQMN1cPz3M8CJ8CFKU=</td>\n",
              "      <td>0.0</td>\n",
              "      <td>0.0</td>\n",
              "      <td>1.0</td>\n",
              "      <td>0.0</td>\n",
              "      <td>0.0</td>\n",
              "      <td>0.0</td>\n",
              "      <td>0.0</td>\n",
              "      <td>0.0</td>\n",
              "      <td>0.0</td>\n",
              "      <td>...</td>\n",
              "      <td>0.0</td>\n",
              "      <td>0.0</td>\n",
              "      <td>0.0</td>\n",
              "      <td>0.0</td>\n",
              "      <td>0.0</td>\n",
              "      <td>0.0</td>\n",
              "      <td>0.0</td>\n",
              "      <td>0.0</td>\n",
              "      <td>0.0</td>\n",
              "      <td>0.0</td>\n",
              "    </tr>\n",
              "  </tbody>\n",
              "</table>\n",
              "<p>5 rows × 450 columns</p>\n",
              "</div>"
            ],
            "text/plain": [
              "genre_ids                                          msno  1000_count  \\\n",
              "0          ++5wYjoMgQHoRuD3GbbvmphZbBBwymzv5Q4l8sywtuU=         0.0   \n",
              "1          ++AH7m/EQ4iKe6wSlfO/xXAJx50p+fCeTyF90GoE9Pg=         0.0   \n",
              "2          ++e+jsxuQ8UEnmW40od9Rq3rW7+wAum4wooXyZTKJpk=         0.0   \n",
              "3          ++xWL5Pbi2CpG4uUugigQahauM0J/sBIRloTNPBybIU=         0.0   \n",
              "4          +/SKX44s4ryWQzYzuV7ZKMXqIKQMN1cPz3M8CJ8CFKU=         0.0   \n",
              "\n",
              "genre_ids  1007_count  1011_count  1011|691_count  1019_count  1033_count  \\\n",
              "0                 0.0         0.0             0.0         0.0         0.0   \n",
              "1                 0.0         3.0             0.0         0.0         0.0   \n",
              "2                 0.0         0.0             0.0         0.0         0.0   \n",
              "3                 0.0         0.0             0.0         0.0         0.0   \n",
              "4                 0.0         1.0             0.0         0.0         0.0   \n",
              "\n",
              "genre_ids  1040_count  1040|1155_count  1047_count      ...        \\\n",
              "0                 0.0              0.0         0.0      ...         \n",
              "1                 0.0              0.0         0.0      ...         \n",
              "2                 0.0              0.0         0.0      ...         \n",
              "3                 0.0              0.0         0.0      ...         \n",
              "4                 0.0              0.0         0.0      ...         \n",
              "\n",
              "genre_ids  958|2022_count  958|2122_count  958|691_count  958|786_count  \\\n",
              "0                     0.0             0.0            0.0            0.0   \n",
              "1                     0.0             0.0            0.0            0.0   \n",
              "2                     0.0             0.0            0.0            0.0   \n",
              "3                     0.0             0.0            0.0            0.0   \n",
              "4                     0.0             0.0            0.0            0.0   \n",
              "\n",
              "genre_ids  958|947_count  965_count  972_count  979_count  986_count  \\\n",
              "0                    0.0        0.0        0.0        0.0        0.0   \n",
              "1                    0.0        0.0        0.0        0.0        0.0   \n",
              "2                    0.0        0.0        0.0        0.0        0.0   \n",
              "3                    0.0        0.0        0.0        0.0        0.0   \n",
              "4                    0.0        0.0        0.0        0.0        0.0   \n",
              "\n",
              "genre_ids  993|751_count  \n",
              "0                    0.0  \n",
              "1                    0.0  \n",
              "2                    0.0  \n",
              "3                    0.0  \n",
              "4                    0.0  \n",
              "\n",
              "[5 rows x 450 columns]"
            ]
          },
          "metadata": {
            "tags": []
          },
          "execution_count": 34
        }
      ]
    },
    {
      "metadata": {
        "id": "BQHrQU5UF8xT",
        "colab_type": "code",
        "colab": {}
      },
      "cell_type": "code",
      "source": [
        "gmm = mixture.GaussianMixture(n_components=15, covariance_type='full',\n",
        "                              max_iter=100).fit(data_for_mixture)"
      ],
      "execution_count": 0,
      "outputs": []
    },
    {
      "metadata": {
        "id": "vodJzhiLIH6P",
        "colab_type": "code",
        "colab": {}
      },
      "cell_type": "code",
      "source": [
        "y_pred_gmm = gmm.predict(data_for_mixture)"
      ],
      "execution_count": 0,
      "outputs": []
    },
    {
      "metadata": {
        "id": "FgV1EQeKIIuu",
        "colab_type": "code",
        "outputId": "7ea71353-ceb3-4e9b-f39c-38ed88ef5d2d",
        "colab": {
          "base_uri": "https://localhost:8080/",
          "height": 35
        }
      },
      "cell_type": "code",
      "source": [
        "y_pred_gmm"
      ],
      "execution_count": 0,
      "outputs": [
        {
          "output_type": "execute_result",
          "data": {
            "text/plain": [
              "array([11,  5,  5, ..., 12,  5, 12])"
            ]
          },
          "metadata": {
            "tags": []
          },
          "execution_count": 37
        }
      ]
    },
    {
      "metadata": {
        "id": "lwIVutV9GEAW",
        "colab_type": "code",
        "colab": {}
      },
      "cell_type": "code",
      "source": [
        "counts_mixture['cluster'] = y_pred_gmm.tolist()\n",
        "counts_mixture.head(10)"
      ],
      "execution_count": 0,
      "outputs": []
    },
    {
      "metadata": {
        "id": "qfCbGLHAPvK4",
        "colab_type": "code",
        "outputId": "76f18b33-b6d4-4aef-aa2a-e17ab11fea13",
        "colab": {
          "base_uri": "https://localhost:8080/",
          "height": 204
        }
      },
      "cell_type": "code",
      "source": [
        "new = counts_mixture[['msno', 'cluster']]\n",
        "new.head()"
      ],
      "execution_count": 0,
      "outputs": [
        {
          "output_type": "execute_result",
          "data": {
            "text/html": [
              "<div>\n",
              "<style scoped>\n",
              "    .dataframe tbody tr th:only-of-type {\n",
              "        vertical-align: middle;\n",
              "    }\n",
              "\n",
              "    .dataframe tbody tr th {\n",
              "        vertical-align: top;\n",
              "    }\n",
              "\n",
              "    .dataframe thead th {\n",
              "        text-align: right;\n",
              "    }\n",
              "</style>\n",
              "<table border=\"1\" class=\"dataframe\">\n",
              "  <thead>\n",
              "    <tr style=\"text-align: right;\">\n",
              "      <th>genre_ids</th>\n",
              "      <th>msno</th>\n",
              "      <th>cluster</th>\n",
              "    </tr>\n",
              "  </thead>\n",
              "  <tbody>\n",
              "    <tr>\n",
              "      <th>0</th>\n",
              "      <td>++5wYjoMgQHoRuD3GbbvmphZbBBwymzv5Q4l8sywtuU=</td>\n",
              "      <td>8</td>\n",
              "    </tr>\n",
              "    <tr>\n",
              "      <th>1</th>\n",
              "      <td>++AH7m/EQ4iKe6wSlfO/xXAJx50p+fCeTyF90GoE9Pg=</td>\n",
              "      <td>8</td>\n",
              "    </tr>\n",
              "    <tr>\n",
              "      <th>2</th>\n",
              "      <td>++e+jsxuQ8UEnmW40od9Rq3rW7+wAum4wooXyZTKJpk=</td>\n",
              "      <td>1</td>\n",
              "    </tr>\n",
              "    <tr>\n",
              "      <th>3</th>\n",
              "      <td>++xWL5Pbi2CpG4uUugigQahauM0J/sBIRloTNPBybIU=</td>\n",
              "      <td>11</td>\n",
              "    </tr>\n",
              "    <tr>\n",
              "      <th>4</th>\n",
              "      <td>+/SKX44s4ryWQzYzuV7ZKMXqIKQMN1cPz3M8CJ8CFKU=</td>\n",
              "      <td>7</td>\n",
              "    </tr>\n",
              "  </tbody>\n",
              "</table>\n",
              "</div>"
            ],
            "text/plain": [
              "genre_ids                                          msno  cluster\n",
              "0          ++5wYjoMgQHoRuD3GbbvmphZbBBwymzv5Q4l8sywtuU=        8\n",
              "1          ++AH7m/EQ4iKe6wSlfO/xXAJx50p+fCeTyF90GoE9Pg=        8\n",
              "2          ++e+jsxuQ8UEnmW40od9Rq3rW7+wAum4wooXyZTKJpk=        1\n",
              "3          ++xWL5Pbi2CpG4uUugigQahauM0J/sBIRloTNPBybIU=       11\n",
              "4          +/SKX44s4ryWQzYzuV7ZKMXqIKQMN1cPz3M8CJ8CFKU=        7"
            ]
          },
          "metadata": {
            "tags": []
          },
          "execution_count": 85
        }
      ]
    },
    {
      "metadata": {
        "id": "iL__LGS9P984",
        "colab_type": "code",
        "outputId": "bf2425db-58e7-41e1-9786-6ec6a06aa040",
        "colab": {
          "base_uri": "https://localhost:8080/",
          "height": 35
        }
      },
      "cell_type": "code",
      "source": [
        "X_train_cluster = pd.merge(X_train.head(5000), y_train.head(5000).to_frame(), left_index=True, right_index=True)\n",
        "X_train_cluster = X_train_cluster.merge(new, how='left', on='msno')\n",
        "X_train_cluster['cluster'].fillna(value=X_train_cluster['cluster'].mode()[0],inplace=True)\n",
        "X_train_cluster['cluster'] = X_train_cluster['cluster'].astype(np.int8)\n",
        "X_train_cluster['cluster'].dtype\n",
        "X_train_cluster['cluster'].isnull().sum()"
      ],
      "execution_count": 0,
      "outputs": [
        {
          "output_type": "execute_result",
          "data": {
            "text/plain": [
              "0"
            ]
          },
          "metadata": {
            "tags": []
          },
          "execution_count": 86
        }
      ]
    },
    {
      "metadata": {
        "id": "RLQ-ptQAQbdU",
        "colab_type": "code",
        "colab": {}
      },
      "cell_type": "code",
      "source": [
        "X_test_cluster = pd.merge(X_test.head(5000), y_test.head(5000).to_frame(), left_index=True, right_index=True)\n",
        "X_test_cluster = X_test_cluster.merge(new, how='left', on='msno')\n",
        "X_test_cluster['cluster'].fillna(value=X_test_cluster['cluster'].mode()[0],inplace=True)\n",
        "X_test_cluster['cluster'] = X_test_cluster['cluster'].astype(np.int8)\n",
        "X_test_cluster['cluster'].dtype\n",
        "X_test_cluster['cluster'].isnull().sum()"
      ],
      "execution_count": 0,
      "outputs": []
    },
    {
      "metadata": {
        "id": "mnz5gynnRQW0",
        "colab_type": "code",
        "outputId": "d1785bfa-d66b-4897-ff7e-b3e50190bb08",
        "colab": {
          "base_uri": "https://localhost:8080/",
          "height": 143
        }
      },
      "cell_type": "code",
      "source": [
        "print(metrics.classification_report(test_labels, pre))"
      ],
      "execution_count": 0,
      "outputs": [
        {
          "output_type": "stream",
          "text": [
            "             precision    recall  f1-score   support\n",
            "\n",
            "          0       0.57      0.64      0.60      2437\n",
            "          1       0.61      0.54      0.58      2563\n",
            "\n",
            "avg / total       0.59      0.59      0.59      5000\n",
            "\n"
          ],
          "name": "stdout"
        }
      ]
    },
    {
      "metadata": {
        "id": "XrQYQp93RZ4W",
        "colab_type": "code",
        "outputId": "8eccbfcb-d5e1-48cd-a51d-1f61ff896f98",
        "colab": {
          "base_uri": "https://localhost:8080/",
          "height": 35
        }
      },
      "cell_type": "code",
      "source": [
        "y_test = np.array(test_labels)\n",
        "pred = np.array(pre)\n",
        "fpr, tpr, thresholds = roc_curve(y_test, pred)\n",
        "a = roc_auc_score(y_test, pred)\n",
        "print(a)"
      ],
      "execution_count": 0,
      "outputs": [
        {
          "output_type": "stream",
          "text": [
            "0.5920327644867597\n"
          ],
          "name": "stdout"
        }
      ]
    },
    {
      "metadata": {
        "id": "ruYZCIrwGOYt",
        "colab_type": "code",
        "colab": {}
      },
      "cell_type": "code",
      "source": [
        "#Train dirichlet model using bayesian mixture\n",
        "dgmm = mixture.BayesianGaussianMixture(\n",
        "    n_components=15, covariance_type='full', weight_concentration_prior=1e-2,\n",
        "    weight_concentration_prior_type='dirichlet_process',\n",
        "    mean_precision_prior=1e-2,\n",
        "    init_params=\"random\", max_iter=100, random_state=2).fit(data_for_mixture)"
      ],
      "execution_count": 0,
      "outputs": []
    },
    {
      "metadata": {
        "id": "z_wtsGsHUTKA",
        "colab_type": "code",
        "outputId": "5d8f260f-bff1-4ca8-a507-4248913cdce5",
        "colab": {
          "base_uri": "https://localhost:8080/",
          "height": 35
        }
      },
      "cell_type": "code",
      "source": [
        "y_pred_dpgmm = dpgmm.predict(data_for_mixture)\n",
        "y_pred_dpgmm"
      ],
      "execution_count": 0,
      "outputs": [
        {
          "output_type": "execute_result",
          "data": {
            "text/plain": [
              "array([ 8,  8,  1, ..., 11,  8,  9])"
            ]
          },
          "metadata": {
            "tags": []
          },
          "execution_count": 83
        }
      ]
    },
    {
      "metadata": {
        "id": "fHfK5mOYUqXT",
        "colab_type": "code",
        "outputId": "e10359a1-e315-4269-a4f6-1055f7a21918",
        "colab": {
          "base_uri": "https://localhost:8080/",
          "height": 606
        }
      },
      "cell_type": "code",
      "source": [
        "counts_mixture.drop('cluster', axis=1, inplace=True)\n",
        "counts_mixture['cluster'] = y_pred_dpgmm.tolist()\n",
        "counts_mixture.head(10)"
      ],
      "execution_count": 0,
      "outputs": [
        {
          "output_type": "stream",
          "text": [
            "/usr/local/lib/python3.6/dist-packages/ipykernel_launcher.py:1: SettingWithCopyWarning: \n",
            "A value is trying to be set on a copy of a slice from a DataFrame\n",
            "\n",
            "See the caveats in the documentation: http://pandas.pydata.org/pandas-docs/stable/indexing.html#indexing-view-versus-copy\n",
            "  \"\"\"Entry point for launching an IPython kernel.\n",
            "/usr/local/lib/python3.6/dist-packages/ipykernel_launcher.py:2: SettingWithCopyWarning: \n",
            "A value is trying to be set on a copy of a slice from a DataFrame.\n",
            "Try using .loc[row_indexer,col_indexer] = value instead\n",
            "\n",
            "See the caveats in the documentation: http://pandas.pydata.org/pandas-docs/stable/indexing.html#indexing-view-versus-copy\n",
            "  \n"
          ],
          "name": "stderr"
        },
        {
          "output_type": "execute_result",
          "data": {
            "text/html": [
              "<div>\n",
              "<style scoped>\n",
              "    .dataframe tbody tr th:only-of-type {\n",
              "        vertical-align: middle;\n",
              "    }\n",
              "\n",
              "    .dataframe tbody tr th {\n",
              "        vertical-align: top;\n",
              "    }\n",
              "\n",
              "    .dataframe thead th {\n",
              "        text-align: right;\n",
              "    }\n",
              "</style>\n",
              "<table border=\"1\" class=\"dataframe\">\n",
              "  <thead>\n",
              "    <tr style=\"text-align: right;\">\n",
              "      <th>genre_ids</th>\n",
              "      <th>msno</th>\n",
              "      <th>1000_count</th>\n",
              "      <th>1007_count</th>\n",
              "      <th>1011_count</th>\n",
              "      <th>1011|691_count</th>\n",
              "      <th>1019_count</th>\n",
              "      <th>1033_count</th>\n",
              "      <th>1040_count</th>\n",
              "      <th>1040|1155_count</th>\n",
              "      <th>1047_count</th>\n",
              "      <th>...</th>\n",
              "      <th>958|2122_count</th>\n",
              "      <th>958|691_count</th>\n",
              "      <th>958|786_count</th>\n",
              "      <th>958|947_count</th>\n",
              "      <th>965_count</th>\n",
              "      <th>972_count</th>\n",
              "      <th>979_count</th>\n",
              "      <th>986_count</th>\n",
              "      <th>993|751_count</th>\n",
              "      <th>cluster</th>\n",
              "    </tr>\n",
              "  </thead>\n",
              "  <tbody>\n",
              "    <tr>\n",
              "      <th>0</th>\n",
              "      <td>++5wYjoMgQHoRuD3GbbvmphZbBBwymzv5Q4l8sywtuU=</td>\n",
              "      <td>0.0</td>\n",
              "      <td>0.0</td>\n",
              "      <td>0.0</td>\n",
              "      <td>0.0</td>\n",
              "      <td>0.0</td>\n",
              "      <td>0.0</td>\n",
              "      <td>0.0</td>\n",
              "      <td>0.0</td>\n",
              "      <td>0.0</td>\n",
              "      <td>...</td>\n",
              "      <td>0.0</td>\n",
              "      <td>0.0</td>\n",
              "      <td>0.0</td>\n",
              "      <td>0.0</td>\n",
              "      <td>0.0</td>\n",
              "      <td>0.0</td>\n",
              "      <td>0.0</td>\n",
              "      <td>0.0</td>\n",
              "      <td>0.0</td>\n",
              "      <td>8</td>\n",
              "    </tr>\n",
              "    <tr>\n",
              "      <th>1</th>\n",
              "      <td>++AH7m/EQ4iKe6wSlfO/xXAJx50p+fCeTyF90GoE9Pg=</td>\n",
              "      <td>0.0</td>\n",
              "      <td>0.0</td>\n",
              "      <td>3.0</td>\n",
              "      <td>0.0</td>\n",
              "      <td>0.0</td>\n",
              "      <td>0.0</td>\n",
              "      <td>0.0</td>\n",
              "      <td>0.0</td>\n",
              "      <td>0.0</td>\n",
              "      <td>...</td>\n",
              "      <td>0.0</td>\n",
              "      <td>0.0</td>\n",
              "      <td>0.0</td>\n",
              "      <td>0.0</td>\n",
              "      <td>0.0</td>\n",
              "      <td>0.0</td>\n",
              "      <td>0.0</td>\n",
              "      <td>0.0</td>\n",
              "      <td>0.0</td>\n",
              "      <td>8</td>\n",
              "    </tr>\n",
              "    <tr>\n",
              "      <th>2</th>\n",
              "      <td>++e+jsxuQ8UEnmW40od9Rq3rW7+wAum4wooXyZTKJpk=</td>\n",
              "      <td>0.0</td>\n",
              "      <td>0.0</td>\n",
              "      <td>0.0</td>\n",
              "      <td>0.0</td>\n",
              "      <td>0.0</td>\n",
              "      <td>0.0</td>\n",
              "      <td>0.0</td>\n",
              "      <td>0.0</td>\n",
              "      <td>0.0</td>\n",
              "      <td>...</td>\n",
              "      <td>0.0</td>\n",
              "      <td>0.0</td>\n",
              "      <td>0.0</td>\n",
              "      <td>0.0</td>\n",
              "      <td>0.0</td>\n",
              "      <td>0.0</td>\n",
              "      <td>0.0</td>\n",
              "      <td>0.0</td>\n",
              "      <td>0.0</td>\n",
              "      <td>1</td>\n",
              "    </tr>\n",
              "    <tr>\n",
              "      <th>3</th>\n",
              "      <td>++xWL5Pbi2CpG4uUugigQahauM0J/sBIRloTNPBybIU=</td>\n",
              "      <td>0.0</td>\n",
              "      <td>0.0</td>\n",
              "      <td>0.0</td>\n",
              "      <td>0.0</td>\n",
              "      <td>0.0</td>\n",
              "      <td>0.0</td>\n",
              "      <td>0.0</td>\n",
              "      <td>0.0</td>\n",
              "      <td>0.0</td>\n",
              "      <td>...</td>\n",
              "      <td>0.0</td>\n",
              "      <td>0.0</td>\n",
              "      <td>0.0</td>\n",
              "      <td>0.0</td>\n",
              "      <td>0.0</td>\n",
              "      <td>0.0</td>\n",
              "      <td>0.0</td>\n",
              "      <td>0.0</td>\n",
              "      <td>0.0</td>\n",
              "      <td>11</td>\n",
              "    </tr>\n",
              "    <tr>\n",
              "      <th>4</th>\n",
              "      <td>+/SKX44s4ryWQzYzuV7ZKMXqIKQMN1cPz3M8CJ8CFKU=</td>\n",
              "      <td>0.0</td>\n",
              "      <td>0.0</td>\n",
              "      <td>1.0</td>\n",
              "      <td>0.0</td>\n",
              "      <td>0.0</td>\n",
              "      <td>0.0</td>\n",
              "      <td>0.0</td>\n",
              "      <td>0.0</td>\n",
              "      <td>0.0</td>\n",
              "      <td>...</td>\n",
              "      <td>0.0</td>\n",
              "      <td>0.0</td>\n",
              "      <td>0.0</td>\n",
              "      <td>0.0</td>\n",
              "      <td>0.0</td>\n",
              "      <td>0.0</td>\n",
              "      <td>0.0</td>\n",
              "      <td>0.0</td>\n",
              "      <td>0.0</td>\n",
              "      <td>7</td>\n",
              "    </tr>\n",
              "    <tr>\n",
              "      <th>5</th>\n",
              "      <td>+/UwoUi5+rNj/F6RO6gMrMhOy0oTzs90MWKVNZs4+Wg=</td>\n",
              "      <td>0.0</td>\n",
              "      <td>0.0</td>\n",
              "      <td>0.0</td>\n",
              "      <td>0.0</td>\n",
              "      <td>0.0</td>\n",
              "      <td>0.0</td>\n",
              "      <td>0.0</td>\n",
              "      <td>0.0</td>\n",
              "      <td>0.0</td>\n",
              "      <td>...</td>\n",
              "      <td>0.0</td>\n",
              "      <td>0.0</td>\n",
              "      <td>0.0</td>\n",
              "      <td>0.0</td>\n",
              "      <td>0.0</td>\n",
              "      <td>0.0</td>\n",
              "      <td>0.0</td>\n",
              "      <td>0.0</td>\n",
              "      <td>0.0</td>\n",
              "      <td>3</td>\n",
              "    </tr>\n",
              "    <tr>\n",
              "      <th>6</th>\n",
              "      <td>+/tv7+daiSsEEBhNDnQZL32wdfmr2GSYmX2aQPGONRY=</td>\n",
              "      <td>0.0</td>\n",
              "      <td>0.0</td>\n",
              "      <td>0.0</td>\n",
              "      <td>0.0</td>\n",
              "      <td>0.0</td>\n",
              "      <td>0.0</td>\n",
              "      <td>0.0</td>\n",
              "      <td>0.0</td>\n",
              "      <td>0.0</td>\n",
              "      <td>...</td>\n",
              "      <td>0.0</td>\n",
              "      <td>0.0</td>\n",
              "      <td>0.0</td>\n",
              "      <td>0.0</td>\n",
              "      <td>0.0</td>\n",
              "      <td>0.0</td>\n",
              "      <td>0.0</td>\n",
              "      <td>0.0</td>\n",
              "      <td>0.0</td>\n",
              "      <td>14</td>\n",
              "    </tr>\n",
              "    <tr>\n",
              "      <th>7</th>\n",
              "      <td>+/vppV5BoMKMNAk7Bej5rjhKeE6VqrRjUv8EYXoAjyM=</td>\n",
              "      <td>0.0</td>\n",
              "      <td>0.0</td>\n",
              "      <td>0.0</td>\n",
              "      <td>0.0</td>\n",
              "      <td>0.0</td>\n",
              "      <td>0.0</td>\n",
              "      <td>0.0</td>\n",
              "      <td>0.0</td>\n",
              "      <td>0.0</td>\n",
              "      <td>...</td>\n",
              "      <td>0.0</td>\n",
              "      <td>0.0</td>\n",
              "      <td>0.0</td>\n",
              "      <td>0.0</td>\n",
              "      <td>0.0</td>\n",
              "      <td>0.0</td>\n",
              "      <td>0.0</td>\n",
              "      <td>0.0</td>\n",
              "      <td>0.0</td>\n",
              "      <td>11</td>\n",
              "    </tr>\n",
              "    <tr>\n",
              "      <th>8</th>\n",
              "      <td>+0+XaewkS3za58vHwKCVGwRYRvjig4lTtKDV/tOkzbU=</td>\n",
              "      <td>0.0</td>\n",
              "      <td>0.0</td>\n",
              "      <td>0.0</td>\n",
              "      <td>0.0</td>\n",
              "      <td>0.0</td>\n",
              "      <td>0.0</td>\n",
              "      <td>0.0</td>\n",
              "      <td>0.0</td>\n",
              "      <td>0.0</td>\n",
              "      <td>...</td>\n",
              "      <td>0.0</td>\n",
              "      <td>0.0</td>\n",
              "      <td>0.0</td>\n",
              "      <td>0.0</td>\n",
              "      <td>0.0</td>\n",
              "      <td>0.0</td>\n",
              "      <td>0.0</td>\n",
              "      <td>0.0</td>\n",
              "      <td>0.0</td>\n",
              "      <td>14</td>\n",
              "    </tr>\n",
              "    <tr>\n",
              "      <th>9</th>\n",
              "      <td>+06pc1V8QfywrGOTNln/7X7Md8dA8fVOIU37n2M5mv8=</td>\n",
              "      <td>0.0</td>\n",
              "      <td>0.0</td>\n",
              "      <td>0.0</td>\n",
              "      <td>0.0</td>\n",
              "      <td>0.0</td>\n",
              "      <td>0.0</td>\n",
              "      <td>0.0</td>\n",
              "      <td>0.0</td>\n",
              "      <td>0.0</td>\n",
              "      <td>...</td>\n",
              "      <td>0.0</td>\n",
              "      <td>0.0</td>\n",
              "      <td>0.0</td>\n",
              "      <td>0.0</td>\n",
              "      <td>0.0</td>\n",
              "      <td>0.0</td>\n",
              "      <td>0.0</td>\n",
              "      <td>0.0</td>\n",
              "      <td>0.0</td>\n",
              "      <td>9</td>\n",
              "    </tr>\n",
              "  </tbody>\n",
              "</table>\n",
              "<p>10 rows × 451 columns</p>\n",
              "</div>"
            ],
            "text/plain": [
              "genre_ids                                          msno  1000_count  \\\n",
              "0          ++5wYjoMgQHoRuD3GbbvmphZbBBwymzv5Q4l8sywtuU=         0.0   \n",
              "1          ++AH7m/EQ4iKe6wSlfO/xXAJx50p+fCeTyF90GoE9Pg=         0.0   \n",
              "2          ++e+jsxuQ8UEnmW40od9Rq3rW7+wAum4wooXyZTKJpk=         0.0   \n",
              "3          ++xWL5Pbi2CpG4uUugigQahauM0J/sBIRloTNPBybIU=         0.0   \n",
              "4          +/SKX44s4ryWQzYzuV7ZKMXqIKQMN1cPz3M8CJ8CFKU=         0.0   \n",
              "5          +/UwoUi5+rNj/F6RO6gMrMhOy0oTzs90MWKVNZs4+Wg=         0.0   \n",
              "6          +/tv7+daiSsEEBhNDnQZL32wdfmr2GSYmX2aQPGONRY=         0.0   \n",
              "7          +/vppV5BoMKMNAk7Bej5rjhKeE6VqrRjUv8EYXoAjyM=         0.0   \n",
              "8          +0+XaewkS3za58vHwKCVGwRYRvjig4lTtKDV/tOkzbU=         0.0   \n",
              "9          +06pc1V8QfywrGOTNln/7X7Md8dA8fVOIU37n2M5mv8=         0.0   \n",
              "\n",
              "genre_ids  1007_count  1011_count  1011|691_count  1019_count  1033_count  \\\n",
              "0                 0.0         0.0             0.0         0.0         0.0   \n",
              "1                 0.0         3.0             0.0         0.0         0.0   \n",
              "2                 0.0         0.0             0.0         0.0         0.0   \n",
              "3                 0.0         0.0             0.0         0.0         0.0   \n",
              "4                 0.0         1.0             0.0         0.0         0.0   \n",
              "5                 0.0         0.0             0.0         0.0         0.0   \n",
              "6                 0.0         0.0             0.0         0.0         0.0   \n",
              "7                 0.0         0.0             0.0         0.0         0.0   \n",
              "8                 0.0         0.0             0.0         0.0         0.0   \n",
              "9                 0.0         0.0             0.0         0.0         0.0   \n",
              "\n",
              "genre_ids  1040_count  1040|1155_count  1047_count   ...     958|2122_count  \\\n",
              "0                 0.0              0.0         0.0   ...                0.0   \n",
              "1                 0.0              0.0         0.0   ...                0.0   \n",
              "2                 0.0              0.0         0.0   ...                0.0   \n",
              "3                 0.0              0.0         0.0   ...                0.0   \n",
              "4                 0.0              0.0         0.0   ...                0.0   \n",
              "5                 0.0              0.0         0.0   ...                0.0   \n",
              "6                 0.0              0.0         0.0   ...                0.0   \n",
              "7                 0.0              0.0         0.0   ...                0.0   \n",
              "8                 0.0              0.0         0.0   ...                0.0   \n",
              "9                 0.0              0.0         0.0   ...                0.0   \n",
              "\n",
              "genre_ids  958|691_count  958|786_count  958|947_count  965_count  972_count  \\\n",
              "0                    0.0            0.0            0.0        0.0        0.0   \n",
              "1                    0.0            0.0            0.0        0.0        0.0   \n",
              "2                    0.0            0.0            0.0        0.0        0.0   \n",
              "3                    0.0            0.0            0.0        0.0        0.0   \n",
              "4                    0.0            0.0            0.0        0.0        0.0   \n",
              "5                    0.0            0.0            0.0        0.0        0.0   \n",
              "6                    0.0            0.0            0.0        0.0        0.0   \n",
              "7                    0.0            0.0            0.0        0.0        0.0   \n",
              "8                    0.0            0.0            0.0        0.0        0.0   \n",
              "9                    0.0            0.0            0.0        0.0        0.0   \n",
              "\n",
              "genre_ids  979_count  986_count  993|751_count  cluster  \n",
              "0                0.0        0.0            0.0        8  \n",
              "1                0.0        0.0            0.0        8  \n",
              "2                0.0        0.0            0.0        1  \n",
              "3                0.0        0.0            0.0       11  \n",
              "4                0.0        0.0            0.0        7  \n",
              "5                0.0        0.0            0.0        3  \n",
              "6                0.0        0.0            0.0       14  \n",
              "7                0.0        0.0            0.0       11  \n",
              "8                0.0        0.0            0.0       14  \n",
              "9                0.0        0.0            0.0        9  \n",
              "\n",
              "[10 rows x 451 columns]"
            ]
          },
          "metadata": {
            "tags": []
          },
          "execution_count": 84
        }
      ]
    },
    {
      "metadata": {
        "id": "j2sETKs7VbPd",
        "colab_type": "code",
        "outputId": "0265b33d-de9a-4883-8c49-40e01d6936c6",
        "colab": {
          "base_uri": "https://localhost:8080/",
          "height": 143
        }
      },
      "cell_type": "code",
      "source": [
        "print(metrics.classification_report(test_labels, pre))"
      ],
      "execution_count": 0,
      "outputs": [
        {
          "output_type": "stream",
          "text": [
            "             precision    recall  f1-score   support\n",
            "\n",
            "          0       0.57      0.64      0.60      2437\n",
            "          1       0.61      0.54      0.58      2563\n",
            "\n",
            "avg / total       0.59      0.59      0.59      5000\n",
            "\n"
          ],
          "name": "stdout"
        }
      ]
    }
  ]
}